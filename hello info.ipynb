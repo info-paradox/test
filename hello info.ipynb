{
  "nbformat": 4,
  "nbformat_minor": 0,
  "metadata": {
    "colab": {
      "name": "Untitled16.ipynb",
      "provenance": [],
      "toc_visible": true,
      "authorship_tag": "ABX9TyOUCDOp/7G9lJ9shIc6GHJQ",
      "include_colab_link": true
    },
    "kernelspec": {
      "name": "python3",
      "display_name": "Python 3"
    },
    "language_info": {
      "name": "python"
    }
  },
  "cells": [
    {
      "cell_type": "markdown",
      "metadata": {
        "id": "view-in-github",
        "colab_type": "text"
      },
      "source": [
        "<a href=\"https://colab.research.google.com/github/info-paradox/test/blob/main/hello%20info.ipynb\" target=\"_parent\"><img src=\"https://colab.research.google.com/assets/colab-badge.svg\" alt=\"Open In Colab\"/></a>"
      ]
    },
    {
      "cell_type": "markdown",
      "source": [
        "#Head"
      ],
      "metadata": {
        "id": "quNzw5Y9YhdG"
      }
    },
    {
      "cell_type": "code",
      "execution_count": 1,
      "metadata": {
        "colab": {
          "base_uri": "https://localhost:8080/"
        },
        "id": "s3bCwE8SXGM8",
        "outputId": "344ecd10-ecb7-4a27-988a-4e1462b0a1f7"
      },
      "outputs": [
        {
          "output_type": "stream",
          "name": "stdout",
          "text": [
            "hello info-paradox\n"
          ]
        }
      ],
      "source": [
        "print('hello info-paradox')"
      ]
    },
    {
      "cell_type": "markdown",
      "source": [
        "##main"
      ],
      "metadata": {
        "id": "rJTT9fMiYVl9"
      }
    },
    {
      "cell_type": "code",
      "source": [
        "print ('hello from main')"
      ],
      "metadata": {
        "colab": {
          "base_uri": "https://localhost:8080/"
        },
        "id": "ph0krZqdYYR3",
        "outputId": "a46c6529-0903-457a-e5ad-79ce1609947d"
      },
      "execution_count": 2,
      "outputs": [
        {
          "output_type": "stream",
          "name": "stdout",
          "text": [
            "hello from main\n"
          ]
        }
      ]
    },
    {
      "cell_type": "markdown",
      "source": [
        "##sub"
      ],
      "metadata": {
        "id": "x3LORG0OYZeK"
      }
    },
    {
      "cell_type": "code",
      "source": [
        ""
      ],
      "metadata": {
        "id": "B6HNb-SYYbQn"
      },
      "execution_count": null,
      "outputs": []
    }
  ]
}