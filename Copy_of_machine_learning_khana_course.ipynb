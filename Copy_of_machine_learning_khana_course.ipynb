{
  "nbformat": 4,
  "nbformat_minor": 0,
  "metadata": {
    "accelerator": "GPU",
    "colab": {
      "name": "Copy of machine learning khana course.ipynb",
      "provenance": [],
      "collapsed_sections": [
        "KUhJBfGXqRMr",
        "_I7RG65NwdU4",
        "XBmnMlyg5uD4",
        "ZjnSELv760Rf",
        "FtuZTK5aKv4i"
      ],
      "mount_file_id": "1e341sfYQYGQ1Fnq34CL_na4Pxj3SQ3DC",
      "authorship_tag": "ABX9TyPI87wX7JXwgunxiLmpNw6v",
      "include_colab_link": true
    },
    "kernelspec": {
      "display_name": "Python 3",
      "name": "python3"
    },
    "language_info": {
      "name": "python"
    }
  },
  "cells": [
    {
      "cell_type": "markdown",
      "metadata": {
        "id": "view-in-github",
        "colab_type": "text"
      },
      "source": [
        "<a href=\"https://colab.research.google.com/github/info-paradox/test/blob/main/Copy_of_machine_learning_khana_course.ipynb\" target=\"_parent\"><img src=\"https://colab.research.google.com/assets/colab-badge.svg\" alt=\"Open In Colab\"/></a>"
      ]
    },
    {
      "cell_type": "code",
      "metadata": {
        "colab": {
          "base_uri": "https://localhost:8080/"
        },
        "id": "8Ua0qAhmfT_r",
        "outputId": "0b5c977e-a217-4e27-86d7-34dc3fe9b8ee"
      },
      "source": [
        "1\n",
        "print ('git test')"
      ],
      "execution_count": 22,
      "outputs": [
        {
          "output_type": "stream",
          "name": "stdout",
          "text": [
            "git test\n"
          ]
        }
      ]
    },
    {
      "cell_type": "code",
      "metadata": {
        "id": "j550pA5EgEXe"
      },
      "source": [
        "#python"
      ],
      "execution_count": null,
      "outputs": []
    },
    {
      "cell_type": "code",
      "metadata": {
        "id": "mJOpUE5ugZ0l"
      },
      "source": [
        ""
      ],
      "execution_count": null,
      "outputs": []
    },
    {
      "cell_type": "markdown",
      "metadata": {
        "id": "uiUqzy-DhLi1"
      },
      "source": [
        "#python"
      ]
    },
    {
      "cell_type": "code",
      "metadata": {
        "id": "U20pft7EhNyT"
      },
      "source": [
        "a=1\n",
        "a='hello'"
      ],
      "execution_count": 1,
      "outputs": []
    },
    {
      "cell_type": "markdown",
      "metadata": {
        "id": "CL1se6Uthfmb"
      },
      "source": [
        "#Data types"
      ]
    },
    {
      "cell_type": "code",
      "metadata": {
        "id": "B6endfC1Ptu3",
        "colab": {
          "base_uri": "https://localhost:8080/"
        },
        "outputId": "eb027175-36cc-4aad-e163-f47e2181bd8c"
      },
      "source": [
        "print('hello')"
      ],
      "execution_count": 2,
      "outputs": [
        {
          "output_type": "stream",
          "name": "stdout",
          "text": [
            "hello\n"
          ]
        }
      ]
    },
    {
      "cell_type": "markdown",
      "metadata": {
        "id": "Mwzle-ZmPq3p"
      },
      "source": [
        "# new datatype"
      ]
    },
    {
      "cell_type": "code",
      "metadata": {
        "colab": {
          "base_uri": "https://localhost:8080/"
        },
        "id": "DSSUJPzHhh-Y",
        "outputId": "6244a5e2-ea94-409b-cbad-65acbe83eece"
      },
      "source": [
        "print(type(a))"
      ],
      "execution_count": 3,
      "outputs": [
        {
          "output_type": "stream",
          "name": "stdout",
          "text": [
            "<class 'str'>\n"
          ]
        }
      ]
    },
    {
      "cell_type": "code",
      "metadata": {
        "colab": {
          "base_uri": "https://localhost:8080/"
        },
        "id": "HtkLnhDihu-P",
        "outputId": "c76eb913-c21d-49bf-a597-79cc7e1e7008"
      },
      "source": [
        "print(type(a),': ',a)"
      ],
      "execution_count": 4,
      "outputs": [
        {
          "output_type": "stream",
          "name": "stdout",
          "text": [
            "<class 'str'> :  hello\n"
          ]
        }
      ]
    },
    {
      "cell_type": "code",
      "metadata": {
        "colab": {
          "base_uri": "https://localhost:8080/"
        },
        "id": "4toEc8LPjDYL",
        "outputId": "70dc87fc-155c-4272-8b55-6bcc3c8b28a1"
      },
      "source": [
        "1+3-2-1"
      ],
      "execution_count": 5,
      "outputs": [
        {
          "output_type": "execute_result",
          "data": {
            "text/plain": [
              "1"
            ]
          },
          "metadata": {},
          "execution_count": 5
        }
      ]
    },
    {
      "cell_type": "code",
      "metadata": {
        "colab": {
          "base_uri": "https://localhost:8080/"
        },
        "id": "QY2TyuHqjOYS",
        "outputId": "b3892c39-f7a3-4adc-a404-ba14f6a755b1"
      },
      "source": [
        "4*2.0"
      ],
      "execution_count": 6,
      "outputs": [
        {
          "output_type": "execute_result",
          "data": {
            "text/plain": [
              "8.0"
            ]
          },
          "metadata": {},
          "execution_count": 6
        }
      ]
    },
    {
      "cell_type": "code",
      "metadata": {
        "colab": {
          "base_uri": "https://localhost:8080/"
        },
        "id": "YMrKrKxvjUy1",
        "outputId": "0252ae2b-07c9-4c4e-b3b0-6b26bef3369c"
      },
      "source": [
        "5/2"
      ],
      "execution_count": 7,
      "outputs": [
        {
          "output_type": "execute_result",
          "data": {
            "text/plain": [
              "2.5"
            ]
          },
          "metadata": {},
          "execution_count": 7
        }
      ]
    },
    {
      "cell_type": "code",
      "metadata": {
        "colab": {
          "base_uri": "https://localhost:8080/"
        },
        "id": "rmNEl1w7jYpn",
        "outputId": "316b8bd3-2fde-485e-d428-b4c8f91ac8cd"
      },
      "source": [
        "# int divide\n",
        "5//2\n",
        "# \n",
        "\n",
        "5**2\n",
        "\n",
        "4E1"
      ],
      "execution_count": 8,
      "outputs": [
        {
          "output_type": "execute_result",
          "data": {
            "text/plain": [
              "40.0"
            ]
          },
          "metadata": {},
          "execution_count": 8
        }
      ]
    },
    {
      "cell_type": "code",
      "metadata": {
        "colab": {
          "base_uri": "https://localhost:8080/"
        },
        "id": "0jBTS1R2jaQi",
        "outputId": "ea9d87b9-d875-49fb-bf9e-e121fb1dd83f"
      },
      "source": [
        "print('heloo \"heloodsd\"')"
      ],
      "execution_count": 9,
      "outputs": [
        {
          "output_type": "stream",
          "name": "stdout",
          "text": [
            "heloo \"heloodsd\"\n"
          ]
        }
      ]
    },
    {
      "cell_type": "code",
      "metadata": {
        "colab": {
          "base_uri": "https://localhost:8080/"
        },
        "id": "LHhh6mmXkXKO",
        "outputId": "61afbde8-cac2-4460-88ba-c09bd1465bdd"
      },
      "source": [
        "print(\"hello \\\"hello\\\"\")\n",
        "print (\"hello back slash \\nnew line\")\n",
        "print (r\"hello back slash \\nnew line\")"
      ],
      "execution_count": 10,
      "outputs": [
        {
          "output_type": "stream",
          "name": "stdout",
          "text": [
            "hello \"hello\"\n",
            "hello back slash \n",
            "new line\n",
            "hello back slash \\nnew line\n"
          ]
        }
      ]
    },
    {
      "cell_type": "code",
      "metadata": {
        "colab": {
          "base_uri": "https://localhost:8080/"
        },
        "id": "sBqKU-dskvZT",
        "outputId": "5d061726-32d5-4261-f5b2-28e509cacae7"
      },
      "source": [
        "#multiline\n",
        "print ( \"\"\"\n",
        "line 1\n",
        "line 2\\\n",
        "line 3\n",
        "\"\"\")\n",
        "v=1\n",
        "print (f'{v} is {type(v)}')"
      ],
      "execution_count": 11,
      "outputs": [
        {
          "output_type": "stream",
          "name": "stdout",
          "text": [
            "\n",
            "line 1\n",
            "line 2line 3\n",
            "\n",
            "1 is <class 'int'>\n"
          ]
        }
      ]
    },
    {
      "cell_type": "code",
      "metadata": {
        "colab": {
          "base_uri": "https://localhost:8080/",
          "height": 35
        },
        "id": "BNFApUIBlcAD",
        "outputId": "182b1db3-0343-43e7-d03a-2cdabd3802f1"
      },
      "source": [
        "s='this lilne'+str(4)+'helo'\n",
        "b='is complete'\n",
        "s+b"
      ],
      "execution_count": 12,
      "outputs": [
        {
          "output_type": "execute_result",
          "data": {
            "text/plain": [
              "'this lilne4helois complete'"
            ],
            "application/vnd.google.colaboratory.intrinsic+json": {
              "type": "string"
            }
          },
          "metadata": {},
          "execution_count": 12
        }
      ]
    },
    {
      "cell_type": "code",
      "metadata": {
        "colab": {
          "base_uri": "https://localhost:8080/",
          "height": 35
        },
        "id": "imj6G-TgmXvK",
        "outputId": "7efeca80-b2c8-4579-d755-ec051baec899"
      },
      "source": [
        "s='he' 'is ' 'smart'\n",
        "s"
      ],
      "execution_count": 13,
      "outputs": [
        {
          "output_type": "execute_result",
          "data": {
            "text/plain": [
              "'heis smart'"
            ],
            "application/vnd.google.colaboratory.intrinsic+json": {
              "type": "string"
            }
          },
          "metadata": {},
          "execution_count": 13
        }
      ]
    },
    {
      "cell_type": "code",
      "metadata": {
        "colab": {
          "base_uri": "https://localhost:8080/"
        },
        "id": "AIrZYL-knNrg",
        "outputId": "86f1cd4f-cb31-4e77-c37d-47dac13b83cb"
      },
      "source": [
        "print('here are some thinks','helroe')"
      ],
      "execution_count": 14,
      "outputs": [
        {
          "output_type": "stream",
          "name": "stdout",
          "text": [
            "here are some thinks helroe\n"
          ]
        }
      ]
    },
    {
      "cell_type": "code",
      "metadata": {
        "colab": {
          "base_uri": "https://localhost:8080/"
        },
        "id": "o_xgsIvPnrMo",
        "outputId": "f9477df3-993d-4df3-ab3b-ca169abe2aa1"
      },
      "source": [
        "string1='hello world how do you do'\n",
        "print(string1)\n",
        "spl=string1.split()\n",
        "print(spl)\n",
        "joined=','.join(spl)\n",
        "print(f\" joined is {joined}\")\n",
        "spl=joined.split(',')\n",
        "print(spl)"
      ],
      "execution_count": 15,
      "outputs": [
        {
          "output_type": "stream",
          "name": "stdout",
          "text": [
            "hello world how do you do\n",
            "['hello', 'world', 'how', 'do', 'you', 'do']\n",
            " joined is hello,world,how,do,you,do\n",
            "['hello', 'world', 'how', 'do', 'you', 'do']\n"
          ]
        }
      ]
    },
    {
      "cell_type": "code",
      "metadata": {
        "colab": {
          "base_uri": "https://localhost:8080/"
        },
        "id": "0qjpWZxUtwl8",
        "outputId": "7a9ba2ed-d046-4e4f-dbf5-1218bce0d2de"
      },
      "source": [
        "print(spl)"
      ],
      "execution_count": 16,
      "outputs": [
        {
          "output_type": "stream",
          "name": "stdout",
          "text": [
            "['hello', 'world', 'how', 'do', 'you', 'do']\n"
          ]
        }
      ]
    },
    {
      "cell_type": "code",
      "metadata": {
        "colab": {
          "base_uri": "https://localhost:8080/"
        },
        "id": "-SpruA2Atzv8",
        "outputId": "58e85747-063c-44ae-893e-1382b778f972"
      },
      "source": [
        "print(1 and True)\n",
        "print(True and 66)\n",
        "print ( True and \"aa\")\n",
        "print (True or \"aa\")\n",
        "print(True or {})\n",
        "print (not[])\n",
        "print(True and ())"
      ],
      "execution_count": 17,
      "outputs": [
        {
          "output_type": "stream",
          "name": "stdout",
          "text": [
            "True\n",
            "66\n",
            "aa\n",
            "True\n",
            "True\n",
            "True\n",
            "()\n"
          ]
        }
      ]
    },
    {
      "cell_type": "code",
      "metadata": {
        "colab": {
          "base_uri": "https://localhost:8080/"
        },
        "id": "f4ZnjyFbxxIB",
        "outputId": "b830afaf-20e7-44ea-a6d1-dd1261ce0a1a"
      },
      "source": [
        "True and 1"
      ],
      "execution_count": 21,
      "outputs": [
        {
          "output_type": "execute_result",
          "data": {
            "text/plain": [
              "1"
            ]
          },
          "metadata": {},
          "execution_count": 21
        }
      ]
    },
    {
      "cell_type": "code",
      "metadata": {
        "colab": {
          "base_uri": "https://localhost:8080/"
        },
        "id": "1rccQ7XpP9Dt",
        "outputId": "0876c6b5-0af4-47ef-af89-cd2b0545be74"
      },
      "source": [
        "print(66 and True)"
      ],
      "execution_count": 19,
      "outputs": [
        {
          "output_type": "stream",
          "name": "stdout",
          "text": [
            "True\n"
          ]
        }
      ]
    },
    {
      "cell_type": "code",
      "metadata": {
        "colab": {
          "base_uri": "https://localhost:8080/"
        },
        "id": "ctD8CeLpQHiR",
        "outputId": "112133ef-fb74-4e1e-b9fa-937643863147"
      },
      "source": [
        "'aa' and True"
      ],
      "execution_count": 20,
      "outputs": [
        {
          "output_type": "execute_result",
          "data": {
            "text/plain": [
              "True"
            ]
          },
          "metadata": {},
          "execution_count": 20
        }
      ]
    },
    {
      "cell_type": "markdown",
      "metadata": {
        "id": "G0IjtIqEpfzl"
      },
      "source": [
        ""
      ]
    },
    {
      "cell_type": "code",
      "metadata": {
        "colab": {
          "base_uri": "https://localhost:8080/"
        },
        "id": "uDtVS-daQMXa",
        "outputId": "71f1c8b4-a670-4641-9e07-b802fd09df35"
      },
      "source": [
        "True or {}"
      ],
      "execution_count": null,
      "outputs": [
        {
          "data": {
            "text/plain": [
              "True"
            ]
          },
          "execution_count": 4,
          "metadata": {},
          "output_type": "execute_result"
        }
      ]
    },
    {
      "cell_type": "code",
      "metadata": {
        "id": "ZFVk_cYyQSMa"
      },
      "source": [
        ""
      ],
      "execution_count": null,
      "outputs": []
    },
    {
      "cell_type": "markdown",
      "metadata": {
        "id": "h3vN5oEXph13"
      },
      "source": [
        "#tuples and dictionaries"
      ]
    },
    {
      "cell_type": "code",
      "metadata": {
        "colab": {
          "base_uri": "https://localhost:8080/"
        },
        "id": "xTR1ACG4pmWu",
        "outputId": "499861ac-8c44-48e4-ebe2-ceece91dc9e9"
      },
      "source": [
        "a='hello','bellow','cellow'\n",
        "print(a)"
      ],
      "execution_count": null,
      "outputs": [
        {
          "name": "stdout",
          "output_type": "stream",
          "text": [
            "('hello', 'bellow', 'cellow')\n"
          ]
        }
      ]
    },
    {
      "cell_type": "markdown",
      "metadata": {
        "id": "KUhJBfGXqRMr"
      },
      "source": [
        "#dictionaries\n",
        "this is an example of dictionary"
      ]
    },
    {
      "cell_type": "code",
      "metadata": {
        "colab": {
          "base_uri": "https://localhost:8080/"
        },
        "id": "6qASKCEQpwiV",
        "outputId": "4f43d5de-0562-4af2-9f6c-13377aa47ad7"
      },
      "source": [
        "dic={'one':1,'two':2,'three':'3'}\n",
        "print(f\"dic['one']= {dic['one']}\")"
      ],
      "execution_count": null,
      "outputs": [
        {
          "name": "stdout",
          "output_type": "stream",
          "text": [
            "dic['one']= 1\n"
          ]
        }
      ]
    },
    {
      "cell_type": "code",
      "metadata": {
        "id": "GSvWIdRWuFvK"
      },
      "source": [
        ""
      ],
      "execution_count": null,
      "outputs": []
    },
    {
      "cell_type": "code",
      "metadata": {
        "colab": {
          "base_uri": "https://localhost:8080/",
          "height": 319
        },
        "id": "SjFjsOPgqOjI",
        "outputId": "10c2524f-d8be-4c8c-8c80-20209e20b823"
      },
      "source": [
        "x=(1,2,3)\n",
        "y=(1,2,3)\n",
        "v=x\n",
        "print (x==y)\n",
        "print(x is y)\n",
        "print(x is v)\n",
        "\n",
        "x='hello'\n",
        "\n",
        "#id method\n",
        "print(id(x))\n",
        "print(id(y))\n",
        "print(id(z))\n",
        "print(id(w))"
      ],
      "execution_count": null,
      "outputs": [
        {
          "name": "stdout",
          "output_type": "stream",
          "text": [
            "True\n",
            "False\n",
            "True\n",
            "140690363762160\n",
            "140690373960320\n"
          ]
        },
        {
          "ename": "NameError",
          "evalue": "ignored",
          "output_type": "error",
          "traceback": [
            "\u001b[0;31m---------------------------------------------------------------------------\u001b[0m",
            "\u001b[0;31mNameError\u001b[0m                                 Traceback (most recent call last)",
            "\u001b[0;32m<ipython-input-5-b8d3d4081121>\u001b[0m in \u001b[0;36m<module>\u001b[0;34m()\u001b[0m\n\u001b[1;32m     11\u001b[0m \u001b[0mprint\u001b[0m\u001b[0;34m(\u001b[0m\u001b[0mid\u001b[0m\u001b[0;34m(\u001b[0m\u001b[0mx\u001b[0m\u001b[0;34m)\u001b[0m\u001b[0;34m)\u001b[0m\u001b[0;34m\u001b[0m\u001b[0;34m\u001b[0m\u001b[0m\n\u001b[1;32m     12\u001b[0m \u001b[0mprint\u001b[0m\u001b[0;34m(\u001b[0m\u001b[0mid\u001b[0m\u001b[0;34m(\u001b[0m\u001b[0my\u001b[0m\u001b[0;34m)\u001b[0m\u001b[0;34m)\u001b[0m\u001b[0;34m\u001b[0m\u001b[0;34m\u001b[0m\u001b[0m\n\u001b[0;32m---> 13\u001b[0;31m \u001b[0mprint\u001b[0m\u001b[0;34m(\u001b[0m\u001b[0mid\u001b[0m\u001b[0;34m(\u001b[0m\u001b[0mz\u001b[0m\u001b[0;34m)\u001b[0m\u001b[0;34m)\u001b[0m\u001b[0;34m\u001b[0m\u001b[0;34m\u001b[0m\u001b[0m\n\u001b[0m\u001b[1;32m     14\u001b[0m \u001b[0mprint\u001b[0m\u001b[0;34m(\u001b[0m\u001b[0mid\u001b[0m\u001b[0;34m(\u001b[0m\u001b[0mw\u001b[0m\u001b[0;34m)\u001b[0m\u001b[0;34m)\u001b[0m\u001b[0;34m\u001b[0m\u001b[0;34m\u001b[0m\u001b[0m\n",
            "\u001b[0;31mNameError\u001b[0m: name 'z' is not defined"
          ]
        }
      ]
    },
    {
      "cell_type": "markdown",
      "metadata": {
        "id": "FOosxXCIsgzD"
      },
      "source": [
        "x=1"
      ]
    },
    {
      "cell_type": "code",
      "metadata": {
        "colab": {
          "base_uri": "https://localhost:8080/"
        },
        "id": "1laQSGamuJCC",
        "outputId": "b634d86f-a8ed-4976-970c-30aabdb92ca4"
      },
      "source": [
        "x=1\n",
        "s=str(x)\n",
        "s_float=float(x)\n",
        "print(f\"x : {x} , float x = {s_float}\")"
      ],
      "execution_count": null,
      "outputs": [
        {
          "name": "stdout",
          "output_type": "stream",
          "text": [
            "x : 1 , float x = 1.0\n"
          ]
        }
      ]
    },
    {
      "cell_type": "code",
      "metadata": {
        "id": "iMcftV05uL9w"
      },
      "source": [
        ""
      ],
      "execution_count": null,
      "outputs": []
    },
    {
      "cell_type": "markdown",
      "metadata": {
        "id": "_I7RG65NwdU4"
      },
      "source": [
        "#list"
      ]
    },
    {
      "cell_type": "code",
      "metadata": {
        "colab": {
          "base_uri": "https://localhost:8080/"
        },
        "id": "UhBtej-5wen6",
        "outputId": "83f3ad62-a7e0-4601-b65c-c5d8b5d034e3"
      },
      "source": [
        "list_1=[1,2,3,'hi',str,print('hello')]"
      ],
      "execution_count": null,
      "outputs": [
        {
          "name": "stdout",
          "output_type": "stream",
          "text": [
            "hello\n"
          ]
        }
      ]
    },
    {
      "cell_type": "code",
      "metadata": {
        "colab": {
          "base_uri": "https://localhost:8080/"
        },
        "id": "3NA8EYgqwsgh",
        "outputId": "91a94f82-31af-487e-c761-2b024659e29a"
      },
      "source": [
        "print(list_1)"
      ],
      "execution_count": null,
      "outputs": [
        {
          "name": "stdout",
          "output_type": "stream",
          "text": [
            "[1, 2, 3, 'hi', <class 'str'>, None]\n"
          ]
        }
      ]
    },
    {
      "cell_type": "code",
      "metadata": {
        "id": "nZsS7olmww5C"
      },
      "source": [
        "list_1[4:]=['hello','world']"
      ],
      "execution_count": null,
      "outputs": []
    },
    {
      "cell_type": "code",
      "metadata": {
        "colab": {
          "base_uri": "https://localhost:8080/"
        },
        "id": "2tFp17MQxi2P",
        "outputId": "1b0aafc3-eff8-499e-deb5-72c1a32b5b74"
      },
      "source": [
        "a=[1,2,3]\n",
        "b=[4,5,6]\n",
        "c=a+b\n",
        "print(c)"
      ],
      "execution_count": null,
      "outputs": [
        {
          "name": "stdout",
          "output_type": "stream",
          "text": [
            "[1, 2, 3, 4, 5, 6]\n"
          ]
        }
      ]
    },
    {
      "cell_type": "code",
      "metadata": {
        "id": "STrsf67_x6Pp"
      },
      "source": [
        "v=c.copy()"
      ],
      "execution_count": null,
      "outputs": []
    },
    {
      "cell_type": "code",
      "metadata": {
        "id": "lWDg5FfFzPRD"
      },
      "source": [
        "a=[]\n",
        "a.append(1)"
      ],
      "execution_count": null,
      "outputs": []
    },
    {
      "cell_type": "code",
      "metadata": {
        "colab": {
          "base_uri": "https://localhost:8080/"
        },
        "id": "BIdE53R1zp2Y",
        "outputId": "6c7ac0e6-a3dd-43a4-a8b6-b6193a86c211"
      },
      "source": [
        "a.append([1,2,3])\n",
        "print (a)"
      ],
      "execution_count": null,
      "outputs": [
        {
          "name": "stdout",
          "output_type": "stream",
          "text": [
            "[1, [1, 2, 3]]\n"
          ]
        }
      ]
    },
    {
      "cell_type": "code",
      "metadata": {
        "colab": {
          "base_uri": "https://localhost:8080/"
        },
        "id": "HxciSqvY0AsH",
        "outputId": "148be7d6-abc3-429b-cbf6-45e589392eef"
      },
      "source": [
        "a=[10,20,30,11]\n",
        "print(a)\n",
        "a.sort()\n",
        "print(a.sort())\n",
        "print (sorted(a))"
      ],
      "execution_count": null,
      "outputs": [
        {
          "name": "stdout",
          "output_type": "stream",
          "text": [
            "[10, 20, 30, 11]\n"
          ]
        }
      ]
    },
    {
      "cell_type": "code",
      "metadata": {
        "colab": {
          "base_uri": "https://localhost:8080/"
        },
        "id": "s56-dLtW1Znw",
        "outputId": "57078759-9c88-4982-8fb8-914498e8e002"
      },
      "source": [
        "a=[1,2,4,5,6]\n",
        "a.insert(2,3)\n",
        "six=a.pop()\n",
        "print(a)\n",
        "print(six)\n"
      ],
      "execution_count": null,
      "outputs": [
        {
          "name": "stdout",
          "output_type": "stream",
          "text": [
            "[1, 2, 3, 4, 5]\n",
            "6\n"
          ]
        }
      ]
    },
    {
      "cell_type": "code",
      "metadata": {
        "id": "KnZ42_i64RqR"
      },
      "source": [
        ""
      ],
      "execution_count": null,
      "outputs": []
    },
    {
      "cell_type": "markdown",
      "metadata": {
        "id": "XBmnMlyg5uD4"
      },
      "source": [
        "#tuples"
      ]
    },
    {
      "cell_type": "code",
      "metadata": {
        "id": "Vrtq2kPq5v_k"
      },
      "source": [
        "a=(1,2,3)\n"
      ],
      "execution_count": null,
      "outputs": []
    },
    {
      "cell_type": "markdown",
      "metadata": {
        "id": "aBYTY8AB6tiW"
      },
      "source": [
        ""
      ]
    },
    {
      "cell_type": "markdown",
      "metadata": {
        "id": "ZjnSELv760Rf"
      },
      "source": [
        "#sets"
      ]
    },
    {
      "cell_type": "code",
      "metadata": {
        "colab": {
          "base_uri": "https://localhost:8080/"
        },
        "id": "NLrsxd2Z61xa",
        "outputId": "300c350c-6339-41bb-9ce4-e5567546a69f"
      },
      "source": [
        "set_1={1,2,3,4,5,5}\n",
        "print(set_1)"
      ],
      "execution_count": null,
      "outputs": [
        {
          "name": "stdout",
          "output_type": "stream",
          "text": [
            "{1, 2, 3, 4, 5}\n"
          ]
        }
      ]
    },
    {
      "cell_type": "code",
      "metadata": {
        "id": "yczfycZ76-bj"
      },
      "source": [
        "set_2=set([1,22,22,33])\n"
      ],
      "execution_count": null,
      "outputs": []
    },
    {
      "cell_type": "code",
      "metadata": {
        "id": "ECArkooa7TWi"
      },
      "source": [
        ""
      ],
      "execution_count": null,
      "outputs": []
    },
    {
      "cell_type": "markdown",
      "metadata": {
        "id": "zO8sP7qJ93xT"
      },
      "source": [
        "#dictionary"
      ]
    },
    {
      "cell_type": "code",
      "metadata": {
        "colab": {
          "base_uri": "https://localhost:8080/"
        },
        "id": "whv6wKl6959F",
        "outputId": "f476b234-2d71-465b-fea5-80a170bab7f6"
      },
      "source": [
        "dict1={'ali':123,'blue':213123}\n",
        "dict1"
      ],
      "execution_count": null,
      "outputs": [
        {
          "data": {
            "text/plain": [
              "{'ali': 123, 'blue': 213123}"
            ]
          },
          "execution_count": 23,
          "metadata": {},
          "output_type": "execute_result"
        }
      ]
    },
    {
      "cell_type": "code",
      "metadata": {
        "id": "d_0y3eCC-BQc"
      },
      "source": [
        "dict1['ali']=1234"
      ],
      "execution_count": null,
      "outputs": []
    },
    {
      "cell_type": "code",
      "metadata": {
        "id": "yNHw5e3w-W3c"
      },
      "source": [
        "dict1['ahmedd']=1234"
      ],
      "execution_count": null,
      "outputs": []
    },
    {
      "cell_type": "code",
      "metadata": {
        "id": "l2qRlsyq-iDK"
      },
      "source": [
        "students={}"
      ],
      "execution_count": null,
      "outputs": []
    },
    {
      "cell_type": "code",
      "metadata": {
        "colab": {
          "base_uri": "https://localhost:8080/"
        },
        "id": "Fh2W2rXc-tx0",
        "outputId": "f08f362b-782d-48a0-d30d-b6d004600a02"
      },
      "source": [
        "id=input('write the student id :')"
      ],
      "execution_count": null,
      "outputs": [
        {
          "name": "stdout",
          "output_type": "stream",
          "text": [
            "write the student id :1\n"
          ]
        }
      ]
    },
    {
      "cell_type": "markdown",
      "metadata": {
        "id": "ngIuf52iTOBE"
      },
      "source": [
        ""
      ]
    },
    {
      "cell_type": "code",
      "metadata": {
        "colab": {
          "base_uri": "https://localhost:8080/",
          "height": 36
        },
        "id": "9LWHTM4a-45E",
        "outputId": "016bda06-a393-4ce9-d4e8-7399ccbce47f"
      },
      "source": [
        "id"
      ],
      "execution_count": null,
      "outputs": [
        {
          "data": {
            "application/vnd.google.colaboratory.intrinsic+json": {
              "type": "string"
            },
            "text/plain": [
              "'1'"
            ]
          },
          "execution_count": 31,
          "metadata": {},
          "output_type": "execute_result"
        }
      ]
    },
    {
      "cell_type": "code",
      "metadata": {
        "colab": {
          "base_uri": "https://localhost:8080/"
        },
        "id": "Ysz6G-UH-7qk",
        "outputId": "a4b47636-9ab7-4dad-ff8e-7adab9800242"
      },
      "source": [
        "id=input('write the student id :')\n",
        "name=input('write the student name :')\n",
        "age=int(input('input the student age'))\n"
      ],
      "execution_count": null,
      "outputs": [
        {
          "name": "stdout",
          "output_type": "stream",
          "text": [
            "write the student id :2\n",
            "write the student name :ali\n",
            "input the student age23\n"
          ]
        }
      ]
    },
    {
      "cell_type": "code",
      "metadata": {
        "id": "vf3y78Bv_-NJ"
      },
      "source": [
        "students[id]={'name':name,'age':age}"
      ],
      "execution_count": null,
      "outputs": []
    },
    {
      "cell_type": "code",
      "metadata": {
        "colab": {
          "base_uri": "https://localhost:8080/"
        },
        "id": "FSv0UzkJAYpl",
        "outputId": "ade15c8c-3be4-4475-b59a-128b20e7176d"
      },
      "source": [
        "print (students)"
      ],
      "execution_count": null,
      "outputs": [
        {
          "name": "stdout",
          "output_type": "stream",
          "text": [
            "{'2': {'name': 'ali', 'age': 23}}\n"
          ]
        }
      ]
    },
    {
      "cell_type": "code",
      "metadata": {
        "id": "gOgBJ7IwAdyV"
      },
      "source": [
        ""
      ],
      "execution_count": null,
      "outputs": []
    },
    {
      "cell_type": "markdown",
      "metadata": {
        "id": "85TvU9NGTQw3"
      },
      "source": [
        "#function\n"
      ]
    },
    {
      "cell_type": "code",
      "metadata": {
        "colab": {
          "base_uri": "https://localhost:8080/"
        },
        "id": "HZfnIfbRTVxt",
        "outputId": "7c7a804d-e9e0-4702-aa7f-b49dcc0f4070"
      },
      "source": [
        "def squared_diff(a,b):\n",
        "  temp=a-b\n",
        "  return temp**2\n",
        "\n",
        "def trivial():\n",
        "  a=10\n",
        "  print(a)\n",
        "#print(trivial())\n",
        "\n",
        "def outer(a):\n",
        "  def inner(b):\n",
        "    return a+b\n",
        "  x=inner\n",
        "  return(x)\n",
        "y=outer(7)(3)\n",
        "y"
      ],
      "execution_count": null,
      "outputs": [
        {
          "data": {
            "text/plain": [
              "10"
            ]
          },
          "execution_count": 7,
          "metadata": {},
          "output_type": "execute_result"
        }
      ]
    },
    {
      "cell_type": "code",
      "metadata": {
        "colab": {
          "base_uri": "https://localhost:8080/"
        },
        "id": "iwFT5u5RT3pD",
        "outputId": "4e8c6ee8-e025-4ab9-b14a-bdfdc4cf3496"
      },
      "source": [
        "test=squared_diff(10,5)\n",
        "sq_d=squared_diff\n",
        "sq_d(10,5)"
      ],
      "execution_count": null,
      "outputs": [
        {
          "data": {
            "text/plain": [
              "25"
            ]
          },
          "execution_count": 4,
          "metadata": {},
          "output_type": "execute_result"
        }
      ]
    },
    {
      "cell_type": "code",
      "metadata": {
        "colab": {
          "base_uri": "https://localhost:8080/"
        },
        "id": "jvvXNQ3VXivR",
        "outputId": "1ff72bf2-42be-4518-8147-80de4755f2c3"
      },
      "source": [
        "def f1(a=19,b=20,c=30):\n",
        "  return a+b+c\n",
        "f1()"
      ],
      "execution_count": null,
      "outputs": [
        {
          "data": {
            "text/plain": [
              "69"
            ]
          },
          "execution_count": 9,
          "metadata": {},
          "output_type": "execute_result"
        }
      ]
    },
    {
      "cell_type": "code",
      "metadata": {
        "colab": {
          "base_uri": "https://localhost:8080/"
        },
        "id": "z4hrixaVURTh",
        "outputId": "99259f51-858f-4466-911d-019368476a69"
      },
      "source": [
        "def f2(ele,thelist=[]):\n",
        "  thelist.append(ele)\n",
        "  return thelist\n",
        "f2(1)\n"
      ],
      "execution_count": null,
      "outputs": [
        {
          "data": {
            "text/plain": [
              "[1]"
            ]
          },
          "execution_count": 10,
          "metadata": {},
          "output_type": "execute_result"
        }
      ]
    },
    {
      "cell_type": "code",
      "metadata": {
        "id": "mpfLQ1CPYxPv"
      },
      "source": [
        "def f4(arg1,arg2,*more_positional_args,c=10,**keyword_args):# *=tuple ,**=dictionary\n",
        "    "
      ],
      "execution_count": null,
      "outputs": []
    },
    {
      "cell_type": "code",
      "metadata": {
        "id": "Fz_uUzVDaB_h"
      },
      "source": [
        "def f5(a):\n",
        "  x=lambda b,c:b**a+c\n",
        "  return x\n",
        "f5(5)(2,5)"
      ],
      "execution_count": null,
      "outputs": []
    },
    {
      "cell_type": "code",
      "metadata": {
        "id": "4Isi_Vmabla1"
      },
      "source": [
        "a=10\n",
        "def f6():\n",
        "  #l2\n",
        "  b=a\n",
        "  print(a)\n",
        "  print (b)\n",
        "a=20\n"
      ],
      "execution_count": null,
      "outputs": []
    },
    {
      "cell_type": "code",
      "metadata": {
        "id": "gSZGoAincHkm"
      },
      "source": [
        "e=2\n",
        "def f7():\n",
        "  x=lambda b:b**e\n",
        "  return x\n",
        "exp=f7()\n",
        "print"
      ],
      "execution_count": null,
      "outputs": []
    },
    {
      "cell_type": "code",
      "metadata": {
        "id": "6Xo6dWgydl8o"
      },
      "source": [
        "a='hi'\n",
        "def f7():\n",
        "  a='ali'\n",
        "f7()\n",
        "print(a)"
      ],
      "execution_count": null,
      "outputs": []
    },
    {
      "cell_type": "markdown",
      "metadata": {
        "id": "ysdhRmsAhEOY"
      },
      "source": [
        "#if statments"
      ]
    },
    {
      "cell_type": "code",
      "metadata": {
        "colab": {
          "base_uri": "https://localhost:8080/"
        },
        "id": "c2IVV1LJhCM4",
        "outputId": "95f65ad8-8da6-4399-f9cb-57420b66662a"
      },
      "source": [
        "def number_test(x):\n",
        "  if x>10:\n",
        "    print('value'+str(c)+' is >10')\n",
        "  elif x>=7 and x<10:\n",
        "    print ('other')\n",
        "\n",
        "string='hello world'\n",
        "length=len(string)\n",
        "i=0\n",
        "while i<length:\n",
        "  print(string[i])\n",
        "  i=i+1\n",
        "\n",
        "for i in range(10):\n",
        "  print(i)\n",
        "a=[1,2,3,4]\n",
        "for i in a:\n",
        "  print(i)\n",
        "\n",
        "a='hello world'\n",
        "for i in a:\n",
        "  print(i)\n",
        "\n"
      ],
      "execution_count": null,
      "outputs": [
        {
          "name": "stdout",
          "output_type": "stream",
          "text": [
            "h\n",
            "e\n",
            "l\n",
            "l\n",
            "o\n",
            " \n",
            "w\n",
            "o\n",
            "r\n",
            "l\n",
            "d\n",
            "0\n",
            "1\n",
            "2\n",
            "3\n",
            "4\n",
            "5\n",
            "6\n",
            "7\n",
            "8\n",
            "9\n",
            "1\n",
            "2\n",
            "3\n",
            "4\n",
            "h\n",
            "e\n",
            "l\n",
            "l\n",
            "o\n",
            " \n",
            "w\n",
            "o\n",
            "r\n",
            "l\n",
            "d\n"
          ]
        }
      ]
    },
    {
      "cell_type": "code",
      "metadata": {
        "id": "bWhSwS5mkYcv"
      },
      "source": [
        "a='hello world'\n",
        "def w_n(w):\n",
        "  w=set(w)\n",
        "  print(w)\n",
        "  w_to_n={}\n",
        "  n_to_w={}\n",
        "  for i,w in enumerate(w):\n",
        "    \n",
        "\n",
        "w_n(a)\n"
      ],
      "execution_count": null,
      "outputs": []
    },
    {
      "cell_type": "markdown",
      "metadata": {
        "id": "9dwUTwIWbGu9"
      },
      "source": [
        "##find words assignment\n"
      ]
    },
    {
      "cell_type": "code",
      "metadata": {
        "colab": {
          "base_uri": "https://localhost:8080/"
        },
        "id": "MSG3s8egbbjp",
        "outputId": "cf2a783b-9787-4687-b6d5-a99b6c4aaca1"
      },
      "source": [
        "#method one\n",
        "import time\n",
        "def word_count(sentence,word,sep=''):\n",
        "  i,j,count=0,0,0\n",
        "  while (i<len(sentence)):\n",
        "    j=i\n",
        "    temp=''\n",
        "    while(j<len(sentence)):\n",
        "      if(sentence[j]==sep):\n",
        "        i=j\n",
        "        break\n",
        "      temp=temp+sentence[j]\n",
        "      if(temp==word):\n",
        "        count=count+1\n",
        "        break\n",
        "      j=j+1\n",
        "    i=i+1\n",
        "\n",
        "  return count\n",
        "\n",
        "sentence='this is the life... is it?'\n",
        "#calculate time\n",
        "start_time=time.time()\n",
        "count=word_count(sentence,'is')\n",
        "print(f'count = {count} and it took {str(time.time()-start_time)} sec to complete the operation')\n",
        "start_time=time.time()\n",
        "# count=word_count(sentence,'is',' ')\n",
        "# print(f'count = {count} and it took {str(time.time()-start_time)} sec to complete the operation with sep')\n",
        "\n"
      ],
      "execution_count": null,
      "outputs": [
        {
          "name": "stdout",
          "output_type": "stream",
          "text": [
            "count = 3 and it took 0.00016427040100097656 sec to complete the operation\n"
          ]
        }
      ]
    },
    {
      "cell_type": "markdown",
      "metadata": {
        "id": "UJp4zJtGnpe9"
      },
      "source": [
        "##method two using split"
      ]
    },
    {
      "cell_type": "code",
      "metadata": {
        "colab": {
          "base_uri": "https://localhost:8080/"
        },
        "id": "whrsXkWRntkW",
        "outputId": "099c59c3-f80e-415a-81ef-4d87c7b21a2c"
      },
      "source": [
        "import time\n",
        "def word_count2(sentence,word,sep):\n",
        "  array=sentence.split(sep)\n",
        "  count,i=0,0\n",
        "  while (i<len(array)):\n",
        "    if(word==array[i]):\n",
        "      count=count+1\n",
        "    i=i+1\n",
        "  return count\n",
        "sentence='this is the life... is it?'\n",
        "#calculate time\n",
        "start_time=time.time()\n",
        "count=word_count2(sentence,'is',sep=' ')\n",
        "print(f'count = {count} and it took {str(time.time()-start_time)} sec to complete the operation')"
      ],
      "execution_count": null,
      "outputs": [
        {
          "name": "stdout",
          "output_type": "stream",
          "text": [
            "count = 2 and it took 0.00010991096496582031 sec to complete the operation\n"
          ]
        }
      ]
    },
    {
      "cell_type": "markdown",
      "metadata": {
        "id": "VqfkZI4TqA86"
      },
      "source": [
        "##method three using findall (regex)"
      ]
    },
    {
      "cell_type": "code",
      "metadata": {
        "colab": {
          "base_uri": "https://localhost:8080/"
        },
        "id": "bl6YMrdiqLTi",
        "outputId": "fdb0c7d7-8f3e-4d97-d287-54fb37de1149"
      },
      "source": [
        "import time\n",
        "import re\n",
        "def word_count3(sentence,word,sep):\n",
        "  count=len(re.findall(word,sentence))\n",
        "  \n",
        "  return count\n",
        "sentence='this is the life... is it?'\n",
        "#calculate time\n",
        "start_time=time.time()\n",
        "count=word_count3(sentence,'is',sep=' ')\n",
        "print(f'count = {count} and it took {str(time.time()-start_time)} sec to complete the operation')"
      ],
      "execution_count": null,
      "outputs": [
        {
          "name": "stdout",
          "output_type": "stream",
          "text": [
            "count = 3 and it took 0.000518798828125 sec to complete the operation\n"
          ]
        }
      ]
    },
    {
      "cell_type": "markdown",
      "metadata": {
        "id": "RKk8sizVXS_F"
      },
      "source": [
        "#Classes"
      ]
    },
    {
      "cell_type": "code",
      "metadata": {
        "id": "0n13NqyoXXg6"
      },
      "source": [
        "class my_class():\n",
        "  x=4"
      ],
      "execution_count": null,
      "outputs": []
    },
    {
      "cell_type": "code",
      "metadata": {
        "colab": {
          "base_uri": "https://localhost:8080/"
        },
        "id": "YzbY6Yu1ZLR1",
        "outputId": "6aed89a1-135b-4b45-ccb2-6f26f8d56a5f"
      },
      "source": [
        "class_1=my_class()\n",
        "class_1.x=9\n",
        "class_1.x"
      ],
      "execution_count": null,
      "outputs": [
        {
          "data": {
            "text/plain": [
              "9"
            ]
          },
          "execution_count": 3,
          "metadata": {},
          "output_type": "execute_result"
        }
      ]
    },
    {
      "cell_type": "code",
      "metadata": {
        "id": "WhVeCqVsZhvL"
      },
      "source": [
        "class my_class():\n",
        "  def __init__(self,a,b,c):\n",
        "    self.a=a\n",
        "    self.b=b\n",
        "    c=c"
      ],
      "execution_count": null,
      "outputs": []
    },
    {
      "cell_type": "code",
      "metadata": {
        "colab": {
          "base_uri": "https://localhost:8080/"
        },
        "id": "Pkzq4jAWZ_7t",
        "outputId": "400ab19a-60cf-4508-fe27-e1b74994cb5f"
      },
      "source": [
        "class_2=my_class(10,4,5)\n",
        "class_2.b\n"
      ],
      "execution_count": null,
      "outputs": [
        {
          "data": {
            "text/plain": [
              "4"
            ]
          },
          "execution_count": 7,
          "metadata": {},
          "output_type": "execute_result"
        }
      ]
    },
    {
      "cell_type": "code",
      "metadata": {
        "id": "OHFsq22Saqtf"
      },
      "source": [
        "class Student():\n",
        "  def __init__(self,age,name):\n",
        "    self.age=age\n",
        "    self.name=name\n",
        "  def print_info(self):\n",
        "    print (f'my name is {self.name} im {self.age}')\n"
      ],
      "execution_count": null,
      "outputs": []
    },
    {
      "cell_type": "code",
      "metadata": {
        "id": "VGkg-86Sa4Is"
      },
      "source": [
        "s1=Student('ali',26)\n",
        "s2=Student('ahemd',27)"
      ],
      "execution_count": null,
      "outputs": []
    },
    {
      "cell_type": "code",
      "metadata": {
        "id": "LAlHgt9ebIL4"
      },
      "source": [
        "s1.print_info()\n",
        "s1.age=29\n",
        "del s1.age\n",
        "s1.print_info()"
      ],
      "execution_count": null,
      "outputs": []
    },
    {
      "cell_type": "code",
      "metadata": {
        "id": "W93sMpgXdClB"
      },
      "source": [
        "del s1"
      ],
      "execution_count": null,
      "outputs": []
    },
    {
      "cell_type": "code",
      "metadata": {
        "id": "UFpae7QNdRGG"
      },
      "source": [
        "students={}\n"
      ],
      "execution_count": null,
      "outputs": []
    },
    {
      "cell_type": "code",
      "metadata": {
        "id": "_T2S7Va_dX3e"
      },
      "source": [
        "class Student():\n",
        "  def __init__(self,name,age,phone,address,scores={}):\n",
        "    self.age=age\n",
        "    self.name=name\n",
        "    self.phone=phone\n",
        "    self.address=address\n",
        "    self.scores=scores\n",
        "  def score_avg(self):\n",
        "    score=list(self.scores.values())\n",
        "    len_scores=len(scores)\n",
        "    return sum(scores)/len_scores\n",
        "  def print_info(self):\n",
        "    avg=self.score_avg()\n",
        "    print(f'hi my name is {self.name} \\nage : {self.age}\\nphone: {self.phone}\\naddress:{self.address}\\nsschool scores={self.scores}\\navg: {self.score_avg()}')\n"
      ],
      "execution_count": null,
      "outputs": []
    },
    {
      "cell_type": "code",
      "metadata": {
        "colab": {
          "base_uri": "https://localhost:8080/"
        },
        "id": "WuRLIaSxft_S",
        "outputId": "9222d232-5e5c-401e-9840-7f06a5178fd2"
      },
      "source": [
        "name=input('write stud name: ')\n",
        "age=float(input('write age name: '))\n",
        "phone=input('write stud phone: ')\n",
        "address=input('write stud address: ')\n",
        "scores={}\n",
        "for i in range(6):\n",
        "  scores[i+1]=input(f'write student score for yyear :{i+1}')"
      ],
      "execution_count": null,
      "outputs": [
        {
          "name": "stdout",
          "output_type": "stream",
          "text": [
            "write stud name: ahmed\n",
            "write age name: 43\n",
            "write stud phone: 34424\n",
            "write stud address: fdfad\n",
            "write student score for yyear :133\n",
            "write student score for yyear :2344\n",
            "write student score for yyear :355\n",
            "write student score for yyear :46\n",
            "write student score for yyear :57\n",
            "write student score for yyear :689\n"
          ]
        }
      ]
    },
    {
      "cell_type": "code",
      "metadata": {
        "id": "Z9DCBjWeUMFa"
      },
      "source": [
        "\n",
        "students={}"
      ],
      "execution_count": null,
      "outputs": []
    },
    {
      "cell_type": "code",
      "metadata": {
        "colab": {
          "base_uri": "https://localhost:8080/"
        },
        "id": "KbAotiyzhA2E",
        "outputId": "d8358ef2-22de-4b2f-a1f0-0f312f9ee1e1"
      },
      "source": [
        "students['1']=Student(name,age,phone,address,scores)\n",
        "for i in students.keys():\n",
        "  students[i].print_info()"
      ],
      "execution_count": null,
      "outputs": [
        {
          "name": "stdout",
          "output_type": "stream",
          "text": [
            "hi my name is ahmed \n",
            "age : 43.0\n",
            "phone: 34424\n",
            "address:fdfad\n",
            "sschool scores={1: '33', 2: '344', 3: '55', 4: '6', 5: '7', 6: '89'}\n",
            "avg: 3.5\n"
          ]
        }
      ]
    },
    {
      "cell_type": "code",
      "metadata": {
        "id": "drHRcYZcj6Xy"
      },
      "source": [
        "#class example 2\n",
        "class String_counter():\n",
        "  def __init__(self):\n",
        "    pass\n",
        "  def member(self,string,element):\n",
        "    len_string=len(string)\n",
        "    for i in string:\n",
        "      if i==element:\n",
        "        return True\n",
        "      else:\n",
        "        return False\n",
        "  def counter (self,string,element):\n",
        "    if memeber(string,element):\n",
        "      count=0\n",
        "      for i in string:\n",
        "        if i==element:\n",
        "          count=count+1\n",
        "      return (f'the elemnt {element} is in {string}')\n"
      ],
      "execution_count": null,
      "outputs": []
    },
    {
      "cell_type": "code",
      "metadata": {
        "id": "lGorFxEYk5aD"
      },
      "source": [
        "check=String_counter()"
      ],
      "execution_count": null,
      "outputs": []
    },
    {
      "cell_type": "code",
      "metadata": {
        "colab": {
          "base_uri": "https://localhost:8080/"
        },
        "id": "dTrNj9IOll53",
        "outputId": "672d9084-c2d6-4b3b-d1d7-a92198c10c69"
      },
      "source": [
        "check.member('hello world','w')"
      ],
      "execution_count": null,
      "outputs": [
        {
          "data": {
            "text/plain": [
              "False"
            ]
          },
          "execution_count": 47,
          "metadata": {},
          "output_type": "execute_result"
        }
      ]
    },
    {
      "cell_type": "markdown",
      "metadata": {
        "id": "sXcHrZG0JGIz"
      },
      "source": [
        "#numpy"
      ]
    },
    {
      "cell_type": "code",
      "metadata": {
        "colab": {
          "base_uri": "https://localhost:8080/"
        },
        "id": "2uMOPiV_JHYN",
        "outputId": "e49a5d83-8616-4059-9273-75bd69b85177"
      },
      "source": [
        "import numpy as np\n",
        "arr =np.array([1,2,3,4,5])\n",
        "print (arr)"
      ],
      "execution_count": null,
      "outputs": [
        {
          "name": "stdout",
          "output_type": "stream",
          "text": [
            "[1 2 3 4 5]\n"
          ]
        }
      ]
    },
    {
      "cell_type": "code",
      "metadata": {
        "colab": {
          "base_uri": "https://localhost:8080/"
        },
        "id": "09nOJUcpKFoy",
        "outputId": "a14428f3-8bf9-4a3c-8733-1e352c96b728"
      },
      "source": [
        "print(arr.shape)\n",
        "print(arr.dtype)"
      ],
      "execution_count": null,
      "outputs": [
        {
          "name": "stdout",
          "output_type": "stream",
          "text": [
            "(5,)\n",
            "int64\n"
          ]
        }
      ]
    },
    {
      "cell_type": "markdown",
      "metadata": {
        "id": "FtuZTK5aKv4i"
      },
      "source": [
        "##getting started"
      ]
    },
    {
      "cell_type": "code",
      "metadata": {
        "colab": {
          "base_uri": "https://localhost:8080/"
        },
        "id": "NXq8f0mOKxmm",
        "outputId": "587b039b-7a04-4ab2-fbb8-c2e84b4e0b21"
      },
      "source": [
        "import numpy as np\n",
        "import time\n",
        "arr_1=np.array(12)\n",
        "arr_1\n",
        "arr_2=np.array([1,2,3,4,5])\n",
        "arr_3=np.array([[1,2,3],[4,5,6]])\n",
        "print (arr_3)\n",
        "print(arr_3.shape)\n",
        "print(arr_3)"
      ],
      "execution_count": null,
      "outputs": [
        {
          "name": "stdout",
          "output_type": "stream",
          "text": [
            "[[1 2 3]\n",
            " [4 5 6]]\n"
          ]
        },
        {
          "data": {
            "text/plain": [
              "array([[1, 2, 3],\n",
              "       [4, 5, 6]])"
            ]
          },
          "execution_count": 9,
          "metadata": {},
          "output_type": "execute_result"
        }
      ]
    },
    {
      "cell_type": "code",
      "metadata": {
        "colab": {
          "base_uri": "https://localhost:8080/"
        },
        "id": "c8PH6ycVNKLT",
        "outputId": "91f9d8ff-6b14-44b1-9240-6d80c040b13b"
      },
      "source": [
        "int_x=np.random.randint(100,size=5)\n",
        "int_x\n",
        "arr=np.random.rand(3,2,1)\n",
        "arr.shape"
      ],
      "execution_count": null,
      "outputs": [
        {
          "data": {
            "text/plain": [
              "(3, 2, 1)"
            ]
          },
          "execution_count": 14,
          "metadata": {},
          "output_type": "execute_result"
        }
      ]
    },
    {
      "cell_type": "markdown",
      "metadata": {
        "id": "ZfK15b8eRFll"
      },
      "source": [
        ""
      ]
    },
    {
      "cell_type": "code",
      "metadata": {
        "colab": {
          "base_uri": "https://localhost:8080/"
        },
        "id": "s9UX0PhIRQSz",
        "outputId": "f722aee3-126d-4714-8d05-e490efcb9a50"
      },
      "source": [
        "def print_array_info(ar):\n",
        "  '''print out a summary oa an array'''\n",
        "  print(ar)\n",
        "  print(ar.ndim)\n",
        "  print(ar.shape)\n",
        "  print(ar.size)\n",
        "  print(ar.dtype)\n",
        "  print(10*'-')\n",
        "line1= [1,2,3]\n",
        "line2=[4,5,6]\n",
        "arr_1=np.array([line1,line2])\n",
        "print_array_info(arr_1)\n",
        "ones_arr=np.ones(shape=[2,3],dtype=np.float32)\n",
        "print_array_info(ones_arr)"
      ],
      "execution_count": null,
      "outputs": [
        {
          "name": "stdout",
          "output_type": "stream",
          "text": [
            "[[1 2 3]\n",
            " [4 5 6]]\n",
            "2\n",
            "(2, 3)\n",
            "6\n",
            "int64\n",
            "----------\n",
            "[[1. 1. 1.]\n",
            " [1. 1. 1.]]\n",
            "2\n",
            "(2, 3)\n",
            "6\n",
            "float32\n",
            "----------\n"
          ]
        }
      ]
    },
    {
      "cell_type": "code",
      "metadata": {
        "colab": {
          "base_uri": "https://localhost:8080/"
        },
        "id": "Rq9fpMtgThVk",
        "outputId": "96afd381-9047-4704-b956-1cafcdc99628"
      },
      "source": [
        "zero_arr=np.zeros(shape=[3,4],dtype=np.float32)\n",
        "print_array_info (zero_arr)"
      ],
      "execution_count": null,
      "outputs": [
        {
          "name": "stdout",
          "output_type": "stream",
          "text": [
            "[[0. 0. 0. 0.]\n",
            " [0. 0. 0. 0.]\n",
            " [0. 0. 0. 0.]]\n",
            "2\n",
            "(3, 4)\n",
            "12\n",
            "float32\n",
            "----------\n"
          ]
        }
      ]
    },
    {
      "cell_type": "code",
      "metadata": {
        "colab": {
          "base_uri": "https://localhost:8080/"
        },
        "id": "9ZQ0b1thT0e6",
        "outputId": "b65d44ba-fb50-43e4-badf-8a0b5927dcc8"
      },
      "source": [
        "array=np.arange(10)\n",
        "print_array_info(array)"
      ],
      "execution_count": null,
      "outputs": [
        {
          "name": "stdout",
          "output_type": "stream",
          "text": [
            "[0 1 2 3 4 5 6 7 8 9]\n",
            "1\n",
            "(10,)\n",
            "10\n",
            "int64\n",
            "----------\n"
          ]
        }
      ]
    },
    {
      "cell_type": "code",
      "metadata": {
        "id": "JsGiTno1UHYT"
      },
      "source": [
        "array=np.arange(0,10,0.5)"
      ],
      "execution_count": null,
      "outputs": []
    },
    {
      "cell_type": "code",
      "metadata": {
        "colab": {
          "base_uri": "https://localhost:8080/"
        },
        "id": "mrUU50Y-US3F",
        "outputId": "ef874c50-8df1-4d86-c150-b00bf6c3e3f4"
      },
      "source": [
        "array=np.linspace(0,30,5,dtype=np.float16)\n",
        "print(array)\n",
        "array=np.full([2,4],5)\n",
        "print_array_info(array)\n",
        "\n",
        "array=np.eye(N=4)\n",
        "print_array_info(array)\n",
        "\n",
        "a=array.reshape(-1)\n"
      ],
      "execution_count": null,
      "outputs": [
        {
          "name": "stdout",
          "output_type": "stream",
          "text": [
            "[ 0.   7.5 15.  22.5 30. ]\n",
            "[[5 5 5 5]\n",
            " [5 5 5 5]]\n",
            "2\n",
            "(2, 4)\n",
            "8\n",
            "int64\n",
            "----------\n",
            "[[1. 0. 0. 0.]\n",
            " [0. 1. 0. 0.]\n",
            " [0. 0. 1. 0.]\n",
            " [0. 0. 0. 1.]]\n",
            "2\n",
            "(4, 4)\n",
            "16\n",
            "float64\n",
            "----------\n"
          ]
        },
        {
          "data": {
            "text/plain": [
              "array([1., 0., 0., 0., 0., 1., 0., 0., 0., 0., 1., 0., 0., 0., 0., 1.])"
            ]
          },
          "execution_count": 33,
          "metadata": {},
          "output_type": "execute_result"
        }
      ]
    },
    {
      "cell_type": "code",
      "metadata": {
        "colab": {
          "background_save": true
        },
        "id": "QwDfdSjxdQ4T",
        "outputId": "9b27f50f-7bfd-4c0d-da2b-b4994859f29d"
      },
      "source": [
        "a=np.array([1,2,3,4,5])\n",
        "b=np.array([1,0,0,0,1,0,0,0,1,0])\n",
        "print ('a + ')"
      ],
      "execution_count": null,
      "outputs": [
        {
          "ename": "ValueError",
          "evalue": "ignored",
          "output_type": "error",
          "traceback": [
            "\u001b[0;31m---------------------------------------------------------------------------\u001b[0m",
            "\u001b[0;31mValueError\u001b[0m                                Traceback (most recent call last)",
            "\u001b[0;32m<ipython-input-34-e53121b8809f>\u001b[0m in \u001b[0;36m<module>\u001b[0;34m()\u001b[0m\n\u001b[1;32m      1\u001b[0m \u001b[0ma\u001b[0m\u001b[0;34m=\u001b[0m\u001b[0mnp\u001b[0m\u001b[0;34m.\u001b[0m\u001b[0marray\u001b[0m\u001b[0;34m(\u001b[0m\u001b[0;34m[\u001b[0m\u001b[0;36m1\u001b[0m\u001b[0;34m,\u001b[0m\u001b[0;36m2\u001b[0m\u001b[0;34m,\u001b[0m\u001b[0;36m3\u001b[0m\u001b[0;34m,\u001b[0m\u001b[0;36m4\u001b[0m\u001b[0;34m,\u001b[0m\u001b[0;36m5\u001b[0m\u001b[0;34m]\u001b[0m\u001b[0;34m)\u001b[0m\u001b[0;34m\u001b[0m\u001b[0;34m\u001b[0m\u001b[0m\n\u001b[1;32m      2\u001b[0m \u001b[0mb\u001b[0m\u001b[0;34m=\u001b[0m\u001b[0mnp\u001b[0m\u001b[0;34m.\u001b[0m\u001b[0marray\u001b[0m\u001b[0;34m(\u001b[0m\u001b[0;34m[\u001b[0m\u001b[0;36m1\u001b[0m\u001b[0;34m,\u001b[0m\u001b[0;36m0\u001b[0m\u001b[0;34m,\u001b[0m\u001b[0;36m0\u001b[0m\u001b[0;34m,\u001b[0m\u001b[0;36m0\u001b[0m\u001b[0;34m,\u001b[0m\u001b[0;36m1\u001b[0m\u001b[0;34m,\u001b[0m\u001b[0;36m0\u001b[0m\u001b[0;34m,\u001b[0m\u001b[0;36m0\u001b[0m\u001b[0;34m,\u001b[0m\u001b[0;36m0\u001b[0m\u001b[0;34m,\u001b[0m\u001b[0;36m1\u001b[0m\u001b[0;34m,\u001b[0m\u001b[0;36m0\u001b[0m\u001b[0;34m]\u001b[0m\u001b[0;34m)\u001b[0m\u001b[0;34m\u001b[0m\u001b[0;34m\u001b[0m\u001b[0m\n\u001b[0;32m----> 3\u001b[0;31m \u001b[0mprint\u001b[0m \u001b[0;34m(\u001b[0m\u001b[0;34m'a + b'\u001b[0m\u001b[0;34m,\u001b[0m\u001b[0ma\u001b[0m\u001b[0;34m+\u001b[0m\u001b[0mb\u001b[0m\u001b[0;34m)\u001b[0m\u001b[0;34m\u001b[0m\u001b[0;34m\u001b[0m\u001b[0m\n\u001b[0m",
            "\u001b[0;31mValueError\u001b[0m: operands could not be broadcast together with shapes (5,) (10,) "
          ]
        }
      ]
    },
    {
      "cell_type": "code",
      "metadata": {
        "id": "haeLkxd1qFvf"
      },
      "source": [
        ""
      ],
      "execution_count": null,
      "outputs": []
    },
    {
      "cell_type": "markdown",
      "metadata": {
        "id": "j7NTiEjYOnAA"
      },
      "source": [
        "#MatplotLib"
      ]
    },
    {
      "cell_type": "code",
      "metadata": {
        "colab": {
          "base_uri": "https://localhost:8080/",
          "height": 283
        },
        "id": "wRIvso0LTzpA",
        "outputId": "43e749ae-c888-451a-d2d9-e45ba5194941"
      },
      "source": [
        "import matplotlib.pyplot as plt\n",
        "import numpy as np\n",
        "\n",
        "x=np.array([1,2,3,4,5,6,7,8,9,10])\n",
        "y=np.array([1,4,9,16,25,36,49,64,81,100])\n",
        "\n",
        "plt.plot(x,y)"
      ],
      "execution_count": null,
      "outputs": [
        {
          "data": {
            "text/plain": [
              "[<matplotlib.lines.Line2D at 0x7f84d610a690>]"
            ]
          },
          "execution_count": 2,
          "metadata": {},
          "output_type": "execute_result"
        },
        {
          "data": {
            "image/png": "[encoded data removed]",
            "text/plain": [
              "<Figure size 432x288 with 1 Axes>"
            ]
          },
          "metadata": {},
          "output_type": "display_data"
        }
      ]
    },
    {
      "cell_type": "code",
      "metadata": {
        "colab": {
          "base_uri": "https://localhost:8080/",
          "height": 313
        },
        "id": "QuMhc2t2SUsi",
        "outputId": "583e2738-ca2c-4467-9199-143f93f10888"
      },
      "source": [
        "plt.plot([1,4,9,16])\n",
        "plt.xlabel('x')\n",
        "plt.ylabel('y')\n",
        "plt.title('a single list assumed to be y- values')"
      ],
      "execution_count": null,
      "outputs": [
        {
          "data": {
            "text/plain": [
              "Text(0.5, 1.0, 'a single list assumed to be y- values')"
            ]
          },
          "execution_count": 3,
          "metadata": {},
          "output_type": "execute_result"
        },
        {
          "data": {
            "image/png": "[encoded data removed]",
            "text/plain": [
              "<Figure size 432x288 with 1 Axes>"
            ]
          },
          "metadata": {},
          "output_type": "display_data"
        }
      ]
    },
    {
      "cell_type": "code",
      "metadata": {
        "colab": {
          "base_uri": "https://localhost:8080/",
          "height": 301
        },
        "id": "J41FekNfUkAd",
        "outputId": "da9d9869-e656-40e0-e0fc-07d230a55848"
      },
      "source": [
        "x=np.array([1,2,3,4,5,6,7,8,9,10])\n",
        "y=np.array([1,4,9,16,25,36,49,64,81,100])\n",
        "plt.plot(x,y)\n",
        "plt.xlabel('x')\n",
        "plt.ylabel('y')\n",
        "plt.axis([4,8,10,70])\n",
        "#plt.plot(x,y,'r--')#color red starts use* or -- for using starts or dash\n",
        "plt.axis([3,6,10,64])\n",
        "plt.ylim(0,100)\n",
        "plt.xlim(2,4)\n",
        "plt.plot(x,y,'r--')"
      ],
      "execution_count": null,
      "outputs": [
        {
          "data": {
            "text/plain": [
              "[<matplotlib.lines.Line2D at 0x7f84d5625690>]"
            ]
          },
          "execution_count": 15,
          "metadata": {},
          "output_type": "execute_result"
        },
        {
          "data": {
            "image/png": "[encoded data removed]",
            "text/plain": [
              "<Figure size 432x288 with 1 Axes>"
            ]
          },
          "metadata": {},
          "output_type": "display_data"
        }
      ]
    },
    {
      "cell_type": "code",
      "metadata": {
        "colab": {
          "base_uri": "https://localhost:8080/",
          "height": 320
        },
        "id": "vJF2a2eaVLYw",
        "outputId": "c074d773-15c6-4cce-c5b7-20aa58a707e7"
      },
      "source": [
        "x=np.arange(-10,10.0,0.01)\n",
        "y=np.sin(x)\n",
        "y2=np.cos(x)\n",
        "y3=np.tanh(x)\n",
        "plt.plot(x,y,'r--',x,y2,'b--',x,y3,'g--')"
      ],
      "execution_count": null,
      "outputs": [
        {
          "data": {
            "text/plain": [
              "[<matplotlib.lines.Line2D at 0x7f84d5463b90>,\n",
              " <matplotlib.lines.Line2D at 0x7f84d545f290>,\n",
              " <matplotlib.lines.Line2D at 0x7f84d545f3d0>]"
            ]
          },
          "execution_count": 18,
          "metadata": {},
          "output_type": "execute_result"
        },
        {
          "data": {
            "image/png": "[encoded data removed]",
            "text/plain": [
              "<Figure size 432x288 with 1 Axes>"
            ]
          },
          "metadata": {},
          "output_type": "display_data"
        }
      ]
    },
    {
      "cell_type": "code",
      "metadata": {
        "colab": {
          "base_uri": "https://localhost:8080/",
          "height": 632
        },
        "id": "pjhxfVnHYSTq",
        "outputId": "e6b40b6d-086e-48fb-da2b-73338e41cb3c"
      },
      "source": [
        "x=np.random.randn(10000)\n",
        "plt.hist(x,bins=60)\n",
        "plt.hist(x,bins=50,)"
      ],
      "execution_count": null,
      "outputs": [
        {
          "data": {
            "text/plain": [
              "(array([  2.,   1.,   0.,   6.,   4.,   7.,  12.,  21.,  19.,  25.,  27.,\n",
              "         31.,  40.,  82.,  77., 109., 122., 151., 197., 227., 244., 233.,\n",
              "        282., 340., 349., 398., 456., 467., 488., 514., 482., 479., 456.,\n",
              "        448., 386., 395., 373., 316., 300., 263., 226., 196., 147., 132.,\n",
              "         94.,  82.,  64.,  47.,  45.,  37.,  32.,  20.,  15.,  15.,   5.,\n",
              "          6.,   1.,   4.,   1.,   2.]),\n",
              " array([-3.57441082, -3.45498293, -3.33555505, -3.21612716, -3.09669928,\n",
              "        -2.97727139, -2.85784351, -2.73841562, -2.61898774, -2.49955985,\n",
              "        -2.38013197, -2.26070408, -2.1412762 , -2.02184831, -1.90242043,\n",
              "        -1.78299254, -1.66356466, -1.54413677, -1.42470888, -1.305281  ,\n",
              "        -1.18585311, -1.06642523, -0.94699734, -0.82756946, -0.70814157,\n",
              "        -0.58871369, -0.4692858 , -0.34985792, -0.23043003, -0.11100215,\n",
              "         0.00842574,  0.12785362,  0.24728151,  0.36670939,  0.48613728,\n",
              "         0.60556516,  0.72499305,  0.84442093,  0.96384882,  1.0832767 ,\n",
              "         1.20270459,  1.32213247,  1.44156036,  1.56098824,  1.68041613,\n",
              "         1.79984401,  1.9192719 ,  2.03869978,  2.15812767,  2.27755555,\n",
              "         2.39698344,  2.51641132,  2.63583921,  2.75526709,  2.87469498,\n",
              "         2.99412287,  3.11355075,  3.23297864,  3.35240652,  3.47183441,\n",
              "         3.59126229]),\n",
              " <a list of 60 Patch objects>)"
            ]
          },
          "execution_count": 21,
          "metadata": {},
          "output_type": "execute_result"
        },
        {
          "data": {
            "image/png": "[encoded data removed]",
            "text/plain": [
              "<Figure size 432x288 with 1 Axes>"
            ]
          },
          "metadata": {},
          "output_type": "display_data"
        }
      ]
    },
    {
      "cell_type": "code",
      "metadata": {
        "colab": {
          "base_uri": "https://localhost:8080/",
          "height": 283
        },
        "id": "q_3WiTXIbxyQ",
        "outputId": "fe7c3f88-8e19-4767-c436-4863bffe3960"
      },
      "source": [
        "groups=[0,1,2,3,4]\n",
        "group_title=['a','b','c','d','e']\n",
        "grparray=np.array(groups)\n",
        "values=[70,60,80,77,90]\n",
        "plt.bar(groups,values,align='center')\n",
        "plt.xticks(groups,group_title)\n",
        "plt.barh(groups,values,align='center')"
      ],
      "execution_count": null,
      "outputs": [
        {
          "data": {
            "text/plain": [
              "<BarContainer object of 5 artists>"
            ]
          },
          "execution_count": 26,
          "metadata": {},
          "output_type": "execute_result"
        },
        {
          "data": {
            "image/png": "[encoded data removed]",
            "text/plain": [
              "<Figure size 432x288 with 1 Axes>"
            ]
          },
          "metadata": {},
          "output_type": "display_data"
        }
      ]
    },
    {
      "cell_type": "code",
      "metadata": {
        "colab": {
          "base_uri": "https://localhost:8080/",
          "height": 313
        },
        "id": "67RFLKZpZvyk",
        "outputId": "b0a5d7e4-e238-4333-a8a6-b3b916ddcb2f"
      },
      "source": [
        "a=(77,58,84,62)\n",
        "b=(99,92,88,80)\n",
        "c=(85,81,79,80)\n",
        "\n",
        "plt.subplots()\n",
        "index=np.arange(4)\n",
        "bar_width=0.25\n",
        "rects1=plt.bar(index,a,bar_width,color='r',label='group 1')\n",
        "rects1=plt.bar(index+bar_width,b,bar_width,color='b',label='group 2')\n",
        "rects1=plt.bar(index+2*bar_width,c,bar_width,color='g',label='group 3')\n",
        "plt.xlabel('subject')\n",
        "plt.ylabel('test score')\n",
        "plt.title('tile')\n",
        "plt.legend()"
      ],
      "execution_count": null,
      "outputs": [
        {
          "data": {
            "text/plain": [
              "<matplotlib.legend.Legend at 0x7f84d4f808d0>"
            ]
          },
          "execution_count": 29,
          "metadata": {},
          "output_type": "execute_result"
        },
        {
          "data": {
            "image/png": "[encoded data removed]",
            "text/plain": [
              "<Figure size 432x288 with 1 Axes>"
            ]
          },
          "metadata": {},
          "output_type": "display_data"
        }
      ]
    },
    {
      "cell_type": "code",
      "metadata": {
        "colab": {
          "base_uri": "https://localhost:8080/",
          "height": 283
        },
        "id": "gje2XK8nguhz",
        "outputId": "09635582-19f8-4202-9b08-55ae5f6d45e1"
      },
      "source": [
        "ypoints=np.array([3,8,1,10])\n",
        "plt.plot(ypoints,marker='o',ms=20)"
      ],
      "execution_count": null,
      "outputs": [
        {
          "data": {
            "text/plain": [
              "[<matplotlib.lines.Line2D at 0x7f84d51adbd0>]"
            ]
          },
          "execution_count": 31,
          "metadata": {},
          "output_type": "execute_result"
        },
        {
          "data": {
            "image/png": "[encoded data removed]",
            "text/plain": [
              "<Figure size 432x288 with 1 Axes>"
            ]
          },
          "metadata": {},
          "output_type": "display_data"
        }
      ]
    },
    {
      "cell_type": "code",
      "metadata": {
        "colab": {
          "base_uri": "https://localhost:8080/",
          "height": 283
        },
        "id": "FFSOr8tghIve",
        "outputId": "35c5800a-256b-4555-c58f-e5801bc31fe6"
      },
      "source": [
        "x1=np.random.randn(100000)\n",
        "y=np.sin(x1)\n",
        "y1=np.random.randm(100)\n",
        "plt.plot(x1,y,'*')"
      ],
      "execution_count": null,
      "outputs": [
        {
          "data": {
            "text/plain": [
              "[<matplotlib.lines.Line2D at 0x7f84d4d7c110>]"
            ]
          },
          "execution_count": 32,
          "metadata": {},
          "output_type": "execute_result"
        },
        {
          "data": {
            "image/png": "[encoded data removed]",
            "text/plain": [
              "<Figure size 432x288 with 1 Axes>"
            ]
          },
          "metadata": {},
          "output_type": "display_data"
        }
      ]
    },
    {
      "cell_type": "code",
      "metadata": {
        "colab": {
          "base_uri": "https://localhost:8080/",
          "height": 302
        },
        "id": "7NfJXd4pigLp",
        "outputId": "c4361259-1cfe-4a8f-dee0-6287e7b58871"
      },
      "source": [
        "x1=np.random.randn(100)\n",
        "y=np.sin(x1)\n",
        "y1=np.random.randn(100)\n",
        "\n",
        "#plt.plot(x1,y1,'*',x1,y,'r*')\n"
      ],
      "execution_count": null,
      "outputs": [
        {
          "data": {
            "text/plain": [
              "[<matplotlib.lines.Line2D at 0x7f84d4c05b50>,\n",
              " <matplotlib.lines.Line2D at 0x7f84d4c05990>]"
            ]
          },
          "execution_count": 36,
          "metadata": {},
          "output_type": "execute_result"
        },
        {
          "data": {
            "image/png": "[encoded data removed]",
            "text/plain": [
              "<Figure size 432x288 with 1 Axes>"
            ]
          },
          "metadata": {},
          "output_type": "display_data"
        }
      ]
    },
    {
      "cell_type": "code",
      "metadata": {
        "colab": {
          "base_uri": "https://localhost:8080/",
          "height": 287
        },
        "id": "PdLn84BoiH5C",
        "outputId": "5d654d4b-3b66-4fa1-dadc-dfec31852196"
      },
      "source": [
        "# w=np.random.rand(100,1)\n",
        "# b=np.random.rand(1)\n",
        "# z=np.matmul(x1,w)+b\n",
        "\n",
        "\n",
        "x=np.array([-2,-1,0,1,2])\n",
        "#y=np.array(5,10,15,20,25)\n",
        "y=np.sin(x)\n",
        "plt.plot(x,y,'r')\n"
      ],
      "execution_count": null,
      "outputs": [
        {
          "data": {
            "text/plain": [
              "[<matplotlib.lines.Line2D at 0x7f84d4939410>]"
            ]
          },
          "execution_count": 41,
          "metadata": {},
          "output_type": "execute_result"
        },
        {
          "data": {
            "image/png": "[encoded data removed]",
            "text/plain": [
              "<Figure size 432x288 with 1 Axes>"
            ]
          },
          "metadata": {},
          "output_type": "display_data"
        }
      ]
    },
    {
      "cell_type": "code",
      "metadata": {
        "colab": {
          "base_uri": "https://localhost:8080/",
          "height": 283
        },
        "id": "uYn33OnTpKPS",
        "outputId": "cd45cf21-1672-4d19-806a-627d086356d3"
      },
      "source": [
        "import math\n",
        "x=np.array([-2,-1,0,1,2])\n",
        "#y=np.array(5,10,15,20,25)\n",
        "n\n",
        "y=(math.exp(1)**x-math.exp(-1)**x)/(math.exp(1)**x+math.exp(-1)**x)\n",
        "plt.plot(x,y,'r')"
      ],
      "execution_count": null,
      "outputs": [
        {
          "data": {
            "text/plain": [
              "[<matplotlib.lines.Line2D at 0x7f84d4714fd0>]"
            ]
          },
          "execution_count": 50,
          "metadata": {},
          "output_type": "execute_result"
        },
        {
          "data": {
            "image/png": "[encoded data removed]",
            "text/plain": [
              "<Figure size 432x288 with 1 Axes>"
            ]
          },
          "metadata": {},
          "output_type": "display_data"
        }
      ]
    },
    {
      "cell_type": "code",
      "metadata": {
        "colab": {
          "base_uri": "https://localhost:8080/",
          "height": 302
        },
        "id": "AUqi6BLIoL4j",
        "outputId": "4214cbe7-27e0-4da2-dff5-9d1a80087a3b"
      },
      "source": [
        "import numpy as np\n",
        "import math\n",
        "import matplotlib.pyplot as plt\n",
        "\n",
        "#logistic sigmoid or soft step\n",
        "x=np.arange(-5,6)\n",
        "print(x)\n",
        "y=1/(1+np.exp(-x))#logistic sigmoid or soft step\n",
        "y1=np.max()\n",
        "\n",
        "plt.plot(x,y)"
      ],
      "execution_count": null,
      "outputs": [
        {
          "name": "stdout",
          "output_type": "stream",
          "text": [
            "[-5 -4 -3 -2 -1  0  1  2  3  4  5]\n"
          ]
        },
        {
          "data": {
            "text/plain": [
              "[<matplotlib.lines.Line2D at 0x7f02b89db950>]"
            ]
          },
          "execution_count": 7,
          "metadata": {},
          "output_type": "execute_result"
        },
        {
          "data": {
            "image/png": "[encoded data removed]",
            "text/plain": [
              "<Figure size 432x288 with 1 Axes>"
            ]
          },
          "metadata": {},
          "output_type": "display_data"
        }
      ]
    },
    {
      "cell_type": "code",
      "metadata": {
        "colab": {
          "base_uri": "https://localhost:8080/",
          "height": 283
        },
        "id": "S3ojrrXRGHHb",
        "outputId": "dbd2ae7e-9552-4824-b94d-fffd58575b8a"
      },
      "source": [
        "import time\n",
        "import matplotlib.pyplot as plt\n",
        "import numpy as np\n",
        "\n",
        "x=np.arange(80,120,5)\n",
        "y=np.arange(100,140,5)\n",
        "\n",
        "plt.subplot(1,2,1)\n",
        "plt.plot(x,y)\n",
        "\n",
        "#plot2\n",
        "x=np.arange(4)\n",
        "y=np.arange(10,50,10)\n",
        "\n",
        "plt.subplot(1,2,2)\n",
        "plt.plot(x,y,'r--')\n",
        "plt.show()"
      ],
      "execution_count": null,
      "outputs": [
        {
          "name": "stderr",
          "output_type": "stream",
          "text": [
            "No handles with labels found to put in legend.\n"
          ]
        },
        {
          "data": {
            "image/png": "[encoded data removed]",
            "text/plain": [
              "<Figure size 432x288 with 2 Axes>"
            ]
          },
          "metadata": {},
          "output_type": "display_data"
        }
      ]
    },
    {
      "cell_type": "markdown",
      "metadata": {
        "id": "9dqfLFH-1sMl"
      },
      "source": [
        "#pandas"
      ]
    },
    {
      "cell_type": "code",
      "metadata": {
        "id": "QSDqQLx51zVb"
      },
      "source": [
        "import time\n",
        "import numpy as np\n",
        "import pandas as pd\n",
        "import matplotlib.pyplot as plt\n",
        "\n",
        "#data=np.arange(-5,5)\n",
        "ser=pd.Series(data=[10,20,30,10])\n",
        "print(ser)\n",
        "s2=pd.Series(data=[1,2,3,4.1,5],index=['a','b','c','d','e'],name='s2')\n",
        "print (s2)\n",
        "s3=pd.Series({3:'a','d':0,'7':8},name='s3')\n",
        "print(f's3= {s3}')\n",
        "s4=pd.Series(42,range(10),name='s4')\n",
        "print(s4)\n",
        "print(ser.size)\n",
        "print(ser.index)\n"
      ],
      "execution_count": null,
      "outputs": []
    },
    {
      "cell_type": "code",
      "metadata": {
        "colab": {
          "base_uri": "https://localhost:8080/"
        },
        "id": "PsVerfM852bY",
        "outputId": "25bf7fbd-219d-475d-9494-b21d6b15fd3b"
      },
      "source": [
        "#acce\n",
        "import pandas as pd\n",
        "\n",
        "ser=pd.Series({'a':[1,2,3],\n",
        "               'b':[4,5,6],\n",
        "               'c':[7,8,9]\n",
        "               })\n",
        "ser.shape"
      ],
      "execution_count": null,
      "outputs": [
        {
          "data": {
            "text/plain": [
              "(3,)"
            ]
          },
          "execution_count": 8,
          "metadata": {},
          "output_type": "execute_result"
        }
      ]
    },
    {
      "cell_type": "code",
      "metadata": {
        "colab": {
          "base_uri": "https://localhost:8080/"
        },
        "id": "486xbpyv3DBq",
        "outputId": "d388a667-c558-4d68-e6c2-068dc3354685"
      },
      "source": [
        "series = pd.Series(range(100,1000, 25), index=list(range(100, 136)), name = \"s\")\n",
        "series[0:10]  # note we're referencing by label\n",
        "series[series>800]\n",
        "series>800\n",
        "series[(series> series.mean()) & (series%2==0)]\n"
      ],
      "execution_count": null,
      "outputs": [
        {
          "data": {
            "text/plain": [
              "118    550\n",
              "120    600\n",
              "122    650\n",
              "124    700\n",
              "126    750\n",
              "128    800\n",
              "130    850\n",
              "132    900\n",
              "134    950\n",
              "Name: s, dtype: int64"
            ]
          },
          "execution_count": 25,
          "metadata": {},
          "output_type": "execute_result"
        }
      ]
    },
    {
      "cell_type": "code",
      "metadata": {
        "id": "Xo7ckLtL6dZJ"
      },
      "source": [
        ""
      ],
      "execution_count": null,
      "outputs": []
    },
    {
      "cell_type": "code",
      "metadata": {
        "id": "xsmPBoxL6tJh"
      },
      "source": [
        ""
      ],
      "execution_count": null,
      "outputs": []
    },
    {
      "cell_type": "code",
      "metadata": {
        "colab": {
          "base_uri": "https://localhost:8080/",
          "height": 135
        },
        "id": "_oL2uEsv7byy",
        "outputId": "03478b14-176e-476d-a28a-acbfb2f6cbf2"
      },
      "source": [
        "#s[s>(np.mean() & (s%2==0)]"
      ],
      "execution_count": null,
      "outputs": [
        {
          "ename": "SyntaxError",
          "evalue": "ignored",
          "output_type": "error",
          "traceback": [
            "\u001b[0;36m  File \u001b[0;32m\"<ipython-input-29-72a5f83f23ea>\"\u001b[0;36m, line \u001b[0;32m1\u001b[0m\n\u001b[0;31m    s[s>(np.mean(s) & (s%2==0)]\u001b[0m\n\u001b[0m                              ^\u001b[0m\n\u001b[0;31mSyntaxError\u001b[0m\u001b[0;31m:\u001b[0m invalid syntax\n"
          ]
        }
      ]
    },
    {
      "cell_type": "code",
      "metadata": {
        "id": "YKiL_4Cg9IKk"
      },
      "source": [
        ""
      ],
      "execution_count": null,
      "outputs": []
    },
    {
      "cell_type": "markdown",
      "metadata": {
        "id": "rFJwkV-x-npI"
      },
      "source": [
        "##data frame"
      ]
    },
    {
      "cell_type": "code",
      "metadata": {
        "colab": {
          "base_uri": "https://localhost:8080/",
          "height": 143
        },
        "id": "ztyQo8cy-phm",
        "outputId": "f23b7f3d-02e4-4e56-b0ce-402868603ce0"
      },
      "source": [
        "import pandas as pd\n",
        "\n",
        "ar=np.array([[1,2,3],\n",
        "             [4,5,6],\n",
        "             [7,8,9]])\n",
        "df1=pd.DataFrame(ar,columns=['a','b','c'],index=['row1','row2','row3'])\n",
        "df1"
      ],
      "execution_count": null,
      "outputs": [
        {
          "data": {
            "text/html": [
              "<div>\n",
              "<style scoped>\n",
              "    .dataframe tbody tr th:only-of-type {\n",
              "        vertical-align: middle;\n",
              "    }\n",
              "\n",
              "    .dataframe tbody tr th {\n",
              "        vertical-align: top;\n",
              "    }\n",
              "\n",
              "    .dataframe thead th {\n",
              "        text-align: right;\n",
              "    }\n",
              "</style>\n",
              "<table border=\"1\" class=\"dataframe\">\n",
              "  <thead>\n",
              "    <tr style=\"text-align: right;\">\n",
              "      <th></th>\n",
              "      <th>a</th>\n",
              "      <th>b</th>\n",
              "      <th>c</th>\n",
              "    </tr>\n",
              "  </thead>\n",
              "  <tbody>\n",
              "    <tr>\n",
              "      <th>row1</th>\n",
              "      <td>1</td>\n",
              "      <td>2</td>\n",
              "      <td>3</td>\n",
              "    </tr>\n",
              "    <tr>\n",
              "      <th>row2</th>\n",
              "      <td>4</td>\n",
              "      <td>5</td>\n",
              "      <td>6</td>\n",
              "    </tr>\n",
              "    <tr>\n",
              "      <th>row3</th>\n",
              "      <td>7</td>\n",
              "      <td>8</td>\n",
              "      <td>9</td>\n",
              "    </tr>\n",
              "  </tbody>\n",
              "</table>\n",
              "</div>"
            ],
            "text/plain": [
              "      a  b  c\n",
              "row1  1  2  3\n",
              "row2  4  5  6\n",
              "row3  7  8  9"
            ]
          },
          "execution_count": 31,
          "metadata": {},
          "output_type": "execute_result"
        }
      ]
    },
    {
      "cell_type": "code",
      "metadata": {
        "colab": {
          "base_uri": "https://localhost:8080/"
        },
        "id": "r3ZM-gdC_UIb",
        "outputId": "6e6c0ed5-6ebb-4233-f813-5e2094c15e7a"
      },
      "source": [
        "s1=pd.Series([1,4],index=['row1','row2'])\n",
        "s2=pd.Series([2,5],index=['row1','row2'])\n",
        "s3=pd.Series([3,6],index=['row1','row2'])\n",
        "df2=pd.DataFrame({'a':s1,'b':s2,'c':s3})\n",
        "print(df2)\n",
        "# print (df2[['a','c']])\n",
        "# df2['d']=df2['a']*2\n",
        "# print (df2)\n",
        "# #df2['c']=pd.Series({'a':66})\n",
        "\n",
        "# df2.loc[['row1','row2']]\n",
        "# df2.iloc[[0,1]]"
      ],
      "execution_count": null,
      "outputs": [
        {
          "name": "stdout",
          "output_type": "stream",
          "text": [
            "      a  b  c\n",
            "row1  1  2  3\n",
            "row2  4  5  6\n"
          ]
        }
      ]
    },
    {
      "cell_type": "code",
      "metadata": {
        "colab": {
          "base_uri": "https://localhost:8080/",
          "height": 143
        },
        "id": "8vMIgOtXA5gb",
        "outputId": "c323dbb9-c21a-4df6-c339-1c27ad127fde"
      },
      "source": [
        "df1%2==0"
      ],
      "execution_count": null,
      "outputs": [
        {
          "data": {
            "text/html": [
              "<div>\n",
              "<style scoped>\n",
              "    .dataframe tbody tr th:only-of-type {\n",
              "        vertical-align: middle;\n",
              "    }\n",
              "\n",
              "    .dataframe tbody tr th {\n",
              "        vertical-align: top;\n",
              "    }\n",
              "\n",
              "    .dataframe thead th {\n",
              "        text-align: right;\n",
              "    }\n",
              "</style>\n",
              "<table border=\"1\" class=\"dataframe\">\n",
              "  <thead>\n",
              "    <tr style=\"text-align: right;\">\n",
              "      <th></th>\n",
              "      <th>a</th>\n",
              "      <th>b</th>\n",
              "      <th>c</th>\n",
              "    </tr>\n",
              "  </thead>\n",
              "  <tbody>\n",
              "    <tr>\n",
              "      <th>row1</th>\n",
              "      <td>False</td>\n",
              "      <td>True</td>\n",
              "      <td>False</td>\n",
              "    </tr>\n",
              "    <tr>\n",
              "      <th>row2</th>\n",
              "      <td>True</td>\n",
              "      <td>False</td>\n",
              "      <td>True</td>\n",
              "    </tr>\n",
              "    <tr>\n",
              "      <th>row3</th>\n",
              "      <td>False</td>\n",
              "      <td>True</td>\n",
              "      <td>False</td>\n",
              "    </tr>\n",
              "  </tbody>\n",
              "</table>\n",
              "</div>"
            ],
            "text/plain": [
              "          a      b      c\n",
              "row1  False   True  False\n",
              "row2   True  False   True\n",
              "row3  False   True  False"
            ]
          },
          "execution_count": 42,
          "metadata": {},
          "output_type": "execute_result"
        }
      ]
    },
    {
      "cell_type": "code",
      "metadata": {
        "id": "CAwlCdf1IIlC"
      },
      "source": [
        "df2=1-df1%2"
      ],
      "execution_count": null,
      "outputs": []
    },
    {
      "cell_type": "code",
      "metadata": {
        "colab": {
          "base_uri": "https://localhost:8080/"
        },
        "id": "i92ak0iFIcJu",
        "outputId": "f440f035-0f7d-421e-f615-56fd408c45cb"
      },
      "source": [
        "print(df1)\n",
        "df1.mean(axis=1) #0 for colums and 1 for roew"
      ],
      "execution_count": null,
      "outputs": [
        {
          "name": "stdout",
          "output_type": "stream",
          "text": [
            "      a  b  c\n",
            "row1  1  2  3\n",
            "row2  4  5  6\n",
            "row3  7  8  9\n"
          ]
        },
        {
          "data": {
            "text/plain": [
              "a    4.0\n",
              "b    5.0\n",
              "c    6.0\n",
              "dtype: float64"
            ]
          },
          "execution_count": 46,
          "metadata": {},
          "output_type": "execute_result"
        }
      ]
    },
    {
      "cell_type": "code",
      "metadata": {
        "colab": {
          "base_uri": "https://localhost:8080/"
        },
        "id": "c7ojfu9PJfSJ",
        "outputId": "7b541538-5e9b-4349-da68-8e577223602f"
      },
      "source": [
        "df1.std()\n",
        "print(df1.T.describe())"
      ],
      "execution_count": null,
      "outputs": [
        {
          "name": "stdout",
          "output_type": "stream",
          "text": [
            "       row1  row2  row3\n",
            "count   3.0   3.0   3.0\n",
            "mean    2.0   5.0   8.0\n",
            "std     1.0   1.0   1.0\n",
            "min     1.0   4.0   7.0\n",
            "25%     1.5   4.5   7.5\n",
            "50%     2.0   5.0   8.0\n",
            "75%     2.5   5.5   8.5\n",
            "max     3.0   6.0   9.0\n"
          ]
        }
      ]
    },
    {
      "cell_type": "code",
      "metadata": {
        "id": "-cyVdrLvJxsT"
      },
      "source": [
        "df2.to_csv('text.csv')"
      ],
      "execution_count": null,
      "outputs": []
    },
    {
      "cell_type": "code",
      "metadata": {
        "colab": {
          "base_uri": "https://localhost:8080/",
          "height": 246
        },
        "id": "ykcnkxAdOYmR",
        "outputId": "99689ec2-8c55-4bf9-b9e8-95e7ba6fcfdc"
      },
      "source": [
        "df2['d']=5\n",
        "#df2.isna()\n",
        "\n",
        "\n",
        "\n"
      ],
      "execution_count": null,
      "outputs": [
        {
          "ename": "NameError",
          "evalue": "ignored",
          "output_type": "error",
          "traceback": [
            "\u001b[0;31m---------------------------------------------------------------------------\u001b[0m",
            "\u001b[0;31mNameError\u001b[0m                                 Traceback (most recent call last)",
            "\u001b[0;32m<ipython-input-63-a8f9a40f7b8b>\u001b[0m in \u001b[0;36m<module>\u001b[0;34m()\u001b[0m\n\u001b[1;32m      1\u001b[0m \u001b[0mdf2\u001b[0m\u001b[0;34m[\u001b[0m\u001b[0;34m'd'\u001b[0m\u001b[0;34m]\u001b[0m\u001b[0;34m=\u001b[0m\u001b[0;36m5\u001b[0m\u001b[0;34m\u001b[0m\u001b[0;34m\u001b[0m\u001b[0m\n\u001b[1;32m      2\u001b[0m \u001b[0;31m#df2.isna()\u001b[0m\u001b[0;34m\u001b[0m\u001b[0;34m\u001b[0m\u001b[0;34m\u001b[0m\u001b[0m\n\u001b[0;32m----> 3\u001b[0;31m \u001b[0mdf\u001b[0m\u001b[0;34m.\u001b[0m\u001b[0mdropna\u001b[0m\u001b[0;34m(\u001b[0m\u001b[0;34m)\u001b[0m\u001b[0;34m\u001b[0m\u001b[0;34m\u001b[0m\u001b[0m\n\u001b[0m\u001b[1;32m      4\u001b[0m \u001b[0;34m\u001b[0m\u001b[0m\n\u001b[1;32m      5\u001b[0m \u001b[0mdf\u001b[0m\u001b[0;34m\u001b[0m\u001b[0;34m\u001b[0m\u001b[0m\n",
            "\u001b[0;31mNameError\u001b[0m: name 'df' is not defined"
          ]
        }
      ]
    },
    {
      "cell_type": "code",
      "metadata": {
        "colab": {
          "base_uri": "https://localhost:8080/",
          "height": 617
        },
        "id": "tQfFtIdRZtdm",
        "outputId": "292c6a4c-31f1-4b1d-ff51-3ed88e25c6fb"
      },
      "source": [
        "df=pd.read_csv('/content/WA_Fn-UseC_-HR-Employee-Attrition.csv')\n",
        "df"
      ],
      "execution_count": null,
      "outputs": [
        {
          "data": {
            "text/html": [
              "<div>\n",
              "<style scoped>\n",
              "    .dataframe tbody tr th:only-of-type {\n",
              "        vertical-align: middle;\n",
              "    }\n",
              "\n",
              "    .dataframe tbody tr th {\n",
              "        vertical-align: top;\n",
              "    }\n",
              "\n",
              "    .dataframe thead th {\n",
              "        text-align: right;\n",
              "    }\n",
              "</style>\n",
              "<table border=\"1\" class=\"dataframe\">\n",
              "  <thead>\n",
              "    <tr style=\"text-align: right;\">\n",
              "      <th></th>\n",
              "      <th>Age</th>\n",
              "      <th>Attrition</th>\n",
              "      <th>BusinessTravel</th>\n",
              "      <th>DailyRate</th>\n",
              "      <th>Department</th>\n",
              "      <th>DistanceFromHome</th>\n",
              "      <th>Education</th>\n",
              "      <th>EducationField</th>\n",
              "      <th>EmployeeCount</th>\n",
              "      <th>EmployeeNumber</th>\n",
              "      <th>EnvironmentSatisfaction</th>\n",
              "      <th>Gender</th>\n",
              "      <th>HourlyRate</th>\n",
              "      <th>JobInvolvement</th>\n",
              "      <th>JobLevel</th>\n",
              "      <th>JobRole</th>\n",
              "      <th>JobSatisfaction</th>\n",
              "      <th>MaritalStatus</th>\n",
              "      <th>MonthlyIncome</th>\n",
              "      <th>MonthlyRate</th>\n",
              "      <th>NumCompaniesWorked</th>\n",
              "      <th>Over18</th>\n",
              "      <th>OverTime</th>\n",
              "      <th>PercentSalaryHike</th>\n",
              "      <th>PerformanceRating</th>\n",
              "      <th>RelationshipSatisfaction</th>\n",
              "      <th>StandardHours</th>\n",
              "      <th>StockOptionLevel</th>\n",
              "      <th>TotalWorkingYears</th>\n",
              "      <th>TrainingTimesLastYear</th>\n",
              "      <th>WorkLifeBalance</th>\n",
              "      <th>YearsAtCompany</th>\n",
              "      <th>YearsInCurrentRole</th>\n",
              "      <th>YearsSinceLastPromotion</th>\n",
              "      <th>YearsWithCurrManager</th>\n",
              "    </tr>\n",
              "  </thead>\n",
              "  <tbody>\n",
              "    <tr>\n",
              "      <th>0</th>\n",
              "      <td>41</td>\n",
              "      <td>Yes</td>\n",
              "      <td>Travel_Rarely</td>\n",
              "      <td>1102</td>\n",
              "      <td>Sales</td>\n",
              "      <td>1</td>\n",
              "      <td>2</td>\n",
              "      <td>Life Sciences</td>\n",
              "      <td>1</td>\n",
              "      <td>1</td>\n",
              "      <td>2</td>\n",
              "      <td>Female</td>\n",
              "      <td>94</td>\n",
              "      <td>3</td>\n",
              "      <td>2</td>\n",
              "      <td>Sales Executive</td>\n",
              "      <td>4</td>\n",
              "      <td>Single</td>\n",
              "      <td>5993</td>\n",
              "      <td>19479</td>\n",
              "      <td>8</td>\n",
              "      <td>Y</td>\n",
              "      <td>Yes</td>\n",
              "      <td>11</td>\n",
              "      <td>3</td>\n",
              "      <td>1</td>\n",
              "      <td>80</td>\n",
              "      <td>0</td>\n",
              "      <td>8</td>\n",
              "      <td>0</td>\n",
              "      <td>1</td>\n",
              "      <td>6</td>\n",
              "      <td>4</td>\n",
              "      <td>0</td>\n",
              "      <td>5</td>\n",
              "    </tr>\n",
              "    <tr>\n",
              "      <th>1</th>\n",
              "      <td>49</td>\n",
              "      <td>No</td>\n",
              "      <td>Travel_Frequently</td>\n",
              "      <td>279</td>\n",
              "      <td>Research &amp; Development</td>\n",
              "      <td>8</td>\n",
              "      <td>1</td>\n",
              "      <td>Life Sciences</td>\n",
              "      <td>1</td>\n",
              "      <td>2</td>\n",
              "      <td>3</td>\n",
              "      <td>Male</td>\n",
              "      <td>61</td>\n",
              "      <td>2</td>\n",
              "      <td>2</td>\n",
              "      <td>Research Scientist</td>\n",
              "      <td>2</td>\n",
              "      <td>Married</td>\n",
              "      <td>5130</td>\n",
              "      <td>24907</td>\n",
              "      <td>1</td>\n",
              "      <td>Y</td>\n",
              "      <td>No</td>\n",
              "      <td>23</td>\n",
              "      <td>4</td>\n",
              "      <td>4</td>\n",
              "      <td>80</td>\n",
              "      <td>1</td>\n",
              "      <td>10</td>\n",
              "      <td>3</td>\n",
              "      <td>3</td>\n",
              "      <td>10</td>\n",
              "      <td>7</td>\n",
              "      <td>1</td>\n",
              "      <td>7</td>\n",
              "    </tr>\n",
              "    <tr>\n",
              "      <th>2</th>\n",
              "      <td>37</td>\n",
              "      <td>Yes</td>\n",
              "      <td>Travel_Rarely</td>\n",
              "      <td>1373</td>\n",
              "      <td>Research &amp; Development</td>\n",
              "      <td>2</td>\n",
              "      <td>2</td>\n",
              "      <td>Other</td>\n",
              "      <td>1</td>\n",
              "      <td>4</td>\n",
              "      <td>4</td>\n",
              "      <td>Male</td>\n",
              "      <td>92</td>\n",
              "      <td>2</td>\n",
              "      <td>1</td>\n",
              "      <td>Laboratory Technician</td>\n",
              "      <td>3</td>\n",
              "      <td>Single</td>\n",
              "      <td>2090</td>\n",
              "      <td>2396</td>\n",
              "      <td>6</td>\n",
              "      <td>Y</td>\n",
              "      <td>Yes</td>\n",
              "      <td>15</td>\n",
              "      <td>3</td>\n",
              "      <td>2</td>\n",
              "      <td>80</td>\n",
              "      <td>0</td>\n",
              "      <td>7</td>\n",
              "      <td>3</td>\n",
              "      <td>3</td>\n",
              "      <td>0</td>\n",
              "      <td>0</td>\n",
              "      <td>0</td>\n",
              "      <td>0</td>\n",
              "    </tr>\n",
              "    <tr>\n",
              "      <th>3</th>\n",
              "      <td>33</td>\n",
              "      <td>No</td>\n",
              "      <td>Travel_Frequently</td>\n",
              "      <td>1392</td>\n",
              "      <td>Research &amp; Development</td>\n",
              "      <td>3</td>\n",
              "      <td>4</td>\n",
              "      <td>Life Sciences</td>\n",
              "      <td>1</td>\n",
              "      <td>5</td>\n",
              "      <td>4</td>\n",
              "      <td>Female</td>\n",
              "      <td>56</td>\n",
              "      <td>3</td>\n",
              "      <td>1</td>\n",
              "      <td>Research Scientist</td>\n",
              "      <td>3</td>\n",
              "      <td>Married</td>\n",
              "      <td>2909</td>\n",
              "      <td>23159</td>\n",
              "      <td>1</td>\n",
              "      <td>Y</td>\n",
              "      <td>Yes</td>\n",
              "      <td>11</td>\n",
              "      <td>3</td>\n",
              "      <td>3</td>\n",
              "      <td>80</td>\n",
              "      <td>0</td>\n",
              "      <td>8</td>\n",
              "      <td>3</td>\n",
              "      <td>3</td>\n",
              "      <td>8</td>\n",
              "      <td>7</td>\n",
              "      <td>3</td>\n",
              "      <td>0</td>\n",
              "    </tr>\n",
              "    <tr>\n",
              "      <th>4</th>\n",
              "      <td>27</td>\n",
              "      <td>No</td>\n",
              "      <td>Travel_Rarely</td>\n",
              "      <td>591</td>\n",
              "      <td>Research &amp; Development</td>\n",
              "      <td>2</td>\n",
              "      <td>1</td>\n",
              "      <td>Medical</td>\n",
              "      <td>1</td>\n",
              "      <td>7</td>\n",
              "      <td>1</td>\n",
              "      <td>Male</td>\n",
              "      <td>40</td>\n",
              "      <td>3</td>\n",
              "      <td>1</td>\n",
              "      <td>Laboratory Technician</td>\n",
              "      <td>2</td>\n",
              "      <td>Married</td>\n",
              "      <td>3468</td>\n",
              "      <td>16632</td>\n",
              "      <td>9</td>\n",
              "      <td>Y</td>\n",
              "      <td>No</td>\n",
              "      <td>12</td>\n",
              "      <td>3</td>\n",
              "      <td>4</td>\n",
              "      <td>80</td>\n",
              "      <td>1</td>\n",
              "      <td>6</td>\n",
              "      <td>3</td>\n",
              "      <td>3</td>\n",
              "      <td>2</td>\n",
              "      <td>2</td>\n",
              "      <td>2</td>\n",
              "      <td>2</td>\n",
              "    </tr>\n",
              "    <tr>\n",
              "      <th>...</th>\n",
              "      <td>...</td>\n",
              "      <td>...</td>\n",
              "      <td>...</td>\n",
              "      <td>...</td>\n",
              "      <td>...</td>\n",
              "      <td>...</td>\n",
              "      <td>...</td>\n",
              "      <td>...</td>\n",
              "      <td>...</td>\n",
              "      <td>...</td>\n",
              "      <td>...</td>\n",
              "      <td>...</td>\n",
              "      <td>...</td>\n",
              "      <td>...</td>\n",
              "      <td>...</td>\n",
              "      <td>...</td>\n",
              "      <td>...</td>\n",
              "      <td>...</td>\n",
              "      <td>...</td>\n",
              "      <td>...</td>\n",
              "      <td>...</td>\n",
              "      <td>...</td>\n",
              "      <td>...</td>\n",
              "      <td>...</td>\n",
              "      <td>...</td>\n",
              "      <td>...</td>\n",
              "      <td>...</td>\n",
              "      <td>...</td>\n",
              "      <td>...</td>\n",
              "      <td>...</td>\n",
              "      <td>...</td>\n",
              "      <td>...</td>\n",
              "      <td>...</td>\n",
              "      <td>...</td>\n",
              "      <td>...</td>\n",
              "    </tr>\n",
              "    <tr>\n",
              "      <th>1465</th>\n",
              "      <td>36</td>\n",
              "      <td>No</td>\n",
              "      <td>Travel_Frequently</td>\n",
              "      <td>884</td>\n",
              "      <td>Research &amp; Development</td>\n",
              "      <td>23</td>\n",
              "      <td>2</td>\n",
              "      <td>Medical</td>\n",
              "      <td>1</td>\n",
              "      <td>2061</td>\n",
              "      <td>3</td>\n",
              "      <td>Male</td>\n",
              "      <td>41</td>\n",
              "      <td>4</td>\n",
              "      <td>2</td>\n",
              "      <td>Laboratory Technician</td>\n",
              "      <td>4</td>\n",
              "      <td>Married</td>\n",
              "      <td>2571</td>\n",
              "      <td>12290</td>\n",
              "      <td>4</td>\n",
              "      <td>Y</td>\n",
              "      <td>No</td>\n",
              "      <td>17</td>\n",
              "      <td>3</td>\n",
              "      <td>3</td>\n",
              "      <td>80</td>\n",
              "      <td>1</td>\n",
              "      <td>17</td>\n",
              "      <td>3</td>\n",
              "      <td>3</td>\n",
              "      <td>5</td>\n",
              "      <td>2</td>\n",
              "      <td>0</td>\n",
              "      <td>3</td>\n",
              "    </tr>\n",
              "    <tr>\n",
              "      <th>1466</th>\n",
              "      <td>39</td>\n",
              "      <td>No</td>\n",
              "      <td>Travel_Rarely</td>\n",
              "      <td>613</td>\n",
              "      <td>Research &amp; Development</td>\n",
              "      <td>6</td>\n",
              "      <td>1</td>\n",
              "      <td>Medical</td>\n",
              "      <td>1</td>\n",
              "      <td>2062</td>\n",
              "      <td>4</td>\n",
              "      <td>Male</td>\n",
              "      <td>42</td>\n",
              "      <td>2</td>\n",
              "      <td>3</td>\n",
              "      <td>Healthcare Representative</td>\n",
              "      <td>1</td>\n",
              "      <td>Married</td>\n",
              "      <td>9991</td>\n",
              "      <td>21457</td>\n",
              "      <td>4</td>\n",
              "      <td>Y</td>\n",
              "      <td>No</td>\n",
              "      <td>15</td>\n",
              "      <td>3</td>\n",
              "      <td>1</td>\n",
              "      <td>80</td>\n",
              "      <td>1</td>\n",
              "      <td>9</td>\n",
              "      <td>5</td>\n",
              "      <td>3</td>\n",
              "      <td>7</td>\n",
              "      <td>7</td>\n",
              "      <td>1</td>\n",
              "      <td>7</td>\n",
              "    </tr>\n",
              "    <tr>\n",
              "      <th>1467</th>\n",
              "      <td>27</td>\n",
              "      <td>No</td>\n",
              "      <td>Travel_Rarely</td>\n",
              "      <td>155</td>\n",
              "      <td>Research &amp; Development</td>\n",
              "      <td>4</td>\n",
              "      <td>3</td>\n",
              "      <td>Life Sciences</td>\n",
              "      <td>1</td>\n",
              "      <td>2064</td>\n",
              "      <td>2</td>\n",
              "      <td>Male</td>\n",
              "      <td>87</td>\n",
              "      <td>4</td>\n",
              "      <td>2</td>\n",
              "      <td>Manufacturing Director</td>\n",
              "      <td>2</td>\n",
              "      <td>Married</td>\n",
              "      <td>6142</td>\n",
              "      <td>5174</td>\n",
              "      <td>1</td>\n",
              "      <td>Y</td>\n",
              "      <td>Yes</td>\n",
              "      <td>20</td>\n",
              "      <td>4</td>\n",
              "      <td>2</td>\n",
              "      <td>80</td>\n",
              "      <td>1</td>\n",
              "      <td>6</td>\n",
              "      <td>0</td>\n",
              "      <td>3</td>\n",
              "      <td>6</td>\n",
              "      <td>2</td>\n",
              "      <td>0</td>\n",
              "      <td>3</td>\n",
              "    </tr>\n",
              "    <tr>\n",
              "      <th>1468</th>\n",
              "      <td>49</td>\n",
              "      <td>No</td>\n",
              "      <td>Travel_Frequently</td>\n",
              "      <td>1023</td>\n",
              "      <td>Sales</td>\n",
              "      <td>2</td>\n",
              "      <td>3</td>\n",
              "      <td>Medical</td>\n",
              "      <td>1</td>\n",
              "      <td>2065</td>\n",
              "      <td>4</td>\n",
              "      <td>Male</td>\n",
              "      <td>63</td>\n",
              "      <td>2</td>\n",
              "      <td>2</td>\n",
              "      <td>Sales Executive</td>\n",
              "      <td>2</td>\n",
              "      <td>Married</td>\n",
              "      <td>5390</td>\n",
              "      <td>13243</td>\n",
              "      <td>2</td>\n",
              "      <td>Y</td>\n",
              "      <td>No</td>\n",
              "      <td>14</td>\n",
              "      <td>3</td>\n",
              "      <td>4</td>\n",
              "      <td>80</td>\n",
              "      <td>0</td>\n",
              "      <td>17</td>\n",
              "      <td>3</td>\n",
              "      <td>2</td>\n",
              "      <td>9</td>\n",
              "      <td>6</td>\n",
              "      <td>0</td>\n",
              "      <td>8</td>\n",
              "    </tr>\n",
              "    <tr>\n",
              "      <th>1469</th>\n",
              "      <td>34</td>\n",
              "      <td>No</td>\n",
              "      <td>Travel_Rarely</td>\n",
              "      <td>628</td>\n",
              "      <td>Research &amp; Development</td>\n",
              "      <td>8</td>\n",
              "      <td>3</td>\n",
              "      <td>Medical</td>\n",
              "      <td>1</td>\n",
              "      <td>2068</td>\n",
              "      <td>2</td>\n",
              "      <td>Male</td>\n",
              "      <td>82</td>\n",
              "      <td>4</td>\n",
              "      <td>2</td>\n",
              "      <td>Laboratory Technician</td>\n",
              "      <td>3</td>\n",
              "      <td>Married</td>\n",
              "      <td>4404</td>\n",
              "      <td>10228</td>\n",
              "      <td>2</td>\n",
              "      <td>Y</td>\n",
              "      <td>No</td>\n",
              "      <td>12</td>\n",
              "      <td>3</td>\n",
              "      <td>1</td>\n",
              "      <td>80</td>\n",
              "      <td>0</td>\n",
              "      <td>6</td>\n",
              "      <td>3</td>\n",
              "      <td>4</td>\n",
              "      <td>4</td>\n",
              "      <td>3</td>\n",
              "      <td>1</td>\n",
              "      <td>2</td>\n",
              "    </tr>\n",
              "  </tbody>\n",
              "</table>\n",
              "<p>1470 rows × 35 columns</p>\n",
              "</div>"
            ],
            "text/plain": [
              "      Age Attrition  ... YearsSinceLastPromotion  YearsWithCurrManager\n",
              "0      41       Yes  ...                       0                     5\n",
              "1      49        No  ...                       1                     7\n",
              "2      37       Yes  ...                       0                     0\n",
              "3      33        No  ...                       3                     0\n",
              "4      27        No  ...                       2                     2\n",
              "...   ...       ...  ...                     ...                   ...\n",
              "1465   36        No  ...                       0                     3\n",
              "1466   39        No  ...                       1                     7\n",
              "1467   27        No  ...                       0                     3\n",
              "1468   49        No  ...                       0                     8\n",
              "1469   34        No  ...                       1                     2\n",
              "\n",
              "[1470 rows x 35 columns]"
            ]
          },
          "execution_count": 64,
          "metadata": {},
          "output_type": "execute_result"
        }
      ]
    },
    {
      "cell_type": "code",
      "metadata": {
        "id": "aK2374D3Oqvd"
      },
      "source": [
        ""
      ],
      "execution_count": null,
      "outputs": []
    },
    {
      "cell_type": "markdown",
      "metadata": {
        "id": "3PZEBrYlXM4p"
      },
      "source": [
        ""
      ]
    },
    {
      "cell_type": "code",
      "metadata": {
        "id": "yCapNljUXOgT"
      },
      "source": [
        ""
      ],
      "execution_count": null,
      "outputs": []
    },
    {
      "cell_type": "markdown",
      "metadata": {
        "id": "NunqmmYGfzNE"
      },
      "source": [
        "#sklearn"
      ]
    },
    {
      "cell_type": "code",
      "metadata": {
        "id": "JxCsvXaLf7Hj"
      },
      "source": [
        "from sklearn import datasets,model_selection,preprocessing\n",
        "import matplotlib.pyplot as plt\n"
      ],
      "execution_count": null,
      "outputs": []
    },
    {
      "cell_type": "code",
      "metadata": {
        "id": "O9PKrmq9gP7m"
      },
      "source": [
        "x,y=datasets.load_boston(return_X_y=True)"
      ],
      "execution_count": null,
      "outputs": []
    },
    {
      "cell_type": "code",
      "metadata": {
        "colab": {
          "base_uri": "https://localhost:8080/"
        },
        "id": "Ni40ueBYgh--",
        "outputId": "f7a3e2a7-3154-4729-9492-551c1a8ae460"
      },
      "source": [
        "x[1]"
      ],
      "execution_count": null,
      "outputs": [
        {
          "data": {
            "text/plain": [
              "array([2.7310e-02, 0.0000e+00, 7.0700e+00, 0.0000e+00, 4.6900e-01,\n",
              "       6.4210e+00, 7.8900e+01, 4.9671e+00, 2.0000e+00, 2.4200e+02,\n",
              "       1.7800e+01, 3.9690e+02, 9.1400e+00])"
            ]
          },
          "execution_count": 3,
          "metadata": {},
          "output_type": "execute_result"
        }
      ]
    },
    {
      "cell_type": "code",
      "metadata": {
        "colab": {
          "base_uri": "https://localhost:8080/"
        },
        "id": "xJyEpZX8gmtn",
        "outputId": "ff31f20c-8fdd-4836-e7d5-fe8208387736"
      },
      "source": [
        "y[1]"
      ],
      "execution_count": null,
      "outputs": [
        {
          "data": {
            "text/plain": [
              "21.6"
            ]
          },
          "execution_count": 4,
          "metadata": {},
          "output_type": "execute_result"
        }
      ]
    },
    {
      "cell_type": "code",
      "metadata": {
        "colab": {
          "base_uri": "https://localhost:8080/",
          "height": 283
        },
        "id": "QeoeBgcMgpEf",
        "outputId": "0593998a-f61d-402a-94cc-c9d7dc6df894"
      },
      "source": [
        "plt.plot(x[:,1],y,'*')"
      ],
      "execution_count": null,
      "outputs": [
        {
          "data": {
            "text/plain": [
              "[<matplotlib.lines.Line2D at 0x7fd7286ffed0>]"
            ]
          },
          "execution_count": 7,
          "metadata": {},
          "output_type": "execute_result"
        },
        {
          "data": {
            "image/png": "[encoded data removed]",
            "text/plain": [
              "<Figure size 432x288 with 1 Axes>"
            ]
          },
          "metadata": {},
          "output_type": "display_data"
        }
      ]
    },
    {
      "cell_type": "code",
      "metadata": {
        "colab": {
          "base_uri": "https://localhost:8080/"
        },
        "id": "IKmAV1KqhQT6",
        "outputId": "eabd3786-0910-4d46-e758-6e0faaef6142"
      },
      "source": [
        "#plt.hist()\n",
        "print(x.shape)\n",
        "print(y.shape)"
      ],
      "execution_count": null,
      "outputs": [
        {
          "name": "stdout",
          "output_type": "stream",
          "text": [
            "(506, 13)\n",
            "(506,)\n"
          ]
        }
      ]
    },
    {
      "cell_type": "code",
      "metadata": {
        "id": "UXac_oSihv47"
      },
      "source": [
        "def plot_data(x,y):\n",
        "  plt.figure(figsize=(10,10))\n",
        "  plt.subplot(2,2,1)\n",
        "  plt.plot(x,y,'*')\n",
        "  plt.subplot(2,2,2)\n",
        "  plt.hist(x)\n"
      ],
      "execution_count": null,
      "outputs": []
    },
    {
      "cell_type": "code",
      "metadata": {
        "id": "pQER114NVyFy"
      },
      "source": [
        ""
      ],
      "execution_count": null,
      "outputs": []
    },
    {
      "cell_type": "code",
      "metadata": {
        "colab": {
          "base_uri": "https://localhost:8080/",
          "height": 295
        },
        "id": "25m9uf17h9Fq",
        "outputId": "dc72ca1f-8fa6-47f0-f96d-6ce809b5a09b"
      },
      "source": [
        "plot_data(x[:,0],y)"
      ],
      "execution_count": null,
      "outputs": [
        {
          "data": {
            "image/png": "[encoded data removed]",
            "text/plain": [
              "<Figure size 720x720 with 2 Axes>"
            ]
          },
          "metadata": {},
          "output_type": "display_data"
        }
      ]
    },
    {
      "cell_type": "code",
      "metadata": {
        "id": "J3LIIRcviDmn"
      },
      "source": [
        "x_normilizer=preprocessing.StandardScaler()\n",
        "x_norm=x_normilizer.fit_transform(x)"
      ],
      "execution_count": null,
      "outputs": []
    },
    {
      "cell_type": "code",
      "metadata": {
        "id": "mCQNhfwzklGQ"
      },
      "source": [
        "x_train,x_test,y_train,y_test=model_selection.train_test_split(x_norm,y,test_size=0.25)"
      ],
      "execution_count": null,
      "outputs": []
    },
    {
      "cell_type": "code",
      "metadata": {
        "id": "9ulFO2uolSyf"
      },
      "source": [
        "model=linear_model.LinearRegression()"
      ],
      "execution_count": null,
      "outputs": []
    },
    {
      "cell_type": "markdown",
      "metadata": {
        "id": "CyGneevZWi8o"
      },
      "source": [
        "##off class activities"
      ]
    },
    {
      "cell_type": "code",
      "metadata": {
        "id": "cXqYX3yJxo2w"
      },
      "source": [
        "def plot_data1(x,y):\n",
        "  #plt.figure(figsize=(10,10))\n",
        "  plt.subplot(1,2,1)\n",
        "  plt.plot(x,y,'*')\n",
        "  plt.subplot(1,2,2)\n",
        "  plt.hist(x)\n",
        "  plt.show()\n",
        "\n",
        "def plot_data_allcols(x,y):\n",
        "  plt.figure(figsize=(10,10))\n",
        "  for i in range(len(x[0])//2):\n",
        "    plt.subplot(2,8,i+1)\n",
        "    plt.plot(x[:,i],y,'*')\n",
        "  # for i in range(len(x[0])//2):   \n",
        "  #   plt.subplot(2,8,i+1)\n",
        "  #   plt.hist(x[:,i+len(x[0])//2])\n",
        "  plt.show()\n",
        "    \n",
        "\n",
        "  #plt.figure(figsize=(10,10))\n",
        "  # plt.subplot(1,2,1)\n",
        "  # plt.plot(x,y,'*')\n",
        "  # plt.subplot(1,2,2)\n",
        "  # plt.hist(x)\n",
        "  # plt.show()"
      ],
      "execution_count": null,
      "outputs": []
    },
    {
      "cell_type": "code",
      "metadata": {
        "id": "RVcv5wJHWoso"
      },
      "source": [
        "from sklearn import preprocessing,linear_model,model_selection,neighbors,datasets,metrics\n",
        "import pandas as pd\n",
        "import numpy as np\n",
        "import matplotlib.pyplot as plt\n",
        "\n"
      ],
      "execution_count": null,
      "outputs": []
    },
    {
      "cell_type": "code",
      "metadata": {
        "id": "wWdvpCXjXFK1"
      },
      "source": [
        "x,y=datasets.load_boston(return_X_y=True)"
      ],
      "execution_count": null,
      "outputs": []
    },
    {
      "cell_type": "code",
      "metadata": {
        "colab": {
          "base_uri": "https://localhost:8080/",
          "height": 246
        },
        "id": "NfOmOuF2XNuW",
        "outputId": "525aa389-39ac-40a3-9d26-b4acf130c6cb"
      },
      "source": [
        "print (f'x shape is {x.shape}')\n",
        "print (f'y shape is {y.shape}')\n",
        "#plot_data1(x[:,0],y)\n",
        "plot_data_allcols(x,y)"
      ],
      "execution_count": null,
      "outputs": [
        {
          "name": "stdout",
          "output_type": "stream",
          "text": [
            "x shape is (506, 13)\n",
            "y shape is (506,)\n"
          ]
        },
        {
          "ename": "NameError",
          "evalue": "ignored",
          "output_type": "error",
          "traceback": [
            "\u001b[0;31m---------------------------------------------------------------------------\u001b[0m",
            "\u001b[0;31mNameError\u001b[0m                                 Traceback (most recent call last)",
            "\u001b[0;32m<ipython-input-3-876e656e2af5>\u001b[0m in \u001b[0;36m<module>\u001b[0;34m()\u001b[0m\n\u001b[1;32m      2\u001b[0m \u001b[0mprint\u001b[0m \u001b[0;34m(\u001b[0m\u001b[0;34mf'y shape is {y.shape}'\u001b[0m\u001b[0;34m)\u001b[0m\u001b[0;34m\u001b[0m\u001b[0;34m\u001b[0m\u001b[0m\n\u001b[1;32m      3\u001b[0m \u001b[0;31m#plot_data1(x[:,0],y)\u001b[0m\u001b[0;34m\u001b[0m\u001b[0;34m\u001b[0m\u001b[0;34m\u001b[0m\u001b[0m\n\u001b[0;32m----> 4\u001b[0;31m \u001b[0mplot_data_allcols\u001b[0m\u001b[0;34m(\u001b[0m\u001b[0mx\u001b[0m\u001b[0;34m,\u001b[0m\u001b[0my\u001b[0m\u001b[0;34m)\u001b[0m\u001b[0;34m\u001b[0m\u001b[0;34m\u001b[0m\u001b[0m\n\u001b[0m",
            "\u001b[0;31mNameError\u001b[0m: name 'plot_data_allcols' is not defined"
          ]
        }
      ]
    },
    {
      "cell_type": "code",
      "metadata": {
        "id": "GbNeJxZEXn8t"
      },
      "source": [
        "x_normilizer=preprocessing.StandardScaler()\n",
        "x_norm=x_normilizer.fit_transform(x)"
      ],
      "execution_count": null,
      "outputs": []
    },
    {
      "cell_type": "code",
      "metadata": {
        "colab": {
          "base_uri": "https://localhost:8080/"
        },
        "id": "W2_Lg-XyiA20",
        "outputId": "278daef4-38d5-40d1-c514-5f773f3cd3f1"
      },
      "source": [
        "#splitting the data\n",
        "x_train,x_test,y_train,y_test=model_selection.train_test_split(x_norm,y,test_size=0.2)\n",
        "l_reg=linear_model.LinearRegression()\n",
        "print(x_train.shape)\n",
        "print(y_train.shape)\n"
      ],
      "execution_count": null,
      "outputs": [
        {
          "name": "stdout",
          "output_type": "stream",
          "text": [
            "(404, 13)\n",
            "(404,)\n"
          ]
        }
      ]
    },
    {
      "cell_type": "code",
      "metadata": {
        "id": "ZEYQtOVri6OF"
      },
      "source": [
        "model=l_reg.fit(x_train,y_train)"
      ],
      "execution_count": null,
      "outputs": []
    },
    {
      "cell_type": "code",
      "metadata": {
        "colab": {
          "base_uri": "https://localhost:8080/"
        },
        "id": "rGXnJG7OjFTM",
        "outputId": "4075a6ba-b904-46fa-cecb-5580fc108da4"
      },
      "source": [
        "pred=model.predict(x_test)\n",
        "print(x_test.shape)\n",
        "print(f'y shape is {y.shape}')\n",
        "print (f'y_test shape is {y_test.shape}')\n",
        "print(pred.shape)\n",
        "print(pred)"
      ],
      "execution_count": null,
      "outputs": [
        {
          "name": "stdout",
          "output_type": "stream",
          "text": [
            "(102, 13)\n",
            "y shape is (506,)\n",
            "y_test shape is (102,)\n",
            "(102,)\n",
            "[27.59670694 33.25311489 31.45200858 18.8908776  30.32498719 19.95695311\n",
            " 34.49362726 20.25485858 27.59018517 22.72374735 32.86182998 19.58896782\n",
            " 18.03445241 24.40512419 18.1844863  11.96193954 13.20384792 35.33531645\n",
            " 19.97338537 31.33556089 23.39275806 24.60987883 16.42818381 21.41916474\n",
            " 32.86941216 23.79076469 31.96693465 38.02685237 24.75556538 16.42817525\n",
            " 23.42276527 23.22221135 17.90231183 20.67353962 18.71220717 15.59066095\n",
            " 16.13331315 20.29208161 23.18451121 21.75107075 28.47957096 27.30317822\n",
            " 19.65668807 20.74103527 20.99206246 19.23255072 28.26427636 17.2969845\n",
            " 10.40831046 24.1441623  34.05264679  3.45778083 43.10427095 23.92355841\n",
            " 13.11303521 21.12719646 15.48441308 33.61927624 17.43824651 23.56698913\n",
            " 18.89202778 22.60338653 40.56224661 41.090235   24.93043219 17.09090756\n",
            " 16.1579458  25.30043045 11.89490554 31.27922158 25.16185162 13.91074705\n",
            " 20.06573127 22.83433714 22.66073482 27.64244502 30.21277352 33.25280525\n",
            " 25.80939416 16.13949617 20.74544571 27.16077188 10.82480926 25.27335226\n",
            " 19.06618025 21.82371354 34.37948328 37.48761629 19.39559516 24.82152127\n",
            " 19.47092214 25.4613637  17.63334582 17.78949489 24.87031757 21.23606399\n",
            " 20.21278715  9.2013719  27.52288327  9.05024955 17.17776295 20.62610115]\n"
          ]
        }
      ]
    },
    {
      "cell_type": "code",
      "metadata": {
        "colab": {
          "base_uri": "https://localhost:8080/"
        },
        "id": "qlhpAS30klX8",
        "outputId": "e99816e4-c640-4a7b-f90c-08ba8da5fab4"
      },
      "source": [
        "print(f'acc={metrics.mean_squared_error(y_test,pred)} ')\n",
        "print(f'linear reg score= {l_reg.score(x_test,y_test)}')\n"
      ],
      "execution_count": null,
      "outputs": [
        {
          "name": "stdout",
          "output_type": "stream",
          "text": [
            "acc=16.369384879542142 \n",
            "linear reg score= 0.7879497324962534\n"
          ]
        }
      ]
    },
    {
      "cell_type": "code",
      "metadata": {
        "colab": {
          "base_uri": "https://localhost:8080/"
        },
        "id": "A4s8e7lUlOd8",
        "outputId": "8f9fabf3-3488-410c-b676-c5208c1af31f"
      },
      "source": [
        "predd=int(input('endter index to check prediction '))\n",
        "\n",
        "print (f'prediction of index predd is {pred[predd]}')\n",
        "print (f'the y value is {y_test[predd]}')"
      ],
      "execution_count": null,
      "outputs": [
        {
          "name": "stdout",
          "output_type": "stream",
          "text": [
            "endter index to check prediction 10\n",
            "prediction of index predd is 32.86182998359606\n",
            "the y value is 33.1\n"
          ]
        }
      ]
    },
    {
      "cell_type": "code",
      "metadata": {
        "colab": {
          "base_uri": "https://localhost:8080/"
        },
        "id": "u0QHKrxXlpPE",
        "outputId": "2c61e439-8330-41d7-b3eb-ca527a2a5cb6"
      },
      "source": [
        "preddd=model.predict(x_norm)\n",
        "print(preddd.shape)\n",
        "predd=int(input('endter index to check prediction '))\n",
        "\n",
        "print (f'prediction of index predd is {preddd[predd]}')\n",
        "print (f'the y value is {y[predd]}')"
      ],
      "execution_count": null,
      "outputs": [
        {
          "name": "stdout",
          "output_type": "stream",
          "text": [
            "(506,)\n",
            "endter index to check prediction 70\n",
            "prediction of index predd is 25.405510937862875\n",
            "the y value is 24.2\n"
          ]
        }
      ]
    },
    {
      "cell_type": "code",
      "metadata": {
        "colab": {
          "base_uri": "https://localhost:8080/"
        },
        "id": "VxOTRsL7vDPF",
        "outputId": "4da34025-26f1-432b-c0ba-617ae475669e"
      },
      "source": [
        "\n"
      ],
      "execution_count": null,
      "outputs": [
        {
          "name": "stdout",
          "output_type": "stream",
          "text": [
            "linear reg score= 0.7391168571493512\n"
          ]
        }
      ]
    },
    {
      "cell_type": "markdown",
      "metadata": {
        "id": "LsL35QaGelUz"
      },
      "source": [
        "##classification "
      ]
    },
    {
      "cell_type": "markdown",
      "metadata": {
        "id": "-xR7gihZG6mp"
      },
      "source": [
        "###linear Regression-1"
      ]
    },
    {
      "cell_type": "code",
      "metadata": {
        "id": "3dSeP_bmwfxL"
      },
      "source": [
        "from sklearn import model_selection,metrics,linear_model,preprocessing,datasets\n",
        "import matplotlib.pyplot as plt\n",
        "import numpy as np"
      ],
      "execution_count": null,
      "outputs": []
    },
    {
      "cell_type": "code",
      "metadata": {
        "id": "guMBtGDAgpap"
      },
      "source": [
        "x,y=datasets.load_breast_cancer(return_X_y=True)# y is sick or not (abinary)\n"
      ],
      "execution_count": null,
      "outputs": []
    },
    {
      "cell_type": "code",
      "metadata": {
        "id": "NfkZE6vlgzZj"
      },
      "source": [
        "x_norm=preprocessing.StandardScaler()\n",
        "new_x=x_norm.fit_transform(x)"
      ],
      "execution_count": null,
      "outputs": []
    },
    {
      "cell_type": "code",
      "metadata": {
        "colab": {
          "base_uri": "https://localhost:8080/",
          "height": 283
        },
        "id": "oNDjyuWJhToK",
        "outputId": "8e5a0598-74e4-45fb-d79c-61b33a50b7bf"
      },
      "source": [
        "plt.plot(x[:,0],y,'*')"
      ],
      "execution_count": null,
      "outputs": [
        {
          "data": {
            "text/plain": [
              "[<matplotlib.lines.Line2D at 0x7f4b4bc4af90>]"
            ]
          },
          "execution_count": 7,
          "metadata": {},
          "output_type": "execute_result"
        },
        {
          "data": {
            "image/png": "[encoded data removed]",
            "text/plain": [
              "<Figure size 432x288 with 1 Axes>"
            ]
          },
          "metadata": {},
          "output_type": "display_data"
        }
      ]
    },
    {
      "cell_type": "code",
      "metadata": {
        "id": "06bD_kExhcXs"
      },
      "source": [
        "x_train,x_test,y_train,y_test=model_selection.train_test_split(new_x,y,test_size=0.2,random_state=42,stratify=y)"
      ],
      "execution_count": null,
      "outputs": []
    },
    {
      "cell_type": "code",
      "metadata": {
        "colab": {
          "base_uri": "https://localhost:8080/"
        },
        "id": "NorcFRf_iGBo",
        "outputId": "67d7bdf5-0419-4ce6-90d0-a61e4ef804ca"
      },
      "source": [
        "print (f'number of 0 in ytest is {len(y_test[y_test==0])}')\n",
        "print (f'number of 1 in ytest is {len(y_test[y_test==1])}')"
      ],
      "execution_count": null,
      "outputs": [
        {
          "name": "stdout",
          "output_type": "stream",
          "text": [
            "number of 0 in ytest is 42\n",
            "number of 1 in ytest is 72\n"
          ]
        }
      ]
    },
    {
      "cell_type": "code",
      "metadata": {
        "id": "oUWD6-Wxij50"
      },
      "source": [
        "l_reg=linear_model.LogisticRegression()"
      ],
      "execution_count": null,
      "outputs": []
    },
    {
      "cell_type": "code",
      "metadata": {
        "id": "TUh8R920kyAV"
      },
      "source": [
        "model=l_reg.fit(x_train,y_train)"
      ],
      "execution_count": null,
      "outputs": []
    },
    {
      "cell_type": "code",
      "metadata": {
        "id": "JGikCEGNk93X"
      },
      "source": [
        "pred=model.predict(x_test)"
      ],
      "execution_count": null,
      "outputs": []
    },
    {
      "cell_type": "code",
      "metadata": {
        "colab": {
          "base_uri": "https://localhost:8080/"
        },
        "id": "3RAwbWwQlB0y",
        "outputId": "38d6d1ea-bcd7-4c2b-e114-c5c0b8e4a22d"
      },
      "source": [
        "print(model.score(x_test,y_test))\n",
        "metrics.accuracy_score(y_test,pred)\n",
        "model.get_params()\n"
      ],
      "execution_count": null,
      "outputs": [
        {
          "name": "stdout",
          "output_type": "stream",
          "text": [
            "0.9824561403508771\n"
          ]
        },
        {
          "data": {
            "text/plain": [
              "{'C': 1.0,\n",
              " 'class_weight': None,\n",
              " 'dual': False,\n",
              " 'fit_intercept': True,\n",
              " 'intercept_scaling': 1,\n",
              " 'l1_ratio': None,\n",
              " 'max_iter': 100,\n",
              " 'multi_class': 'auto',\n",
              " 'n_jobs': None,\n",
              " 'penalty': 'l2',\n",
              " 'random_state': None,\n",
              " 'solver': 'lbfgs',\n",
              " 'tol': 0.0001,\n",
              " 'verbose': 0,\n",
              " 'warm_start': False}"
            ]
          },
          "execution_count": 17,
          "metadata": {},
          "output_type": "execute_result"
        }
      ]
    },
    {
      "cell_type": "markdown",
      "metadata": {
        "id": "U4UfkEPKc5n7"
      },
      "source": [
        "###Linear Reg _boston"
      ]
    },
    {
      "cell_type": "code",
      "metadata": {
        "id": "0EZpWYhKdKqB"
      },
      "source": [
        "import sklearn\n",
        "from sklearn import datasets,model_selection,preprocessing,linear_model,metrics\n",
        "import matplotlib.pyplot as plt\n",
        "import numpy as np\n",
        "import pandas as pd\n"
      ],
      "execution_count": null,
      "outputs": []
    },
    {
      "cell_type": "code",
      "metadata": {
        "id": "39ygsn_PdUP7"
      },
      "source": [
        "x,y=datasets.load_boston(return_X_y=True)"
      ],
      "execution_count": null,
      "outputs": []
    },
    {
      "cell_type": "code",
      "metadata": {
        "colab": {
          "base_uri": "https://localhost:8080/"
        },
        "id": "X0Gi8047dUYT",
        "outputId": "8a69b4ea-8bb5-480f-8510-cb1b212cbe1a"
      },
      "source": [
        "print(x.shape)\n",
        "y.shape\n"
      ],
      "execution_count": null,
      "outputs": [
        {
          "name": "stdout",
          "output_type": "stream",
          "text": [
            "(506, 13)\n"
          ]
        },
        {
          "data": {
            "text/plain": [
              "(506,)"
            ]
          },
          "execution_count": 5,
          "metadata": {},
          "output_type": "execute_result"
        }
      ]
    },
    {
      "cell_type": "code",
      "metadata": {
        "id": "ZGzScVymdUeR"
      },
      "source": [
        "def plot_data(x,y):\n",
        "  plt.figure(figsize=(10,10))\n",
        "  plt.subplot(2,2,1)\n",
        "  plt.plot(x,y,'*')\n",
        "  plt.subplot(2,2,2)\n",
        "  plt.hist(x)\n",
        "  \n",
        " "
      ],
      "execution_count": null,
      "outputs": []
    },
    {
      "cell_type": "code",
      "metadata": {
        "colab": {
          "base_uri": "https://localhost:8080/",
          "height": 295
        },
        "id": "eodTImJ1dUik",
        "outputId": "73a362ea-49a4-48d9-dfeb-8c169a3c188c"
      },
      "source": [
        "plot_data(x[:,0],y)"
      ],
      "execution_count": null,
      "outputs": [
        {
          "data": {
            "image/png": "[encoded data removed]",
            "text/plain": [
              "<Figure size 720x720 with 2 Axes>"
            ]
          },
          "metadata": {},
          "output_type": "display_data"
        }
      ]
    },
    {
      "cell_type": "code",
      "metadata": {
        "colab": {
          "base_uri": "https://localhost:8080/",
          "height": 295
        },
        "id": "TOWzvNpTdUmI",
        "outputId": "67904a38-65da-4d36-ab88-62bc1b0551f9"
      },
      "source": [
        "x_normalizer=preprocessing.MinMaxScaler()#this scaler maps bet 0 and 1\n",
        "x_norm=x_normalizer.fit_transform(x)\n",
        "plot_data(x_norm[:,1],y)\n",
        "#plot_data(x[:,1],y)"
      ],
      "execution_count": null,
      "outputs": [
        {
          "data": {
            "image/png": "[encoded data removed]",
            "text/plain": [
              "<Figure size 720x720 with 2 Axes>"
            ]
          },
          "metadata": {},
          "output_type": "display_data"
        }
      ]
    },
    {
      "cell_type": "code",
      "metadata": {
        "colab": {
          "base_uri": "https://localhost:8080/",
          "height": 573
        },
        "id": "D3l_YeDMdUpI",
        "outputId": "4575200c-d567-4819-8796-1c98ce0f41ab"
      },
      "source": [
        "plot_data(x[:,2],y)\n",
        "plot_data(x_norm[:,2],y)"
      ],
      "execution_count": null,
      "outputs": [
        {
          "data": {
            "image/png": "[encoded data removed]",
            "text/plain": [
              "<Figure size 720x720 with 2 Axes>"
            ]
          },
          "metadata": {},
          "output_type": "display_data"
        },
        {
          "data": {
            "image/png": "[encoded data removed]",
            "text/plain": [
              "<Figure size 720x720 with 2 Axes>"
            ]
          },
          "metadata": {},
          "output_type": "display_data"
        }
      ]
    },
    {
      "cell_type": "code",
      "metadata": {
        "colab": {
          "base_uri": "https://localhost:8080/",
          "height": 573
        },
        "id": "0ejwbe3TdUru",
        "outputId": "b3b261bf-7f73-4fe5-94ff-a28871c5db52"
      },
      "source": [
        "plot_data(x[:,3],y)\n",
        "plot_data(x_norm[:,3],y)"
      ],
      "execution_count": null,
      "outputs": [
        {
          "data": {
            "image/png": "[encoded data removed]",
            "text/plain": [
              "<Figure size 720x720 with 2 Axes>"
            ]
          },
          "metadata": {},
          "output_type": "display_data"
        },
        {
          "data": {
            "image/png": "[encoded data removed]",
            "text/plain": [
              "<Figure size 720x720 with 2 Axes>"
            ]
          },
          "metadata": {},
          "output_type": "display_data"
        }
      ]
    },
    {
      "cell_type": "code",
      "metadata": {
        "colab": {
          "base_uri": "https://localhost:8080/",
          "height": 573
        },
        "id": "Xi52SLncdUug",
        "outputId": "10f0ecca-390b-4314-c0eb-48d9477dc7b8"
      },
      "source": [
        "plot_data(x[:,4],y)\n",
        "plot_data(x_norm[:,4],y)"
      ],
      "execution_count": null,
      "outputs": [
        {
          "data": {
            "image/png": "[encoded data removed]",
            "text/plain": [
              "<Figure size 720x720 with 2 Axes>"
            ]
          },
          "metadata": {},
          "output_type": "display_data"
        },
        {
          "data": {
            "image/png": "[encoded data removed]",
            "text/plain": [
              "<Figure size 720x720 with 2 Axes>"
            ]
          },
          "metadata": {},
          "output_type": "display_data"
        }
      ]
    },
    {
      "cell_type": "code",
      "metadata": {
        "colab": {
          "base_uri": "https://localhost:8080/",
          "height": 573
        },
        "id": "RFe69JmWdUxB",
        "outputId": "fdc2064d-69cc-4d12-a631-57ea55f9b57c"
      },
      "source": [
        "plot_data(x[:,5],y)\n",
        "plot_data(x_norm[:,5],y)"
      ],
      "execution_count": null,
      "outputs": [
        {
          "data": {
            "image/png": "[encoded data removed]",
            "text/plain": [
              "<Figure size 720x720 with 2 Axes>"
            ]
          },
          "metadata": {},
          "output_type": "display_data"
        },
        {
          "data": {
            "image/png": "[encoded data removed]",
            "text/plain": [
              "<Figure size 720x720 with 2 Axes>"
            ]
          },
          "metadata": {},
          "output_type": "display_data"
        }
      ]
    },
    {
      "cell_type": "code",
      "metadata": {
        "id": "L_WPQ7uZdUzm"
      },
      "source": [
        "x_train,x_test,y_train,y_test=model_selection.train_test_split(x_norm,y,test_size=0.25,random_state=42)"
      ],
      "execution_count": null,
      "outputs": []
    },
    {
      "cell_type": "code",
      "metadata": {
        "colab": {
          "base_uri": "https://localhost:8080/"
        },
        "id": "L5yrvQBGfUaG",
        "outputId": "d5437486-7fe7-4e3d-8e5d-d00b8b868bb4"
      },
      "source": [
        "l_reg=linear_model.LinearRegression()\n",
        "model=l_reg.fit(x_train[:,5].reshape(-1,1),y_train)\n",
        "pred=model.predict(x_test[:,5].reshape(-1,1))\n",
        "print (f'pred score is {model.score(x_test[:,5].reshape(-1,1),y_test)}')\n",
        "print (f'test: index 10 of y_test is {y_test[10]} and the pred value is {pred[10]}')"
      ],
      "execution_count": null,
      "outputs": [
        {
          "name": "stdout",
          "output_type": "stream",
          "text": [
            "pred score is 0.38952758463985204\n",
            "test: index 10 of y_test is 21.5 and the pred value is 19.442148496504608\n"
          ]
        }
      ]
    },
    {
      "cell_type": "code",
      "metadata": {
        "colab": {
          "base_uri": "https://localhost:8080/",
          "height": 359
        },
        "id": "-E-FLRHTfUdW",
        "outputId": "659d2167-1ead-46a9-e2ed-dae8ec3819d8"
      },
      "source": [
        "plt.plot(x_train[:,5],y_train,'*')\n",
        "plt.plot(x_test[:,5],pred)\n",
        "# plt.plot(x_test[:,5],y_test,'*')\n",
        "print(x_test[:,5].shape)\n",
        "print(x_test.shape)\n",
        "print(y_train.shape)\n",
        "print(y_test.shape)\n",
        "print(pred.shape)\n",
        "# x_train[:,5].reshape(-1,1).shape\n",
        "# df=pd.DataFrame(x_train[:,5],columns=['a'])\n",
        "# df['a'].shape\n",
        "# data=datasets.load_boston()\n",
        "# x_fe=data.feature_names\n",
        "# print(f'fx_e= {x_fe}')\n",
        "# x_train=pd.DataFrame(x_train,columns=x_fe)\n",
        "# print(x_train.shape)\n",
        "# x_test[:0]"
      ],
      "execution_count": null,
      "outputs": [
        {
          "name": "stdout",
          "output_type": "stream",
          "text": [
            "(127,)\n",
            "(127, 13)\n",
            "(379,)\n",
            "(127,)\n",
            "(127,)\n"
          ]
        },
        {
          "data": {
            "image/png": "[encoded data removed]",
            "text/plain": [
              "<Figure size 432x288 with 1 Axes>"
            ]
          },
          "metadata": {},
          "output_type": "display_data"
        }
      ]
    },
    {
      "cell_type": "code",
      "metadata": {
        "id": "Y0v7QfktfUf7"
      },
      "source": [
        ""
      ],
      "execution_count": null,
      "outputs": []
    },
    {
      "cell_type": "code",
      "metadata": {
        "id": "Q4KlS9aOfUig"
      },
      "source": [
        ""
      ],
      "execution_count": null,
      "outputs": []
    },
    {
      "cell_type": "code",
      "metadata": {
        "id": "hiEiuygYfUlS"
      },
      "source": [
        ""
      ],
      "execution_count": null,
      "outputs": []
    },
    {
      "cell_type": "code",
      "metadata": {
        "id": "q-VZR-tvfUny"
      },
      "source": [
        ""
      ],
      "execution_count": null,
      "outputs": []
    },
    {
      "cell_type": "code",
      "metadata": {
        "id": "tdR5X5bpfUqt"
      },
      "source": [
        ""
      ],
      "execution_count": null,
      "outputs": []
    },
    {
      "cell_type": "code",
      "metadata": {
        "id": "Rd15-3MXfUs8"
      },
      "source": [
        ""
      ],
      "execution_count": null,
      "outputs": []
    },
    {
      "cell_type": "code",
      "metadata": {
        "id": "tPDUhetyfUvb"
      },
      "source": [
        ""
      ],
      "execution_count": null,
      "outputs": []
    },
    {
      "cell_type": "code",
      "metadata": {
        "id": "9uj75moIfUxr"
      },
      "source": [
        ""
      ],
      "execution_count": null,
      "outputs": []
    },
    {
      "cell_type": "code",
      "metadata": {
        "id": "jhZgxnLkdU12"
      },
      "source": [
        ""
      ],
      "execution_count": null,
      "outputs": []
    },
    {
      "cell_type": "markdown",
      "metadata": {
        "id": "c0hKnQ1JHKui"
      },
      "source": [
        "###Logistic Classification DigitsDAtaset"
      ]
    },
    {
      "cell_type": "code",
      "metadata": {
        "id": "JAPMK-lGlUmq"
      },
      "source": [
        "x,y=datasets.load_digits(return_X_y=True)"
      ],
      "execution_count": null,
      "outputs": []
    },
    {
      "cell_type": "code",
      "metadata": {
        "colab": {
          "base_uri": "https://localhost:8080/"
        },
        "id": "gy9DqPXNnkPE",
        "outputId": "6a8cfad3-6ddf-4669-85dd-f8dcbf0e2f0b"
      },
      "source": [
        "print(f'x shape is {x.shape}')\n",
        "#df=pd.DataFrame(x[:,:3],columns=['a','b','c'])\n",
        "#df.shape\n",
        "#df.sort_values(by=['a'],ascending=True)"
      ],
      "execution_count": null,
      "outputs": [
        {
          "name": "stdout",
          "output_type": "stream",
          "text": [
            "x shape is (1797, 64)\n"
          ]
        },
        {
          "data": {
            "text/plain": [
              "15.0"
            ]
          },
          "execution_count": 89,
          "metadata": {},
          "output_type": "execute_result"
        }
      ]
    },
    {
      "cell_type": "code",
      "metadata": {
        "colab": {
          "base_uri": "https://localhost:8080/",
          "height": 359
        },
        "id": "c8UFGDcJn3Bp",
        "outputId": "bec16e53-a39b-4a36-ec5f-b286c71159df"
      },
      "source": [
        "#plt.imshow(x[3].reshape(8,8))\n",
        "plt.imshow(x[4].reshape(8,8))\n",
        "print(x.max()) #the max value is 16\n",
        "print(x[0])"
      ],
      "execution_count": null,
      "outputs": [
        {
          "name": "stdout",
          "output_type": "stream",
          "text": [
            "16.0\n",
            "[ 0.  0.  5. 13.  9.  1.  0.  0.  0.  0. 13. 15. 10. 15.  5.  0.  0.  3.\n",
            " 15.  2.  0. 11.  8.  0.  0.  4. 12.  0.  0.  8.  8.  0.  0.  5.  8.  0.\n",
            "  0.  9.  8.  0.  0.  4. 11.  0.  1. 12.  7.  0.  0.  2. 14.  5. 10. 12.\n",
            "  0.  0.  0.  0.  6. 13. 10.  0.  0.  0.]\n"
          ]
        },
        {
          "data": {
            "image/png": "[encoded data removed]",
            "text/plain": [
              "<Figure size 432x288 with 1 Axes>"
            ]
          },
          "metadata": {},
          "output_type": "display_data"
        }
      ]
    },
    {
      "cell_type": "code",
      "metadata": {
        "id": "3j88lN94pLcX"
      },
      "source": [
        "#new_x=x/16.0\n",
        "x_norm=x/16.0"
      ],
      "execution_count": null,
      "outputs": []
    },
    {
      "cell_type": "code",
      "metadata": {
        "id": "5GliOQJdpjhQ"
      },
      "source": [
        "x_train,x_test,y_train,y_test=model_selection.train_test_split(x_norm,y,random_state=42,test_size=0.3,stratify=y)\n",
        "log_reg=linear_model.LogisticRegression()\n",
        "model=log_reg.fit(x_train,y_train)"
      ],
      "execution_count": null,
      "outputs": []
    },
    {
      "cell_type": "code",
      "metadata": {
        "id": "o_-VJrsoRdmk"
      },
      "source": [
        "pred=model.predict(x_test)"
      ],
      "execution_count": null,
      "outputs": []
    },
    {
      "cell_type": "code",
      "metadata": {
        "colab": {
          "base_uri": "https://localhost:8080/"
        },
        "id": "tOA6sF71RdrT",
        "outputId": "8be1ada0-8f1d-4c18-8d9b-9e35085ec5ec"
      },
      "source": [
        "metrics.accuracy_score(y_test,pred)"
      ],
      "execution_count": null,
      "outputs": [
        {
          "data": {
            "text/plain": [
              "0.9648148148148148"
            ]
          },
          "execution_count": 101,
          "metadata": {},
          "output_type": "execute_result"
        }
      ]
    },
    {
      "cell_type": "code",
      "metadata": {
        "colab": {
          "base_uri": "https://localhost:8080/",
          "height": 281
        },
        "id": "a9fZgyCJSOTd",
        "outputId": "7e1ffdf0-da28-4256-da33-f7180a685a27"
      },
      "source": [
        "# print(y_test)\n",
        "# print(pred)\n",
        "print(y_test.shape)\n",
        "print(pred.shape)\n",
        "#lets return the index of mismatch\n",
        "mis=[]\n",
        "for i in range(len(y_test)):\n",
        "  if(y_test[i]!=pred[i]):\n",
        "    mis.append(i)\n",
        "print(mis)\n",
        "array=np.array([y_test,pred]) # w rows and 540 cols\n",
        "array=np.transpose(array)#to make it 540 row and 2 cols\n",
        "print(array.shape)\n",
        "df=pd.DataFrame(array,columns=['y_test','pred'])\n",
        "df.head()"
      ],
      "execution_count": null,
      "outputs": [
        {
          "name": "stdout",
          "output_type": "stream",
          "text": [
            "(540,)\n",
            "(540,)\n",
            "[75, 123, 137, 145, 181, 185, 196, 207, 252, 329, 373, 376, 434, 436, 437, 450, 451, 517, 532]\n",
            "(540, 2)\n"
          ]
        },
        {
          "data": {
            "text/html": [
              "<div>\n",
              "<style scoped>\n",
              "    .dataframe tbody tr th:only-of-type {\n",
              "        vertical-align: middle;\n",
              "    }\n",
              "\n",
              "    .dataframe tbody tr th {\n",
              "        vertical-align: top;\n",
              "    }\n",
              "\n",
              "    .dataframe thead th {\n",
              "        text-align: right;\n",
              "    }\n",
              "</style>\n",
              "<table border=\"1\" class=\"dataframe\">\n",
              "  <thead>\n",
              "    <tr style=\"text-align: right;\">\n",
              "      <th></th>\n",
              "      <th>y_test</th>\n",
              "      <th>pred</th>\n",
              "    </tr>\n",
              "  </thead>\n",
              "  <tbody>\n",
              "    <tr>\n",
              "      <th>0</th>\n",
              "      <td>1</td>\n",
              "      <td>1</td>\n",
              "    </tr>\n",
              "    <tr>\n",
              "      <th>1</th>\n",
              "      <td>3</td>\n",
              "      <td>3</td>\n",
              "    </tr>\n",
              "    <tr>\n",
              "      <th>2</th>\n",
              "      <td>1</td>\n",
              "      <td>1</td>\n",
              "    </tr>\n",
              "    <tr>\n",
              "      <th>3</th>\n",
              "      <td>5</td>\n",
              "      <td>5</td>\n",
              "    </tr>\n",
              "    <tr>\n",
              "      <th>4</th>\n",
              "      <td>0</td>\n",
              "      <td>0</td>\n",
              "    </tr>\n",
              "  </tbody>\n",
              "</table>\n",
              "</div>"
            ],
            "text/plain": [
              "   y_test  pred\n",
              "0       1     1\n",
              "1       3     3\n",
              "2       1     1\n",
              "3       5     5\n",
              "4       0     0"
            ]
          },
          "execution_count": 131,
          "metadata": {},
          "output_type": "execute_result"
        }
      ]
    },
    {
      "cell_type": "code",
      "metadata": {
        "colab": {
          "base_uri": "https://localhost:8080/"
        },
        "id": "oZ0OofAFRuJh",
        "outputId": "074112d4-101b-449d-fbb5-5c9016b6b686"
      },
      "source": [
        "pred.shape"
      ],
      "execution_count": null,
      "outputs": [
        {
          "data": {
            "text/plain": [
              "(540,)"
            ]
          },
          "execution_count": 105,
          "metadata": {},
          "output_type": "execute_result"
        }
      ]
    },
    {
      "cell_type": "markdown",
      "metadata": {
        "id": "8SXOryAbQaUm"
      },
      "source": [
        "###knn"
      ]
    },
    {
      "cell_type": "code",
      "metadata": {
        "id": "fzsrSJLMtuaV"
      },
      "source": [
        "#knn\n",
        "\n",
        "from sklearn import neighbors"
      ],
      "execution_count": null,
      "outputs": []
    },
    {
      "cell_type": "code",
      "metadata": {
        "id": "LJj5PNdHtzTC"
      },
      "source": [
        "#using the same dataset and values from the above model\n",
        "\n",
        "knn_cla=neighbors.KNeighborsClassifier(n_neighbors=3)\n",
        "knn_model=knn_cla.fit(x_train,y_train)"
      ],
      "execution_count": null,
      "outputs": []
    },
    {
      "cell_type": "code",
      "metadata": {
        "colab": {
          "base_uri": "https://localhost:8080/"
        },
        "id": "oVlmaygWcE3E",
        "outputId": "56843e88-f249-428a-af76-dee781f93af8"
      },
      "source": [
        "knn_pred=knn_model.predict(x_test)\n",
        "print(metrics.accuracy_score(y_test,knn_pred))\n",
        "\n",
        "pred2=knn_model.predict(x_train)\n",
        "print(metrics.accuracy_score(y_train,pred2))\n",
        "#metrics.mean_squared_error(y_test,knn_pred)\n",
        "#plt.plot(x_test[:6],y_test[:6],'*')\n",
        "#plt.plot(x_test[:6],knn_pred[:6])"
      ],
      "execution_count": null,
      "outputs": [
        {
          "name": "stdout",
          "output_type": "stream",
          "text": [
            "0.987037037037037\n",
            "0.9952267303102625\n"
          ]
        },
        {
          "data": {
            "text/plain": [
              "0.3574074074074074"
            ]
          },
          "execution_count": 151,
          "metadata": {},
          "output_type": "execute_result"
        }
      ]
    },
    {
      "cell_type": "code",
      "metadata": {
        "id": "PuHj1CAKcE-h"
      },
      "source": [
        ""
      ],
      "execution_count": null,
      "outputs": []
    },
    {
      "cell_type": "code",
      "metadata": {
        "id": "0-_v_J2ey46k"
      },
      "source": [
        "#decision tress\n",
        "from sklearn import tree,ensemble"
      ],
      "execution_count": null,
      "outputs": []
    },
    {
      "cell_type": "code",
      "metadata": {
        "id": "m-02tzoWzKtV"
      },
      "source": [
        "x,y=datasets.load_iris(return_X_y=True)"
      ],
      "execution_count": null,
      "outputs": []
    },
    {
      "cell_type": "code",
      "metadata": {
        "colab": {
          "base_uri": "https://localhost:8080/"
        },
        "id": "erMiqfswzbbo",
        "outputId": "098cf1a4-e786-4566-91ac-32334b9a723b"
      },
      "source": [
        "print(x.shape)\n",
        "print(y.shape)"
      ],
      "execution_count": null,
      "outputs": [
        {
          "name": "stdout",
          "output_type": "stream",
          "text": [
            "(150, 4)\n",
            "(150,)\n"
          ]
        }
      ]
    },
    {
      "cell_type": "code",
      "metadata": {
        "id": "EV6vtrQ9zyRI"
      },
      "source": [
        "x_train,x_test,y_train,y_test=model_selection.train_test_split(x,y,test_size=0.2,stratify=y,random_state=42)"
      ],
      "execution_count": null,
      "outputs": []
    },
    {
      "cell_type": "code",
      "metadata": {
        "id": "s0r7imzX0ADe"
      },
      "source": [
        "d_tree=tree.DecisionTreeClassifier(max_depth=100)"
      ],
      "execution_count": null,
      "outputs": []
    },
    {
      "cell_type": "code",
      "metadata": {
        "id": "mGHhydE40bLG"
      },
      "source": [
        "model=d_tree.fit(x_train,y_train)"
      ],
      "execution_count": null,
      "outputs": []
    },
    {
      "cell_type": "code",
      "metadata": {
        "id": "bKtk5dVy0nwh"
      },
      "source": [
        "pred=model.predict(x_test)"
      ],
      "execution_count": null,
      "outputs": []
    },
    {
      "cell_type": "code",
      "metadata": {
        "colab": {
          "base_uri": "https://localhost:8080/"
        },
        "id": "tLR1LByy0sku",
        "outputId": "0235b801-7273-4c2c-da13-03c1905a649b"
      },
      "source": [
        "metrics.balanced_accuracy_score(y_test,pred)"
      ],
      "execution_count": null,
      "outputs": [
        {
          "data": {
            "text/plain": [
              "0.9666666666666667"
            ]
          },
          "execution_count": 57,
          "metadata": {},
          "output_type": "execute_result"
        }
      ]
    },
    {
      "cell_type": "code",
      "metadata": {
        "id": "kQtnzGCV0xMO"
      },
      "source": [
        "plt.figure(figsize=(10,10))\n",
        "tree.plot_tree(model)"
      ],
      "execution_count": null,
      "outputs": []
    },
    {
      "cell_type": "code",
      "metadata": {
        "id": "1CLlXcSA1Bt4"
      },
      "source": [
        "test=x[0]"
      ],
      "execution_count": null,
      "outputs": []
    },
    {
      "cell_type": "code",
      "metadata": {
        "colab": {
          "base_uri": "https://localhost:8080/"
        },
        "id": "tlItVSU71_WZ",
        "outputId": "bf392289-6bc0-4d48-f246-4a8ed0d065cb"
      },
      "source": [
        "test.shape"
      ],
      "execution_count": null,
      "outputs": [
        {
          "data": {
            "text/plain": [
              "(4,)"
            ]
          },
          "execution_count": 60,
          "metadata": {},
          "output_type": "execute_result"
        }
      ]
    },
    {
      "cell_type": "code",
      "metadata": {
        "colab": {
          "base_uri": "https://localhost:8080/"
        },
        "id": "mtaHg9JB2AeV",
        "outputId": "9caaead3-1373-422f-a6e3-a4addf001eb4"
      },
      "source": [
        "x.shape"
      ],
      "execution_count": null,
      "outputs": [
        {
          "data": {
            "text/plain": [
              "(150, 4)"
            ]
          },
          "execution_count": 61,
          "metadata": {},
          "output_type": "execute_result"
        }
      ]
    },
    {
      "cell_type": "code",
      "metadata": {
        "colab": {
          "base_uri": "https://localhost:8080/",
          "height": 359
        },
        "id": "Jt9Q_8SZ2N4t",
        "outputId": "209ab4c0-d411-44aa-95cd-a7a48569fdcd"
      },
      "source": [
        "tree_model.predict(np.expand_dims(test,0))"
      ],
      "execution_count": null,
      "outputs": [
        {
          "ename": "NotFittedError",
          "evalue": "ignored",
          "output_type": "error",
          "traceback": [
            "\u001b[0;31m---------------------------------------------------------------------------\u001b[0m",
            "\u001b[0;31mNotFittedError\u001b[0m                            Traceback (most recent call last)",
            "\u001b[0;32m<ipython-input-62-8b50b90770c8>\u001b[0m in \u001b[0;36m<module>\u001b[0;34m()\u001b[0m\n\u001b[0;32m----> 1\u001b[0;31m \u001b[0mtree_model\u001b[0m\u001b[0;34m.\u001b[0m\u001b[0mpredict\u001b[0m\u001b[0;34m(\u001b[0m\u001b[0mnp\u001b[0m\u001b[0;34m.\u001b[0m\u001b[0mexpand_dims\u001b[0m\u001b[0;34m(\u001b[0m\u001b[0mtest\u001b[0m\u001b[0;34m,\u001b[0m\u001b[0;36m0\u001b[0m\u001b[0;34m)\u001b[0m\u001b[0;34m)\u001b[0m\u001b[0;34m\u001b[0m\u001b[0;34m\u001b[0m\u001b[0m\n\u001b[0m",
            "\u001b[0;32m/usr/local/lib/python3.7/dist-packages/sklearn/tree/_classes.py\u001b[0m in \u001b[0;36mpredict\u001b[0;34m(self, X, check_input)\u001b[0m\n\u001b[1;32m    416\u001b[0m             \u001b[0mThe\u001b[0m \u001b[0mpredicted\u001b[0m \u001b[0mclasses\u001b[0m\u001b[0;34m,\u001b[0m \u001b[0;32mor\u001b[0m \u001b[0mthe\u001b[0m \u001b[0mpredict\u001b[0m \u001b[0mvalues\u001b[0m\u001b[0;34m.\u001b[0m\u001b[0;34m\u001b[0m\u001b[0;34m\u001b[0m\u001b[0m\n\u001b[1;32m    417\u001b[0m         \"\"\"\n\u001b[0;32m--> 418\u001b[0;31m         \u001b[0mcheck_is_fitted\u001b[0m\u001b[0;34m(\u001b[0m\u001b[0mself\u001b[0m\u001b[0;34m)\u001b[0m\u001b[0;34m\u001b[0m\u001b[0;34m\u001b[0m\u001b[0m\n\u001b[0m\u001b[1;32m    419\u001b[0m         \u001b[0mX\u001b[0m \u001b[0;34m=\u001b[0m \u001b[0mself\u001b[0m\u001b[0;34m.\u001b[0m\u001b[0m_validate_X_predict\u001b[0m\u001b[0;34m(\u001b[0m\u001b[0mX\u001b[0m\u001b[0;34m,\u001b[0m \u001b[0mcheck_input\u001b[0m\u001b[0;34m)\u001b[0m\u001b[0;34m\u001b[0m\u001b[0;34m\u001b[0m\u001b[0m\n\u001b[1;32m    420\u001b[0m         \u001b[0mproba\u001b[0m \u001b[0;34m=\u001b[0m \u001b[0mself\u001b[0m\u001b[0;34m.\u001b[0m\u001b[0mtree_\u001b[0m\u001b[0;34m.\u001b[0m\u001b[0mpredict\u001b[0m\u001b[0;34m(\u001b[0m\u001b[0mX\u001b[0m\u001b[0;34m)\u001b[0m\u001b[0;34m\u001b[0m\u001b[0;34m\u001b[0m\u001b[0m\n",
            "\u001b[0;32m/usr/local/lib/python3.7/dist-packages/sklearn/utils/validation.py\u001b[0m in \u001b[0;36mcheck_is_fitted\u001b[0;34m(estimator, attributes, msg, all_or_any)\u001b[0m\n\u001b[1;32m    965\u001b[0m \u001b[0;34m\u001b[0m\u001b[0m\n\u001b[1;32m    966\u001b[0m     \u001b[0;32mif\u001b[0m \u001b[0;32mnot\u001b[0m \u001b[0mattrs\u001b[0m\u001b[0;34m:\u001b[0m\u001b[0;34m\u001b[0m\u001b[0;34m\u001b[0m\u001b[0m\n\u001b[0;32m--> 967\u001b[0;31m         \u001b[0;32mraise\u001b[0m \u001b[0mNotFittedError\u001b[0m\u001b[0;34m(\u001b[0m\u001b[0mmsg\u001b[0m \u001b[0;34m%\u001b[0m \u001b[0;34m{\u001b[0m\u001b[0;34m'name'\u001b[0m\u001b[0;34m:\u001b[0m \u001b[0mtype\u001b[0m\u001b[0;34m(\u001b[0m\u001b[0mestimator\u001b[0m\u001b[0;34m)\u001b[0m\u001b[0;34m.\u001b[0m\u001b[0m__name__\u001b[0m\u001b[0;34m}\u001b[0m\u001b[0;34m)\u001b[0m\u001b[0;34m\u001b[0m\u001b[0;34m\u001b[0m\u001b[0m\n\u001b[0m\u001b[1;32m    968\u001b[0m \u001b[0;34m\u001b[0m\u001b[0m\n\u001b[1;32m    969\u001b[0m \u001b[0;34m\u001b[0m\u001b[0m\n",
            "\u001b[0;31mNotFittedError\u001b[0m: This DecisionTreeClassifier instance is not fitted yet. Call 'fit' with appropriate arguments before using this estimator."
          ]
        }
      ]
    },
    {
      "cell_type": "code",
      "metadata": {
        "id": "D6vBvS2X2b3w"
      },
      "source": [
        "#redo for regression\n",
        "#from sklearn import model_sele\n"
      ],
      "execution_count": null,
      "outputs": []
    },
    {
      "cell_type": "markdown",
      "metadata": {
        "id": "8la9avOA8B0N"
      },
      "source": [
        "## evalueation metrics"
      ]
    },
    {
      "cell_type": "code",
      "metadata": {
        "id": "LWqyNV9S8EcR"
      },
      "source": [
        "from sklearn import datasets,model_selection,preprocessing,metrics,linear_model,svm"
      ],
      "execution_count": null,
      "outputs": []
    },
    {
      "cell_type": "code",
      "metadata": {
        "id": "cCR3Tkt18gat"
      },
      "source": [
        "import pandas as pd\n",
        "import numpy as np\n",
        "import matplotlib.pyplot as plt\n"
      ],
      "execution_count": null,
      "outputs": []
    },
    {
      "cell_type": "code",
      "metadata": {
        "id": "v0qCQdwm8qVE"
      },
      "source": [
        "data=pd.read_csv('/content/sample_data/california_housing_test.csv')"
      ],
      "execution_count": null,
      "outputs": []
    },
    {
      "cell_type": "code",
      "metadata": {
        "colab": {
          "base_uri": "https://localhost:8080/",
          "height": 444
        },
        "id": "W_7M5Uig8xmh",
        "outputId": "144a428a-70fe-4e9d-a5d0-d3e062f5428e"
      },
      "source": [
        "data"
      ],
      "execution_count": null,
      "outputs": [
        {
          "data": {
            "text/html": [
              "<div>\n",
              "<style scoped>\n",
              "    .dataframe tbody tr th:only-of-type {\n",
              "        vertical-align: middle;\n",
              "    }\n",
              "\n",
              "    .dataframe tbody tr th {\n",
              "        vertical-align: top;\n",
              "    }\n",
              "\n",
              "    .dataframe thead th {\n",
              "        text-align: right;\n",
              "    }\n",
              "</style>\n",
              "<table border=\"1\" class=\"dataframe\">\n",
              "  <thead>\n",
              "    <tr style=\"text-align: right;\">\n",
              "      <th></th>\n",
              "      <th>longitude</th>\n",
              "      <th>latitude</th>\n",
              "      <th>housing_median_age</th>\n",
              "      <th>total_rooms</th>\n",
              "      <th>total_bedrooms</th>\n",
              "      <th>population</th>\n",
              "      <th>households</th>\n",
              "      <th>median_income</th>\n",
              "      <th>median_house_value</th>\n",
              "    </tr>\n",
              "  </thead>\n",
              "  <tbody>\n",
              "    <tr>\n",
              "      <th>0</th>\n",
              "      <td>-122.05</td>\n",
              "      <td>37.37</td>\n",
              "      <td>27.0</td>\n",
              "      <td>3885.0</td>\n",
              "      <td>661.0</td>\n",
              "      <td>1537.0</td>\n",
              "      <td>606.0</td>\n",
              "      <td>6.6085</td>\n",
              "      <td>344700.0</td>\n",
              "    </tr>\n",
              "    <tr>\n",
              "      <th>1</th>\n",
              "      <td>-118.30</td>\n",
              "      <td>34.26</td>\n",
              "      <td>43.0</td>\n",
              "      <td>1510.0</td>\n",
              "      <td>310.0</td>\n",
              "      <td>809.0</td>\n",
              "      <td>277.0</td>\n",
              "      <td>3.5990</td>\n",
              "      <td>176500.0</td>\n",
              "    </tr>\n",
              "    <tr>\n",
              "      <th>2</th>\n",
              "      <td>-117.81</td>\n",
              "      <td>33.78</td>\n",
              "      <td>27.0</td>\n",
              "      <td>3589.0</td>\n",
              "      <td>507.0</td>\n",
              "      <td>1484.0</td>\n",
              "      <td>495.0</td>\n",
              "      <td>5.7934</td>\n",
              "      <td>270500.0</td>\n",
              "    </tr>\n",
              "    <tr>\n",
              "      <th>3</th>\n",
              "      <td>-118.36</td>\n",
              "      <td>33.82</td>\n",
              "      <td>28.0</td>\n",
              "      <td>67.0</td>\n",
              "      <td>15.0</td>\n",
              "      <td>49.0</td>\n",
              "      <td>11.0</td>\n",
              "      <td>6.1359</td>\n",
              "      <td>330000.0</td>\n",
              "    </tr>\n",
              "    <tr>\n",
              "      <th>4</th>\n",
              "      <td>-119.67</td>\n",
              "      <td>36.33</td>\n",
              "      <td>19.0</td>\n",
              "      <td>1241.0</td>\n",
              "      <td>244.0</td>\n",
              "      <td>850.0</td>\n",
              "      <td>237.0</td>\n",
              "      <td>2.9375</td>\n",
              "      <td>81700.0</td>\n",
              "    </tr>\n",
              "    <tr>\n",
              "      <th>...</th>\n",
              "      <td>...</td>\n",
              "      <td>...</td>\n",
              "      <td>...</td>\n",
              "      <td>...</td>\n",
              "      <td>...</td>\n",
              "      <td>...</td>\n",
              "      <td>...</td>\n",
              "      <td>...</td>\n",
              "      <td>...</td>\n",
              "    </tr>\n",
              "    <tr>\n",
              "      <th>2995</th>\n",
              "      <td>-119.86</td>\n",
              "      <td>34.42</td>\n",
              "      <td>23.0</td>\n",
              "      <td>1450.0</td>\n",
              "      <td>642.0</td>\n",
              "      <td>1258.0</td>\n",
              "      <td>607.0</td>\n",
              "      <td>1.1790</td>\n",
              "      <td>225000.0</td>\n",
              "    </tr>\n",
              "    <tr>\n",
              "      <th>2996</th>\n",
              "      <td>-118.14</td>\n",
              "      <td>34.06</td>\n",
              "      <td>27.0</td>\n",
              "      <td>5257.0</td>\n",
              "      <td>1082.0</td>\n",
              "      <td>3496.0</td>\n",
              "      <td>1036.0</td>\n",
              "      <td>3.3906</td>\n",
              "      <td>237200.0</td>\n",
              "    </tr>\n",
              "    <tr>\n",
              "      <th>2997</th>\n",
              "      <td>-119.70</td>\n",
              "      <td>36.30</td>\n",
              "      <td>10.0</td>\n",
              "      <td>956.0</td>\n",
              "      <td>201.0</td>\n",
              "      <td>693.0</td>\n",
              "      <td>220.0</td>\n",
              "      <td>2.2895</td>\n",
              "      <td>62000.0</td>\n",
              "    </tr>\n",
              "    <tr>\n",
              "      <th>2998</th>\n",
              "      <td>-117.12</td>\n",
              "      <td>34.10</td>\n",
              "      <td>40.0</td>\n",
              "      <td>96.0</td>\n",
              "      <td>14.0</td>\n",
              "      <td>46.0</td>\n",
              "      <td>14.0</td>\n",
              "      <td>3.2708</td>\n",
              "      <td>162500.0</td>\n",
              "    </tr>\n",
              "    <tr>\n",
              "      <th>2999</th>\n",
              "      <td>-119.63</td>\n",
              "      <td>34.42</td>\n",
              "      <td>42.0</td>\n",
              "      <td>1765.0</td>\n",
              "      <td>263.0</td>\n",
              "      <td>753.0</td>\n",
              "      <td>260.0</td>\n",
              "      <td>8.5608</td>\n",
              "      <td>500001.0</td>\n",
              "    </tr>\n",
              "  </tbody>\n",
              "</table>\n",
              "<p>3000 rows × 9 columns</p>\n",
              "</div>"
            ],
            "text/plain": [
              "      longitude  latitude  ...  median_income  median_house_value\n",
              "0       -122.05     37.37  ...         6.6085            344700.0\n",
              "1       -118.30     34.26  ...         3.5990            176500.0\n",
              "2       -117.81     33.78  ...         5.7934            270500.0\n",
              "3       -118.36     33.82  ...         6.1359            330000.0\n",
              "4       -119.67     36.33  ...         2.9375             81700.0\n",
              "...         ...       ...  ...            ...                 ...\n",
              "2995    -119.86     34.42  ...         1.1790            225000.0\n",
              "2996    -118.14     34.06  ...         3.3906            237200.0\n",
              "2997    -119.70     36.30  ...         2.2895             62000.0\n",
              "2998    -117.12     34.10  ...         3.2708            162500.0\n",
              "2999    -119.63     34.42  ...         8.5608            500001.0\n",
              "\n",
              "[3000 rows x 9 columns]"
            ]
          },
          "execution_count": 5,
          "metadata": {},
          "output_type": "execute_result"
        }
      ]
    },
    {
      "cell_type": "code",
      "metadata": {
        "id": "OO-246ko8zxB"
      },
      "source": [
        "x=data.iloc[:,2:8]"
      ],
      "execution_count": null,
      "outputs": []
    },
    {
      "cell_type": "code",
      "metadata": {
        "id": "kZvnjFjI9RBK"
      },
      "source": [
        "y=np.array(data.median_house_value)"
      ],
      "execution_count": null,
      "outputs": []
    },
    {
      "cell_type": "code",
      "metadata": {
        "id": "qLEifJPd9X4c"
      },
      "source": [
        "x_normilizer=preprocessing.StandardScaler()\n",
        "y_normilizer=preprocessing.StandardScaler()\n",
        "x_norm=x_normilizer.fit_transform(x)"
      ],
      "execution_count": null,
      "outputs": []
    },
    {
      "cell_type": "code",
      "metadata": {
        "id": "2dKTZJwg94rw"
      },
      "source": [
        "y_norm=y_normilizer.fit_transform(y.reshape(-1,1))\n",
        "#cont...\n",
        "x_train,x_test,y_train,y_test=model_selection.train_test_split(x_norm,y_norm)"
      ],
      "execution_count": null,
      "outputs": []
    },
    {
      "cell_type": "markdown",
      "metadata": {
        "id": "buZ-XhPtG3wZ"
      },
      "source": [
        "##SVM"
      ]
    },
    {
      "cell_type": "code",
      "metadata": {
        "colab": {
          "base_uri": "https://localhost:8080/"
        },
        "id": "9jgSj1ZO9-x3",
        "outputId": "b658ced7-b096-4ba5-c03f-76cd4c4fd098"
      },
      "source": [
        "svm_model=svm.SVR(kernel='rbf',C=1.0)\n",
        "svm_model=svm_model.fit(x_train,y_train)"
      ],
      "execution_count": null,
      "outputs": [
        {
          "name": "stderr",
          "output_type": "stream",
          "text": [
            "/usr/local/lib/python3.7/dist-packages/sklearn/utils/validation.py:760: DataConversionWarning: A column-vector y was passed when a 1d array was expected. Please change the shape of y to (n_samples, ), for example using ravel().\n",
            "  y = column_or_1d(y, warn=True)\n"
          ]
        }
      ]
    },
    {
      "cell_type": "code",
      "metadata": {
        "id": "aSNcAlfPOCE0"
      },
      "source": [
        "pred=svm_model.predict(x_test)"
      ],
      "execution_count": null,
      "outputs": []
    },
    {
      "cell_type": "code",
      "metadata": {
        "colab": {
          "base_uri": "https://localhost:8080/"
        },
        "id": "1AiKw8gmOTtn",
        "outputId": "8030c143-418b-4c48-dd0a-927901fca4d4"
      },
      "source": [
        "print(f'the mse is {metrics.mean_squared_error(y_test,pred)}')\n",
        "print(f'the r2 is {metrics.r2_score(y_test,pred)}')"
      ],
      "execution_count": null,
      "outputs": [
        {
          "name": "stdout",
          "output_type": "stream",
          "text": [
            "the mse is 0.3656266633327764\n",
            "the r2 is 0.639782790221905\n"
          ]
        }
      ]
    },
    {
      "cell_type": "code",
      "metadata": {
        "id": "uVK3vjUGO0UW"
      },
      "source": [
        "from sklearn import datasets"
      ],
      "execution_count": null,
      "outputs": []
    },
    {
      "cell_type": "code",
      "metadata": {
        "colab": {
          "base_uri": "https://localhost:8080/"
        },
        "id": "BvtImhfIPoY5",
        "outputId": "842e130a-dfa0-4ba4-a753-101ee2eba910"
      },
      "source": [
        "#svm class\n",
        "data=datasets.load_breast_cancer()\n",
        "data.data.shape"
      ],
      "execution_count": null,
      "outputs": [
        {
          "data": {
            "text/plain": [
              "(569, 30)"
            ]
          },
          "execution_count": 2,
          "metadata": {},
          "output_type": "execute_result"
        }
      ]
    },
    {
      "cell_type": "code",
      "metadata": {
        "colab": {
          "base_uri": "https://localhost:8080/",
          "height": 478
        },
        "id": "ocaII7MxSFMn",
        "outputId": "4f121d1b-a810-4ef8-d59f-00007eeb968f"
      },
      "source": [
        "x=pd.DataFrame(data.data,columns=data.feature_names)\n",
        "x"
      ],
      "execution_count": null,
      "outputs": [
        {
          "data": {
            "text/html": [
              "<div>\n",
              "<style scoped>\n",
              "    .dataframe tbody tr th:only-of-type {\n",
              "        vertical-align: middle;\n",
              "    }\n",
              "\n",
              "    .dataframe tbody tr th {\n",
              "        vertical-align: top;\n",
              "    }\n",
              "\n",
              "    .dataframe thead th {\n",
              "        text-align: right;\n",
              "    }\n",
              "</style>\n",
              "<table border=\"1\" class=\"dataframe\">\n",
              "  <thead>\n",
              "    <tr style=\"text-align: right;\">\n",
              "      <th></th>\n",
              "      <th>mean radius</th>\n",
              "      <th>mean texture</th>\n",
              "      <th>mean perimeter</th>\n",
              "      <th>mean area</th>\n",
              "      <th>mean smoothness</th>\n",
              "      <th>mean compactness</th>\n",
              "      <th>mean concavity</th>\n",
              "      <th>mean concave points</th>\n",
              "      <th>mean symmetry</th>\n",
              "      <th>mean fractal dimension</th>\n",
              "      <th>radius error</th>\n",
              "      <th>texture error</th>\n",
              "      <th>perimeter error</th>\n",
              "      <th>area error</th>\n",
              "      <th>smoothness error</th>\n",
              "      <th>compactness error</th>\n",
              "      <th>concavity error</th>\n",
              "      <th>concave points error</th>\n",
              "      <th>symmetry error</th>\n",
              "      <th>fractal dimension error</th>\n",
              "      <th>worst radius</th>\n",
              "      <th>worst texture</th>\n",
              "      <th>worst perimeter</th>\n",
              "      <th>worst area</th>\n",
              "      <th>worst smoothness</th>\n",
              "      <th>worst compactness</th>\n",
              "      <th>worst concavity</th>\n",
              "      <th>worst concave points</th>\n",
              "      <th>worst symmetry</th>\n",
              "      <th>worst fractal dimension</th>\n",
              "    </tr>\n",
              "  </thead>\n",
              "  <tbody>\n",
              "    <tr>\n",
              "      <th>0</th>\n",
              "      <td>17.99</td>\n",
              "      <td>10.38</td>\n",
              "      <td>122.80</td>\n",
              "      <td>1001.0</td>\n",
              "      <td>0.11840</td>\n",
              "      <td>0.27760</td>\n",
              "      <td>0.30010</td>\n",
              "      <td>0.14710</td>\n",
              "      <td>0.2419</td>\n",
              "      <td>0.07871</td>\n",
              "      <td>1.0950</td>\n",
              "      <td>0.9053</td>\n",
              "      <td>8.589</td>\n",
              "      <td>153.40</td>\n",
              "      <td>0.006399</td>\n",
              "      <td>0.04904</td>\n",
              "      <td>0.05373</td>\n",
              "      <td>0.01587</td>\n",
              "      <td>0.03003</td>\n",
              "      <td>0.006193</td>\n",
              "      <td>25.380</td>\n",
              "      <td>17.33</td>\n",
              "      <td>184.60</td>\n",
              "      <td>2019.0</td>\n",
              "      <td>0.16220</td>\n",
              "      <td>0.66560</td>\n",
              "      <td>0.7119</td>\n",
              "      <td>0.2654</td>\n",
              "      <td>0.4601</td>\n",
              "      <td>0.11890</td>\n",
              "    </tr>\n",
              "    <tr>\n",
              "      <th>1</th>\n",
              "      <td>20.57</td>\n",
              "      <td>17.77</td>\n",
              "      <td>132.90</td>\n",
              "      <td>1326.0</td>\n",
              "      <td>0.08474</td>\n",
              "      <td>0.07864</td>\n",
              "      <td>0.08690</td>\n",
              "      <td>0.07017</td>\n",
              "      <td>0.1812</td>\n",
              "      <td>0.05667</td>\n",
              "      <td>0.5435</td>\n",
              "      <td>0.7339</td>\n",
              "      <td>3.398</td>\n",
              "      <td>74.08</td>\n",
              "      <td>0.005225</td>\n",
              "      <td>0.01308</td>\n",
              "      <td>0.01860</td>\n",
              "      <td>0.01340</td>\n",
              "      <td>0.01389</td>\n",
              "      <td>0.003532</td>\n",
              "      <td>24.990</td>\n",
              "      <td>23.41</td>\n",
              "      <td>158.80</td>\n",
              "      <td>1956.0</td>\n",
              "      <td>0.12380</td>\n",
              "      <td>0.18660</td>\n",
              "      <td>0.2416</td>\n",
              "      <td>0.1860</td>\n",
              "      <td>0.2750</td>\n",
              "      <td>0.08902</td>\n",
              "    </tr>\n",
              "    <tr>\n",
              "      <th>2</th>\n",
              "      <td>19.69</td>\n",
              "      <td>21.25</td>\n",
              "      <td>130.00</td>\n",
              "      <td>1203.0</td>\n",
              "      <td>0.10960</td>\n",
              "      <td>0.15990</td>\n",
              "      <td>0.19740</td>\n",
              "      <td>0.12790</td>\n",
              "      <td>0.2069</td>\n",
              "      <td>0.05999</td>\n",
              "      <td>0.7456</td>\n",
              "      <td>0.7869</td>\n",
              "      <td>4.585</td>\n",
              "      <td>94.03</td>\n",
              "      <td>0.006150</td>\n",
              "      <td>0.04006</td>\n",
              "      <td>0.03832</td>\n",
              "      <td>0.02058</td>\n",
              "      <td>0.02250</td>\n",
              "      <td>0.004571</td>\n",
              "      <td>23.570</td>\n",
              "      <td>25.53</td>\n",
              "      <td>152.50</td>\n",
              "      <td>1709.0</td>\n",
              "      <td>0.14440</td>\n",
              "      <td>0.42450</td>\n",
              "      <td>0.4504</td>\n",
              "      <td>0.2430</td>\n",
              "      <td>0.3613</td>\n",
              "      <td>0.08758</td>\n",
              "    </tr>\n",
              "    <tr>\n",
              "      <th>3</th>\n",
              "      <td>11.42</td>\n",
              "      <td>20.38</td>\n",
              "      <td>77.58</td>\n",
              "      <td>386.1</td>\n",
              "      <td>0.14250</td>\n",
              "      <td>0.28390</td>\n",
              "      <td>0.24140</td>\n",
              "      <td>0.10520</td>\n",
              "      <td>0.2597</td>\n",
              "      <td>0.09744</td>\n",
              "      <td>0.4956</td>\n",
              "      <td>1.1560</td>\n",
              "      <td>3.445</td>\n",
              "      <td>27.23</td>\n",
              "      <td>0.009110</td>\n",
              "      <td>0.07458</td>\n",
              "      <td>0.05661</td>\n",
              "      <td>0.01867</td>\n",
              "      <td>0.05963</td>\n",
              "      <td>0.009208</td>\n",
              "      <td>14.910</td>\n",
              "      <td>26.50</td>\n",
              "      <td>98.87</td>\n",
              "      <td>567.7</td>\n",
              "      <td>0.20980</td>\n",
              "      <td>0.86630</td>\n",
              "      <td>0.6869</td>\n",
              "      <td>0.2575</td>\n",
              "      <td>0.6638</td>\n",
              "      <td>0.17300</td>\n",
              "    </tr>\n",
              "    <tr>\n",
              "      <th>4</th>\n",
              "      <td>20.29</td>\n",
              "      <td>14.34</td>\n",
              "      <td>135.10</td>\n",
              "      <td>1297.0</td>\n",
              "      <td>0.10030</td>\n",
              "      <td>0.13280</td>\n",
              "      <td>0.19800</td>\n",
              "      <td>0.10430</td>\n",
              "      <td>0.1809</td>\n",
              "      <td>0.05883</td>\n",
              "      <td>0.7572</td>\n",
              "      <td>0.7813</td>\n",
              "      <td>5.438</td>\n",
              "      <td>94.44</td>\n",
              "      <td>0.011490</td>\n",
              "      <td>0.02461</td>\n",
              "      <td>0.05688</td>\n",
              "      <td>0.01885</td>\n",
              "      <td>0.01756</td>\n",
              "      <td>0.005115</td>\n",
              "      <td>22.540</td>\n",
              "      <td>16.67</td>\n",
              "      <td>152.20</td>\n",
              "      <td>1575.0</td>\n",
              "      <td>0.13740</td>\n",
              "      <td>0.20500</td>\n",
              "      <td>0.4000</td>\n",
              "      <td>0.1625</td>\n",
              "      <td>0.2364</td>\n",
              "      <td>0.07678</td>\n",
              "    </tr>\n",
              "    <tr>\n",
              "      <th>...</th>\n",
              "      <td>...</td>\n",
              "      <td>...</td>\n",
              "      <td>...</td>\n",
              "      <td>...</td>\n",
              "      <td>...</td>\n",
              "      <td>...</td>\n",
              "      <td>...</td>\n",
              "      <td>...</td>\n",
              "      <td>...</td>\n",
              "      <td>...</td>\n",
              "      <td>...</td>\n",
              "      <td>...</td>\n",
              "      <td>...</td>\n",
              "      <td>...</td>\n",
              "      <td>...</td>\n",
              "      <td>...</td>\n",
              "      <td>...</td>\n",
              "      <td>...</td>\n",
              "      <td>...</td>\n",
              "      <td>...</td>\n",
              "      <td>...</td>\n",
              "      <td>...</td>\n",
              "      <td>...</td>\n",
              "      <td>...</td>\n",
              "      <td>...</td>\n",
              "      <td>...</td>\n",
              "      <td>...</td>\n",
              "      <td>...</td>\n",
              "      <td>...</td>\n",
              "      <td>...</td>\n",
              "    </tr>\n",
              "    <tr>\n",
              "      <th>564</th>\n",
              "      <td>21.56</td>\n",
              "      <td>22.39</td>\n",
              "      <td>142.00</td>\n",
              "      <td>1479.0</td>\n",
              "      <td>0.11100</td>\n",
              "      <td>0.11590</td>\n",
              "      <td>0.24390</td>\n",
              "      <td>0.13890</td>\n",
              "      <td>0.1726</td>\n",
              "      <td>0.05623</td>\n",
              "      <td>1.1760</td>\n",
              "      <td>1.2560</td>\n",
              "      <td>7.673</td>\n",
              "      <td>158.70</td>\n",
              "      <td>0.010300</td>\n",
              "      <td>0.02891</td>\n",
              "      <td>0.05198</td>\n",
              "      <td>0.02454</td>\n",
              "      <td>0.01114</td>\n",
              "      <td>0.004239</td>\n",
              "      <td>25.450</td>\n",
              "      <td>26.40</td>\n",
              "      <td>166.10</td>\n",
              "      <td>2027.0</td>\n",
              "      <td>0.14100</td>\n",
              "      <td>0.21130</td>\n",
              "      <td>0.4107</td>\n",
              "      <td>0.2216</td>\n",
              "      <td>0.2060</td>\n",
              "      <td>0.07115</td>\n",
              "    </tr>\n",
              "    <tr>\n",
              "      <th>565</th>\n",
              "      <td>20.13</td>\n",
              "      <td>28.25</td>\n",
              "      <td>131.20</td>\n",
              "      <td>1261.0</td>\n",
              "      <td>0.09780</td>\n",
              "      <td>0.10340</td>\n",
              "      <td>0.14400</td>\n",
              "      <td>0.09791</td>\n",
              "      <td>0.1752</td>\n",
              "      <td>0.05533</td>\n",
              "      <td>0.7655</td>\n",
              "      <td>2.4630</td>\n",
              "      <td>5.203</td>\n",
              "      <td>99.04</td>\n",
              "      <td>0.005769</td>\n",
              "      <td>0.02423</td>\n",
              "      <td>0.03950</td>\n",
              "      <td>0.01678</td>\n",
              "      <td>0.01898</td>\n",
              "      <td>0.002498</td>\n",
              "      <td>23.690</td>\n",
              "      <td>38.25</td>\n",
              "      <td>155.00</td>\n",
              "      <td>1731.0</td>\n",
              "      <td>0.11660</td>\n",
              "      <td>0.19220</td>\n",
              "      <td>0.3215</td>\n",
              "      <td>0.1628</td>\n",
              "      <td>0.2572</td>\n",
              "      <td>0.06637</td>\n",
              "    </tr>\n",
              "    <tr>\n",
              "      <th>566</th>\n",
              "      <td>16.60</td>\n",
              "      <td>28.08</td>\n",
              "      <td>108.30</td>\n",
              "      <td>858.1</td>\n",
              "      <td>0.08455</td>\n",
              "      <td>0.10230</td>\n",
              "      <td>0.09251</td>\n",
              "      <td>0.05302</td>\n",
              "      <td>0.1590</td>\n",
              "      <td>0.05648</td>\n",
              "      <td>0.4564</td>\n",
              "      <td>1.0750</td>\n",
              "      <td>3.425</td>\n",
              "      <td>48.55</td>\n",
              "      <td>0.005903</td>\n",
              "      <td>0.03731</td>\n",
              "      <td>0.04730</td>\n",
              "      <td>0.01557</td>\n",
              "      <td>0.01318</td>\n",
              "      <td>0.003892</td>\n",
              "      <td>18.980</td>\n",
              "      <td>34.12</td>\n",
              "      <td>126.70</td>\n",
              "      <td>1124.0</td>\n",
              "      <td>0.11390</td>\n",
              "      <td>0.30940</td>\n",
              "      <td>0.3403</td>\n",
              "      <td>0.1418</td>\n",
              "      <td>0.2218</td>\n",
              "      <td>0.07820</td>\n",
              "    </tr>\n",
              "    <tr>\n",
              "      <th>567</th>\n",
              "      <td>20.60</td>\n",
              "      <td>29.33</td>\n",
              "      <td>140.10</td>\n",
              "      <td>1265.0</td>\n",
              "      <td>0.11780</td>\n",
              "      <td>0.27700</td>\n",
              "      <td>0.35140</td>\n",
              "      <td>0.15200</td>\n",
              "      <td>0.2397</td>\n",
              "      <td>0.07016</td>\n",
              "      <td>0.7260</td>\n",
              "      <td>1.5950</td>\n",
              "      <td>5.772</td>\n",
              "      <td>86.22</td>\n",
              "      <td>0.006522</td>\n",
              "      <td>0.06158</td>\n",
              "      <td>0.07117</td>\n",
              "      <td>0.01664</td>\n",
              "      <td>0.02324</td>\n",
              "      <td>0.006185</td>\n",
              "      <td>25.740</td>\n",
              "      <td>39.42</td>\n",
              "      <td>184.60</td>\n",
              "      <td>1821.0</td>\n",
              "      <td>0.16500</td>\n",
              "      <td>0.86810</td>\n",
              "      <td>0.9387</td>\n",
              "      <td>0.2650</td>\n",
              "      <td>0.4087</td>\n",
              "      <td>0.12400</td>\n",
              "    </tr>\n",
              "    <tr>\n",
              "      <th>568</th>\n",
              "      <td>7.76</td>\n",
              "      <td>24.54</td>\n",
              "      <td>47.92</td>\n",
              "      <td>181.0</td>\n",
              "      <td>0.05263</td>\n",
              "      <td>0.04362</td>\n",
              "      <td>0.00000</td>\n",
              "      <td>0.00000</td>\n",
              "      <td>0.1587</td>\n",
              "      <td>0.05884</td>\n",
              "      <td>0.3857</td>\n",
              "      <td>1.4280</td>\n",
              "      <td>2.548</td>\n",
              "      <td>19.15</td>\n",
              "      <td>0.007189</td>\n",
              "      <td>0.00466</td>\n",
              "      <td>0.00000</td>\n",
              "      <td>0.00000</td>\n",
              "      <td>0.02676</td>\n",
              "      <td>0.002783</td>\n",
              "      <td>9.456</td>\n",
              "      <td>30.37</td>\n",
              "      <td>59.16</td>\n",
              "      <td>268.6</td>\n",
              "      <td>0.08996</td>\n",
              "      <td>0.06444</td>\n",
              "      <td>0.0000</td>\n",
              "      <td>0.0000</td>\n",
              "      <td>0.2871</td>\n",
              "      <td>0.07039</td>\n",
              "    </tr>\n",
              "  </tbody>\n",
              "</table>\n",
              "<p>569 rows × 30 columns</p>\n",
              "</div>"
            ],
            "text/plain": [
              "     mean radius  mean texture  ...  worst symmetry  worst fractal dimension\n",
              "0          17.99         10.38  ...          0.4601                  0.11890\n",
              "1          20.57         17.77  ...          0.2750                  0.08902\n",
              "2          19.69         21.25  ...          0.3613                  0.08758\n",
              "3          11.42         20.38  ...          0.6638                  0.17300\n",
              "4          20.29         14.34  ...          0.2364                  0.07678\n",
              "..           ...           ...  ...             ...                      ...\n",
              "564        21.56         22.39  ...          0.2060                  0.07115\n",
              "565        20.13         28.25  ...          0.2572                  0.06637\n",
              "566        16.60         28.08  ...          0.2218                  0.07820\n",
              "567        20.60         29.33  ...          0.4087                  0.12400\n",
              "568         7.76         24.54  ...          0.2871                  0.07039\n",
              "\n",
              "[569 rows x 30 columns]"
            ]
          },
          "execution_count": 5,
          "metadata": {},
          "output_type": "execute_result"
        }
      ]
    },
    {
      "cell_type": "code",
      "metadata": {
        "colab": {
          "base_uri": "https://localhost:8080/"
        },
        "id": "re_gxgfbSiEi",
        "outputId": "ddd73f93-b3ff-403b-97a8-07ed9f1770a3"
      },
      "source": [
        "y=pd.DataFrame(data.target)\n",
        "y.shape"
      ],
      "execution_count": null,
      "outputs": [
        {
          "data": {
            "text/plain": [
              "(569, 1)"
            ]
          },
          "execution_count": 6,
          "metadata": {},
          "output_type": "execute_result"
        }
      ]
    },
    {
      "cell_type": "code",
      "metadata": {
        "colab": {
          "base_uri": "https://localhost:8080/",
          "height": 284
        },
        "id": "a7mZVFA5Sv42",
        "outputId": "913dce7e-c904-4061-b1d3-c0f39b1f8780"
      },
      "source": [
        "y.plot.hist() # then there is bias for value 1"
      ],
      "execution_count": null,
      "outputs": [
        {
          "data": {
            "text/plain": [
              "<matplotlib.axes._subplots.AxesSubplot at 0x7f615ca2ca50>"
            ]
          },
          "execution_count": 7,
          "metadata": {},
          "output_type": "execute_result"
        },
        {
          "data": {
            "image/png": "[encoded data removed]",
            "text/plain": [
              "<Figure size 432x288 with 1 Axes>"
            ]
          },
          "metadata": {},
          "output_type": "display_data"
        }
      ]
    },
    {
      "cell_type": "code",
      "metadata": {
        "colab": {
          "base_uri": "https://localhost:8080/",
          "height": 284
        },
        "id": "BO9DiO_2S6A4",
        "outputId": "097e0fd2-0546-4a94-94c1-49d38affd5e2"
      },
      "source": [
        "x.iloc[:,0].plot.hist()\n"
      ],
      "execution_count": null,
      "outputs": [
        {
          "data": {
            "text/plain": [
              "<matplotlib.axes._subplots.AxesSubplot at 0x7f615c944d50>"
            ]
          },
          "execution_count": 8,
          "metadata": {},
          "output_type": "execute_result"
        },
        {
          "data": {
            "image/png": "[encoded data removed]",
            "text/plain": [
              "<Figure size 432x288 with 1 Axes>"
            ]
          },
          "metadata": {},
          "output_type": "display_data"
        }
      ]
    },
    {
      "cell_type": "code",
      "metadata": {
        "colab": {
          "base_uri": "https://localhost:8080/",
          "height": 653
        },
        "id": "V2gwMdb0c_t3",
        "outputId": "e6a83e62-060f-4127-8b54-60d7e2be444f"
      },
      "source": [
        "x.hist(bins=50, figsize=(20,15))\n",
        "#save_fig(\"attribute_histogram_plots\")\n",
        "plt.show()"
      ],
      "execution_count": null,
      "outputs": [
        {
          "data": {
            "image/png": "[encoded data removed]",
            "text/plain": [
              "<Figure size 1440x1080 with 30 Axes>"
            ]
          },
          "metadata": {},
          "output_type": "display_data"
        }
      ]
    },
    {
      "cell_type": "code",
      "metadata": {
        "colab": {
          "base_uri": "https://localhost:8080/",
          "height": 652
        },
        "id": "SsDFIybcTasP",
        "outputId": "7eff9d79-f829-4009-bad8-123ea0a6b5e2"
      },
      "source": [
        "x_normilizer=preprocessing.StandardScaler()\n",
        "x_norm=x_normilizer.fit_transform(x)\n",
        "x_norm.shape\n",
        "df=pd.DataFrame(x_norm,columns=data.feature_names)\n",
        "df.hist(bins=50,figsize=(20,15))\n",
        "plt.show()"
      ],
      "execution_count": null,
      "outputs": [
        {
          "data": {
            "image/png": "[encoded data removed]",
            "text/plain": [
              "<Figure size 1440x1080 with 30 Axes>"
            ]
          },
          "metadata": {},
          "output_type": "display_data"
        }
      ]
    },
    {
      "cell_type": "code",
      "metadata": {
        "id": "YOew9n4BTxme"
      },
      "source": [
        "x_train,x_test,y_train,y_test=model_selection.train_test_split(x_norm,y,test_size=0.2,random_state=42,stratify=y)"
      ],
      "execution_count": null,
      "outputs": []
    },
    {
      "cell_type": "code",
      "metadata": {
        "colab": {
          "base_uri": "https://localhost:8080/"
        },
        "id": "HtXiicJZUkQA",
        "outputId": "87a94967-39a0-48dc-ef9a-1b1324d8508f"
      },
      "source": [
        "x.info()\n"
      ],
      "execution_count": null,
      "outputs": [
        {
          "name": "stdout",
          "output_type": "stream",
          "text": [
            "<class 'pandas.core.frame.DataFrame'>\n",
            "RangeIndex: 569 entries, 0 to 568\n",
            "Data columns (total 30 columns):\n",
            " #   Column                   Non-Null Count  Dtype  \n",
            "---  ------                   --------------  -----  \n",
            " 0   mean radius              569 non-null    float64\n",
            " 1   mean texture             569 non-null    float64\n",
            " 2   mean perimeter           569 non-null    float64\n",
            " 3   mean area                569 non-null    float64\n",
            " 4   mean smoothness          569 non-null    float64\n",
            " 5   mean compactness         569 non-null    float64\n",
            " 6   mean concavity           569 non-null    float64\n",
            " 7   mean concave points      569 non-null    float64\n",
            " 8   mean symmetry            569 non-null    float64\n",
            " 9   mean fractal dimension   569 non-null    float64\n",
            " 10  radius error             569 non-null    float64\n",
            " 11  texture error            569 non-null    float64\n",
            " 12  perimeter error          569 non-null    float64\n",
            " 13  area error               569 non-null    float64\n",
            " 14  smoothness error         569 non-null    float64\n",
            " 15  compactness error        569 non-null    float64\n",
            " 16  concavity error          569 non-null    float64\n",
            " 17  concave points error     569 non-null    float64\n",
            " 18  symmetry error           569 non-null    float64\n",
            " 19  fractal dimension error  569 non-null    float64\n",
            " 20  worst radius             569 non-null    float64\n",
            " 21  worst texture            569 non-null    float64\n",
            " 22  worst perimeter          569 non-null    float64\n",
            " 23  worst area               569 non-null    float64\n",
            " 24  worst smoothness         569 non-null    float64\n",
            " 25  worst compactness        569 non-null    float64\n",
            " 26  worst concavity          569 non-null    float64\n",
            " 27  worst concave points     569 non-null    float64\n",
            " 28  worst symmetry           569 non-null    float64\n",
            " 29  worst fractal dimension  569 non-null    float64\n",
            "dtypes: float64(30)\n",
            "memory usage: 133.5 KB\n"
          ]
        }
      ]
    },
    {
      "cell_type": "code",
      "metadata": {
        "id": "5imAFabsWCfL"
      },
      "source": [
        ""
      ],
      "execution_count": null,
      "outputs": []
    },
    {
      "cell_type": "code",
      "metadata": {
        "id": "1j2edhKHWCjq"
      },
      "source": [
        ""
      ],
      "execution_count": null,
      "outputs": []
    },
    {
      "cell_type": "code",
      "metadata": {
        "id": "M-6c-44eWCpS"
      },
      "source": [
        ""
      ],
      "execution_count": null,
      "outputs": []
    },
    {
      "cell_type": "code",
      "metadata": {
        "id": "5icYGGsbWCss"
      },
      "source": [
        ""
      ],
      "execution_count": null,
      "outputs": []
    },
    {
      "cell_type": "code",
      "metadata": {
        "colab": {
          "base_uri": "https://localhost:8080/",
          "height": 355
        },
        "id": "EfnoMuOjU8rR",
        "outputId": "6e65caa1-d8f1-4461-8fd2-fbb4ddc1d877"
      },
      "source": [
        "x.describe()"
      ],
      "execution_count": null,
      "outputs": [
        {
          "data": {
            "text/html": [
              "<div>\n",
              "<style scoped>\n",
              "    .dataframe tbody tr th:only-of-type {\n",
              "        vertical-align: middle;\n",
              "    }\n",
              "\n",
              "    .dataframe tbody tr th {\n",
              "        vertical-align: top;\n",
              "    }\n",
              "\n",
              "    .dataframe thead th {\n",
              "        text-align: right;\n",
              "    }\n",
              "</style>\n",
              "<table border=\"1\" class=\"dataframe\">\n",
              "  <thead>\n",
              "    <tr style=\"text-align: right;\">\n",
              "      <th></th>\n",
              "      <th>mean radius</th>\n",
              "      <th>mean texture</th>\n",
              "      <th>mean perimeter</th>\n",
              "      <th>mean area</th>\n",
              "      <th>mean smoothness</th>\n",
              "      <th>mean compactness</th>\n",
              "      <th>mean concavity</th>\n",
              "      <th>mean concave points</th>\n",
              "      <th>mean symmetry</th>\n",
              "      <th>mean fractal dimension</th>\n",
              "      <th>radius error</th>\n",
              "      <th>texture error</th>\n",
              "      <th>perimeter error</th>\n",
              "      <th>area error</th>\n",
              "      <th>smoothness error</th>\n",
              "      <th>compactness error</th>\n",
              "      <th>concavity error</th>\n",
              "      <th>concave points error</th>\n",
              "      <th>symmetry error</th>\n",
              "      <th>fractal dimension error</th>\n",
              "      <th>worst radius</th>\n",
              "      <th>worst texture</th>\n",
              "      <th>worst perimeter</th>\n",
              "      <th>worst area</th>\n",
              "      <th>worst smoothness</th>\n",
              "      <th>worst compactness</th>\n",
              "      <th>worst concavity</th>\n",
              "      <th>worst concave points</th>\n",
              "      <th>worst symmetry</th>\n",
              "      <th>worst fractal dimension</th>\n",
              "    </tr>\n",
              "  </thead>\n",
              "  <tbody>\n",
              "    <tr>\n",
              "      <th>count</th>\n",
              "      <td>569.000000</td>\n",
              "      <td>569.000000</td>\n",
              "      <td>569.000000</td>\n",
              "      <td>569.000000</td>\n",
              "      <td>569.000000</td>\n",
              "      <td>569.000000</td>\n",
              "      <td>569.000000</td>\n",
              "      <td>569.000000</td>\n",
              "      <td>569.000000</td>\n",
              "      <td>569.000000</td>\n",
              "      <td>569.000000</td>\n",
              "      <td>569.000000</td>\n",
              "      <td>569.000000</td>\n",
              "      <td>569.000000</td>\n",
              "      <td>569.000000</td>\n",
              "      <td>569.000000</td>\n",
              "      <td>569.000000</td>\n",
              "      <td>569.000000</td>\n",
              "      <td>569.000000</td>\n",
              "      <td>569.000000</td>\n",
              "      <td>569.000000</td>\n",
              "      <td>569.000000</td>\n",
              "      <td>569.000000</td>\n",
              "      <td>569.000000</td>\n",
              "      <td>569.000000</td>\n",
              "      <td>569.000000</td>\n",
              "      <td>569.000000</td>\n",
              "      <td>569.000000</td>\n",
              "      <td>569.000000</td>\n",
              "      <td>569.000000</td>\n",
              "    </tr>\n",
              "    <tr>\n",
              "      <th>mean</th>\n",
              "      <td>14.127292</td>\n",
              "      <td>19.289649</td>\n",
              "      <td>91.969033</td>\n",
              "      <td>654.889104</td>\n",
              "      <td>0.096360</td>\n",
              "      <td>0.104341</td>\n",
              "      <td>0.088799</td>\n",
              "      <td>0.048919</td>\n",
              "      <td>0.181162</td>\n",
              "      <td>0.062798</td>\n",
              "      <td>0.405172</td>\n",
              "      <td>1.216853</td>\n",
              "      <td>2.866059</td>\n",
              "      <td>40.337079</td>\n",
              "      <td>0.007041</td>\n",
              "      <td>0.025478</td>\n",
              "      <td>0.031894</td>\n",
              "      <td>0.011796</td>\n",
              "      <td>0.020542</td>\n",
              "      <td>0.003795</td>\n",
              "      <td>16.269190</td>\n",
              "      <td>25.677223</td>\n",
              "      <td>107.261213</td>\n",
              "      <td>880.583128</td>\n",
              "      <td>0.132369</td>\n",
              "      <td>0.254265</td>\n",
              "      <td>0.272188</td>\n",
              "      <td>0.114606</td>\n",
              "      <td>0.290076</td>\n",
              "      <td>0.083946</td>\n",
              "    </tr>\n",
              "    <tr>\n",
              "      <th>std</th>\n",
              "      <td>3.524049</td>\n",
              "      <td>4.301036</td>\n",
              "      <td>24.298981</td>\n",
              "      <td>351.914129</td>\n",
              "      <td>0.014064</td>\n",
              "      <td>0.052813</td>\n",
              "      <td>0.079720</td>\n",
              "      <td>0.038803</td>\n",
              "      <td>0.027414</td>\n",
              "      <td>0.007060</td>\n",
              "      <td>0.277313</td>\n",
              "      <td>0.551648</td>\n",
              "      <td>2.021855</td>\n",
              "      <td>45.491006</td>\n",
              "      <td>0.003003</td>\n",
              "      <td>0.017908</td>\n",
              "      <td>0.030186</td>\n",
              "      <td>0.006170</td>\n",
              "      <td>0.008266</td>\n",
              "      <td>0.002646</td>\n",
              "      <td>4.833242</td>\n",
              "      <td>6.146258</td>\n",
              "      <td>33.602542</td>\n",
              "      <td>569.356993</td>\n",
              "      <td>0.022832</td>\n",
              "      <td>0.157336</td>\n",
              "      <td>0.208624</td>\n",
              "      <td>0.065732</td>\n",
              "      <td>0.061867</td>\n",
              "      <td>0.018061</td>\n",
              "    </tr>\n",
              "    <tr>\n",
              "      <th>min</th>\n",
              "      <td>6.981000</td>\n",
              "      <td>9.710000</td>\n",
              "      <td>43.790000</td>\n",
              "      <td>143.500000</td>\n",
              "      <td>0.052630</td>\n",
              "      <td>0.019380</td>\n",
              "      <td>0.000000</td>\n",
              "      <td>0.000000</td>\n",
              "      <td>0.106000</td>\n",
              "      <td>0.049960</td>\n",
              "      <td>0.111500</td>\n",
              "      <td>0.360200</td>\n",
              "      <td>0.757000</td>\n",
              "      <td>6.802000</td>\n",
              "      <td>0.001713</td>\n",
              "      <td>0.002252</td>\n",
              "      <td>0.000000</td>\n",
              "      <td>0.000000</td>\n",
              "      <td>0.007882</td>\n",
              "      <td>0.000895</td>\n",
              "      <td>7.930000</td>\n",
              "      <td>12.020000</td>\n",
              "      <td>50.410000</td>\n",
              "      <td>185.200000</td>\n",
              "      <td>0.071170</td>\n",
              "      <td>0.027290</td>\n",
              "      <td>0.000000</td>\n",
              "      <td>0.000000</td>\n",
              "      <td>0.156500</td>\n",
              "      <td>0.055040</td>\n",
              "    </tr>\n",
              "    <tr>\n",
              "      <th>25%</th>\n",
              "      <td>11.700000</td>\n",
              "      <td>16.170000</td>\n",
              "      <td>75.170000</td>\n",
              "      <td>420.300000</td>\n",
              "      <td>0.086370</td>\n",
              "      <td>0.064920</td>\n",
              "      <td>0.029560</td>\n",
              "      <td>0.020310</td>\n",
              "      <td>0.161900</td>\n",
              "      <td>0.057700</td>\n",
              "      <td>0.232400</td>\n",
              "      <td>0.833900</td>\n",
              "      <td>1.606000</td>\n",
              "      <td>17.850000</td>\n",
              "      <td>0.005169</td>\n",
              "      <td>0.013080</td>\n",
              "      <td>0.015090</td>\n",
              "      <td>0.007638</td>\n",
              "      <td>0.015160</td>\n",
              "      <td>0.002248</td>\n",
              "      <td>13.010000</td>\n",
              "      <td>21.080000</td>\n",
              "      <td>84.110000</td>\n",
              "      <td>515.300000</td>\n",
              "      <td>0.116600</td>\n",
              "      <td>0.147200</td>\n",
              "      <td>0.114500</td>\n",
              "      <td>0.064930</td>\n",
              "      <td>0.250400</td>\n",
              "      <td>0.071460</td>\n",
              "    </tr>\n",
              "    <tr>\n",
              "      <th>50%</th>\n",
              "      <td>13.370000</td>\n",
              "      <td>18.840000</td>\n",
              "      <td>86.240000</td>\n",
              "      <td>551.100000</td>\n",
              "      <td>0.095870</td>\n",
              "      <td>0.092630</td>\n",
              "      <td>0.061540</td>\n",
              "      <td>0.033500</td>\n",
              "      <td>0.179200</td>\n",
              "      <td>0.061540</td>\n",
              "      <td>0.324200</td>\n",
              "      <td>1.108000</td>\n",
              "      <td>2.287000</td>\n",
              "      <td>24.530000</td>\n",
              "      <td>0.006380</td>\n",
              "      <td>0.020450</td>\n",
              "      <td>0.025890</td>\n",
              "      <td>0.010930</td>\n",
              "      <td>0.018730</td>\n",
              "      <td>0.003187</td>\n",
              "      <td>14.970000</td>\n",
              "      <td>25.410000</td>\n",
              "      <td>97.660000</td>\n",
              "      <td>686.500000</td>\n",
              "      <td>0.131300</td>\n",
              "      <td>0.211900</td>\n",
              "      <td>0.226700</td>\n",
              "      <td>0.099930</td>\n",
              "      <td>0.282200</td>\n",
              "      <td>0.080040</td>\n",
              "    </tr>\n",
              "    <tr>\n",
              "      <th>75%</th>\n",
              "      <td>15.780000</td>\n",
              "      <td>21.800000</td>\n",
              "      <td>104.100000</td>\n",
              "      <td>782.700000</td>\n",
              "      <td>0.105300</td>\n",
              "      <td>0.130400</td>\n",
              "      <td>0.130700</td>\n",
              "      <td>0.074000</td>\n",
              "      <td>0.195700</td>\n",
              "      <td>0.066120</td>\n",
              "      <td>0.478900</td>\n",
              "      <td>1.474000</td>\n",
              "      <td>3.357000</td>\n",
              "      <td>45.190000</td>\n",
              "      <td>0.008146</td>\n",
              "      <td>0.032450</td>\n",
              "      <td>0.042050</td>\n",
              "      <td>0.014710</td>\n",
              "      <td>0.023480</td>\n",
              "      <td>0.004558</td>\n",
              "      <td>18.790000</td>\n",
              "      <td>29.720000</td>\n",
              "      <td>125.400000</td>\n",
              "      <td>1084.000000</td>\n",
              "      <td>0.146000</td>\n",
              "      <td>0.339100</td>\n",
              "      <td>0.382900</td>\n",
              "      <td>0.161400</td>\n",
              "      <td>0.317900</td>\n",
              "      <td>0.092080</td>\n",
              "    </tr>\n",
              "    <tr>\n",
              "      <th>max</th>\n",
              "      <td>28.110000</td>\n",
              "      <td>39.280000</td>\n",
              "      <td>188.500000</td>\n",
              "      <td>2501.000000</td>\n",
              "      <td>0.163400</td>\n",
              "      <td>0.345400</td>\n",
              "      <td>0.426800</td>\n",
              "      <td>0.201200</td>\n",
              "      <td>0.304000</td>\n",
              "      <td>0.097440</td>\n",
              "      <td>2.873000</td>\n",
              "      <td>4.885000</td>\n",
              "      <td>21.980000</td>\n",
              "      <td>542.200000</td>\n",
              "      <td>0.031130</td>\n",
              "      <td>0.135400</td>\n",
              "      <td>0.396000</td>\n",
              "      <td>0.052790</td>\n",
              "      <td>0.078950</td>\n",
              "      <td>0.029840</td>\n",
              "      <td>36.040000</td>\n",
              "      <td>49.540000</td>\n",
              "      <td>251.200000</td>\n",
              "      <td>4254.000000</td>\n",
              "      <td>0.222600</td>\n",
              "      <td>1.058000</td>\n",
              "      <td>1.252000</td>\n",
              "      <td>0.291000</td>\n",
              "      <td>0.663800</td>\n",
              "      <td>0.207500</td>\n",
              "    </tr>\n",
              "  </tbody>\n",
              "</table>\n",
              "</div>"
            ],
            "text/plain": [
              "       mean radius  mean texture  ...  worst symmetry  worst fractal dimension\n",
              "count   569.000000    569.000000  ...      569.000000               569.000000\n",
              "mean     14.127292     19.289649  ...        0.290076                 0.083946\n",
              "std       3.524049      4.301036  ...        0.061867                 0.018061\n",
              "min       6.981000      9.710000  ...        0.156500                 0.055040\n",
              "25%      11.700000     16.170000  ...        0.250400                 0.071460\n",
              "50%      13.370000     18.840000  ...        0.282200                 0.080040\n",
              "75%      15.780000     21.800000  ...        0.317900                 0.092080\n",
              "max      28.110000     39.280000  ...        0.663800                 0.207500\n",
              "\n",
              "[8 rows x 30 columns]"
            ]
          },
          "execution_count": 40,
          "metadata": {},
          "output_type": "execute_result"
        }
      ]
    },
    {
      "cell_type": "code",
      "metadata": {
        "colab": {
          "base_uri": "https://localhost:8080/"
        },
        "id": "HFc6dUbsVCe1",
        "outputId": "b1c78415-8c9a-4c8e-a299-4a5af33bca07"
      },
      "source": [
        "model_eva={}\n",
        "#using svm\n",
        "svm_model=svm.SVC() #check rbf the linesar and check the better\n",
        "svm_model.fit(x_train,y_train)"
      ],
      "execution_count": null,
      "outputs": [
        {
          "name": "stderr",
          "output_type": "stream",
          "text": [
            "/usr/local/lib/python3.7/dist-packages/sklearn/utils/validation.py:760: DataConversionWarning: A column-vector y was passed when a 1d array was expected. Please change the shape of y to (n_samples, ), for example using ravel().\n",
            "  y = column_or_1d(y, warn=True)\n"
          ]
        },
        {
          "data": {
            "text/plain": [
              "SVC(C=1.0, break_ties=False, cache_size=200, class_weight=None, coef0=0.0,\n",
              "    decision_function_shape='ovr', degree=3, gamma='scale', kernel='rbf',\n",
              "    max_iter=-1, probability=False, random_state=None, shrinking=True,\n",
              "    tol=0.001, verbose=False)"
            ]
          },
          "execution_count": 42,
          "metadata": {},
          "output_type": "execute_result"
        }
      ]
    },
    {
      "cell_type": "code",
      "metadata": {
        "colab": {
          "base_uri": "https://localhost:8080/",
          "height": 371
        },
        "id": "GDU-vdJmWXAB",
        "outputId": "48632c25-c2ed-401e-a0ec-218600715f55"
      },
      "source": [
        "pred=svm_model.predict(x_test)\n",
        "acc=metrics.accuracy_score(y_test,pred)\n",
        "precision_score=metrics.precision_score(y_test,pred)\n",
        "recoll=metrics.recall_score(y_test,pred)\n",
        "f1_score=metrics.f1_score(y_test,pred)\n",
        "print(f'acc is {acc} ')\n",
        "print(f'precisioin_score is {acc} ')\n",
        "print(f'recol is {acc} ')\n",
        "print(f'f1_score is {acc} ')\n",
        "model_eva=pd.DataFrame({'model_name':svm,'acc':acc,'precision_score':precision_score,'f1_score':f1_score},index=[1])\n",
        "metrics.plot_confusion_matrix(svm_model,x_test,y_test)"
      ],
      "execution_count": null,
      "outputs": [
        {
          "name": "stdout",
          "output_type": "stream",
          "text": [
            "acc is 0.9824561403508771 \n",
            "precisioin_score is 0.9824561403508771 \n",
            "recol is 0.9824561403508771 \n",
            "f1_score is 0.9824561403508771 \n"
          ]
        },
        {
          "data": {
            "text/plain": [
              "<sklearn.metrics._plot.confusion_matrix.ConfusionMatrixDisplay at 0x7f3d841d5310>"
            ]
          },
          "execution_count": 47,
          "metadata": {},
          "output_type": "execute_result"
        },
        {
          "data": {
            "image/png": "[encoded data removed]",
            "text/plain": [
              "<Figure size 432x288 with 2 Axes>"
            ]
          },
          "metadata": {},
          "output_type": "display_data"
        }
      ]
    },
    {
      "cell_type": "code",
      "metadata": {
        "id": "4A8Z2YGgWfwp"
      },
      "source": [
        "#log model\n"
      ],
      "execution_count": null,
      "outputs": []
    },
    {
      "cell_type": "code",
      "metadata": {
        "id": "ikd2Fz58PaXK"
      },
      "source": [
        "##kfold"
      ],
      "execution_count": null,
      "outputs": []
    },
    {
      "cell_type": "markdown",
      "metadata": {
        "id": "Kbbb8GHqL5c4"
      },
      "source": [
        "## Kfold seperation"
      ]
    },
    {
      "cell_type": "code",
      "metadata": {
        "id": "H32y2k30PiUG"
      },
      "source": [
        "import numpy as np\n",
        "import pandas as pd\n",
        "from sklearn import datasets,svm,preprocessing,metrics,model_selection"
      ],
      "execution_count": null,
      "outputs": []
    },
    {
      "cell_type": "code",
      "metadata": {
        "id": "BmmFQiapRBzj"
      },
      "source": [
        "x,y=datasets.load_breast_cancer(return_X_y=True)"
      ],
      "execution_count": null,
      "outputs": []
    },
    {
      "cell_type": "code",
      "metadata": {
        "id": "AbU1OguPRGDD"
      },
      "source": [
        "def kfold_train_test_split(x,y,train_indices,test_indices):\n",
        "  return x[train_indices],x[test_indices],y[train_indices],y[test_indices]"
      ],
      "execution_count": null,
      "outputs": []
    },
    {
      "cell_type": "code",
      "metadata": {
        "id": "l3cP0mwnRpMe"
      },
      "source": [
        "kfold=model_selection.KFold(n_splits=10)\n"
      ],
      "execution_count": null,
      "outputs": []
    },
    {
      "cell_type": "code",
      "metadata": {
        "id": "QPLtbFsxSXiG"
      },
      "source": [
        "test_array=np.arange(0,100)\n",
        "np.random.seed(42)"
      ],
      "execution_count": null,
      "outputs": []
    },
    {
      "cell_type": "code",
      "metadata": {
        "id": "gvIbhtjpSG3A"
      },
      "source": [
        "scores=[]\n",
        "a=0\n",
        "scores_dict={}\n",
        "for train_indices,test_indices in kfold.split(x):\n",
        "  a=a+1\n",
        "  x_train,x_test,y_train,y_test=kfold_train_test_split(x,y,train_indices,test_indices)\n",
        "  print(x_train)\n",
        "  print(x_test)\n",
        "  svc_model=svm.SVC()\n",
        "  svc_model.fit(x_train,y_train)\n",
        "  y_pred=svc_model.predict(x_test)\n",
        "  pre_sco=metrics.precision_score(y_test,y_pred)\n",
        "  acc=metrics.accuracy_score(y_test,y_pred)\n",
        "  recall=metrics.recall_score(y_test,y_pred)\n",
        "  f1=metrics.f1_score(y_test,y_pred)\n",
        "  scores_dict={'acc':acc,'precision': pre_sco,'recall':recall,'f1':f1}\n",
        "  scores.append(scores_dict)\n",
        "  print(f'for {a} the scores are :\\n {scores_dict}')\n",
        "  print('*'*100)"
      ],
      "execution_count": null,
      "outputs": []
    },
    {
      "cell_type": "code",
      "metadata": {
        "id": "bSjLZa8qSzOT"
      },
      "source": [
        "scores_df=pd.DataFrame(scores)"
      ],
      "execution_count": null,
      "outputs": []
    },
    {
      "cell_type": "code",
      "metadata": {
        "colab": {
          "base_uri": "https://localhost:8080/",
          "height": 363
        },
        "id": "0gvRkJCFZTEq",
        "outputId": "86a4513b-4570-440e-b634-5e65dd7f7c41"
      },
      "source": [
        "scores_df"
      ],
      "execution_count": null,
      "outputs": [
        {
          "data": {
            "text/html": [
              "<div>\n",
              "<style scoped>\n",
              "    .dataframe tbody tr th:only-of-type {\n",
              "        vertical-align: middle;\n",
              "    }\n",
              "\n",
              "    .dataframe tbody tr th {\n",
              "        vertical-align: top;\n",
              "    }\n",
              "\n",
              "    .dataframe thead th {\n",
              "        text-align: right;\n",
              "    }\n",
              "</style>\n",
              "<table border=\"1\" class=\"dataframe\">\n",
              "  <thead>\n",
              "    <tr style=\"text-align: right;\">\n",
              "      <th></th>\n",
              "      <th>acc</th>\n",
              "      <th>precision</th>\n",
              "      <th>recall</th>\n",
              "      <th>f1</th>\n",
              "    </tr>\n",
              "  </thead>\n",
              "  <tbody>\n",
              "    <tr>\n",
              "      <th>0</th>\n",
              "      <td>0.701754</td>\n",
              "      <td>0.392857</td>\n",
              "      <td>1.000000</td>\n",
              "      <td>0.564103</td>\n",
              "    </tr>\n",
              "    <tr>\n",
              "      <th>1</th>\n",
              "      <td>0.912281</td>\n",
              "      <td>0.875000</td>\n",
              "      <td>1.000000</td>\n",
              "      <td>0.933333</td>\n",
              "    </tr>\n",
              "    <tr>\n",
              "      <th>2</th>\n",
              "      <td>0.912281</td>\n",
              "      <td>0.918919</td>\n",
              "      <td>0.944444</td>\n",
              "      <td>0.931507</td>\n",
              "    </tr>\n",
              "    <tr>\n",
              "      <th>3</th>\n",
              "      <td>0.894737</td>\n",
              "      <td>0.828571</td>\n",
              "      <td>1.000000</td>\n",
              "      <td>0.906250</td>\n",
              "    </tr>\n",
              "    <tr>\n",
              "      <th>4</th>\n",
              "      <td>0.964912</td>\n",
              "      <td>0.935484</td>\n",
              "      <td>1.000000</td>\n",
              "      <td>0.966667</td>\n",
              "    </tr>\n",
              "    <tr>\n",
              "      <th>5</th>\n",
              "      <td>0.982456</td>\n",
              "      <td>0.978261</td>\n",
              "      <td>1.000000</td>\n",
              "      <td>0.989011</td>\n",
              "    </tr>\n",
              "    <tr>\n",
              "      <th>6</th>\n",
              "      <td>0.947368</td>\n",
              "      <td>0.952381</td>\n",
              "      <td>0.975610</td>\n",
              "      <td>0.963855</td>\n",
              "    </tr>\n",
              "    <tr>\n",
              "      <th>7</th>\n",
              "      <td>0.947368</td>\n",
              "      <td>0.955556</td>\n",
              "      <td>0.977273</td>\n",
              "      <td>0.966292</td>\n",
              "    </tr>\n",
              "    <tr>\n",
              "      <th>8</th>\n",
              "      <td>0.912281</td>\n",
              "      <td>0.953488</td>\n",
              "      <td>0.931818</td>\n",
              "      <td>0.942529</td>\n",
              "    </tr>\n",
              "    <tr>\n",
              "      <th>9</th>\n",
              "      <td>0.982143</td>\n",
              "      <td>0.977273</td>\n",
              "      <td>1.000000</td>\n",
              "      <td>0.988506</td>\n",
              "    </tr>\n",
              "  </tbody>\n",
              "</table>\n",
              "</div>"
            ],
            "text/plain": [
              "        acc  precision    recall        f1\n",
              "0  0.701754   0.392857  1.000000  0.564103\n",
              "1  0.912281   0.875000  1.000000  0.933333\n",
              "2  0.912281   0.918919  0.944444  0.931507\n",
              "3  0.894737   0.828571  1.000000  0.906250\n",
              "4  0.964912   0.935484  1.000000  0.966667\n",
              "5  0.982456   0.978261  1.000000  0.989011\n",
              "6  0.947368   0.952381  0.975610  0.963855\n",
              "7  0.947368   0.955556  0.977273  0.966292\n",
              "8  0.912281   0.953488  0.931818  0.942529\n",
              "9  0.982143   0.977273  1.000000  0.988506"
            ]
          },
          "execution_count": 27,
          "metadata": {},
          "output_type": "execute_result"
        }
      ]
    },
    {
      "cell_type": "code",
      "metadata": {
        "id": "w_CpzirTagdT"
      },
      "source": [
        "#strafication kfold\n",
        "stratified_shuffled_kfold=model_selection.StratifiedShuffleSplit(n_splits=10,random_state=42)"
      ],
      "execution_count": null,
      "outputs": []
    },
    {
      "cell_type": "code",
      "metadata": {
        "colab": {
          "base_uri": "https://localhost:8080/"
        },
        "id": "dHeY5St0gRPV",
        "outputId": "a5b2ef43-00b3-4320-f48d-3bbf55e98771"
      },
      "source": [
        "scores=[]\n",
        "for train_indices,test_indices in stratified_shuffled_kfold.split(x,y):\n",
        "  x_train,x_test,y_train,y_test=kfold_train_test_split(x,y,train_indices,test_indices)\n",
        "  #train the mode\n",
        "  print(x_train)\n",
        "  print(x_test)\n",
        "  svc_model=svm.SVC()\n",
        "  svc_model.fit(x_train,y_train)\n",
        "\n",
        "  #predict using the t4est set\n",
        "  y_pred=svc_model.predict(x_test)\n",
        "\n",
        "  #calculate the scores\n",
        "  pre_sco=metrics.precision_score(y_test,y_pred)\n",
        "  acc=metrics.accuracy_score(y_test,y_pred)\n",
        "  recall=metrics.recall_score(y_test,y_pred)\n",
        "  f1=metrics.f1_score(y_test,y_pred)\n",
        "  scores_dict={'acc':acc,'precision': pre_sco,'recall':recall,'f1':f1}\n",
        "  #append the scores dictionary to the socores list\n",
        "  scores.append(scores_dict)\n",
        "  print(f'for {a} the scores are :\\n {scores_dict}')\n",
        "  print('*'*100)\n",
        "  \n",
        "scores_df=pd.DataFrame(scores)\n",
        "print(scores_df)\n",
        "\n",
        "#convert the scores list to DataFrame"
      ],
      "execution_count": null,
      "outputs": [
        {
          "name": "stdout",
          "output_type": "stream",
          "text": [
            "[[1.499e+01 2.211e+01 9.753e+01 ... 1.308e-01 3.163e-01 9.251e-02]\n",
            " [1.989e+01 2.026e+01 1.305e+02 ... 1.613e-01 2.549e-01 9.136e-02]\n",
            " [1.048e+01 1.986e+01 6.672e+01 ... 6.736e-02 2.883e-01 7.748e-02]\n",
            " ...\n",
            " [1.114e+01 1.407e+01 7.124e+01 ... 3.922e-02 2.576e-01 7.018e-02]\n",
            " [9.876e+00 1.940e+01 6.395e+01 ... 9.749e-02 2.622e-01 8.490e-02]\n",
            " [1.065e+01 2.522e+01 6.801e+01 ... 6.136e-02 3.409e-01 8.147e-02]]\n",
            "[[1.445e+01 2.022e+01 9.449e+01 ... 1.838e-01 4.753e-01 1.013e-01]\n",
            " [1.126e+01 1.996e+01 7.372e+01 ... 9.314e-02 2.955e-01 7.009e-02]\n",
            " [1.380e+01 1.579e+01 9.043e+01 ... 1.383e-01 2.589e-01 1.030e-01]\n",
            " ...\n",
            " [2.016e+01 1.966e+01 1.311e+02 ... 1.425e-01 3.055e-01 5.933e-02]\n",
            " [9.436e+00 1.832e+01 5.982e+01 ... 5.052e-02 2.454e-01 8.136e-02]\n",
            " [1.346e+01 1.875e+01 8.744e+01 ... 1.427e-01 3.518e-01 8.665e-02]]\n",
            "for 10 the scores are :\n",
            " {'acc': 0.9298245614035088, 'precision': 0.9210526315789473, 'recall': 0.9722222222222222, 'f1': 0.9459459459459458}\n",
            "****************************************************************************************************\n",
            "[[9.755e+00 2.820e+01 6.168e+01 ... 4.866e-02 2.321e-01 7.211e-02]\n",
            " [9.397e+00 2.168e+01 5.975e+01 ... 2.564e-02 2.376e-01 9.206e-02]\n",
            " [1.354e+01 1.436e+01 8.746e+01 ... 1.288e-01 2.977e-01 7.259e-02]\n",
            " ...\n",
            " [1.230e+01 1.590e+01 7.883e+01 ... 4.815e-02 2.482e-01 6.306e-02]\n",
            " [1.131e+01 1.904e+01 7.180e+01 ... 6.961e-02 2.400e-01 6.641e-02]\n",
            " [1.706e+01 2.100e+01 1.118e+02 ... 1.827e-01 2.623e-01 7.599e-02]]\n",
            "[[1.048e+01 1.986e+01 6.672e+01 ... 6.736e-02 2.883e-01 7.748e-02]\n",
            " [1.222e+01 2.004e+01 7.947e+01 ... 8.088e-02 2.709e-01 8.839e-02]\n",
            " [1.894e+01 2.131e+01 1.236e+02 ... 1.789e-01 2.551e-01 6.589e-02]\n",
            " ...\n",
            " [1.200e+01 2.823e+01 7.677e+01 ... 7.116e-02 2.447e-01 8.194e-02]\n",
            " [1.048e+01 1.498e+01 6.749e+01 ... 9.310e-02 3.020e-01 9.646e-02]\n",
            " [1.822e+01 1.887e+01 1.187e+02 ... 1.776e-01 2.812e-01 8.198e-02]]\n",
            "for 10 the scores are :\n",
            " {'acc': 0.9298245614035088, 'precision': 0.9210526315789473, 'recall': 0.9722222222222222, 'f1': 0.9459459459459458}\n",
            "****************************************************************************************************\n",
            "[[1.953e+01 1.890e+01 1.295e+02 ... 1.980e-01 2.968e-01 9.929e-02]\n",
            " [9.876e+00 1.727e+01 6.292e+01 ... 5.588e-02 2.989e-01 7.380e-02]\n",
            " [1.193e+01 1.091e+01 7.614e+01 ... 6.876e-02 2.460e-01 7.262e-02]\n",
            " ...\n",
            " [1.910e+01 2.629e+01 1.291e+02 ... 1.841e-01 2.311e-01 9.203e-02]\n",
            " [1.334e+01 1.586e+01 8.649e+01 ... 1.708e-01 3.527e-01 1.016e-01]\n",
            " [1.203e+01 1.793e+01 7.609e+01 ... 2.796e-02 2.171e-01 7.037e-02]]\n",
            "[[9.268e+00 1.287e+01 6.149e+01 ... 1.025e-01 3.038e-01 1.252e-01]\n",
            " [1.075e+01 1.497e+01 6.826e+01 ... 3.413e-02 2.300e-01 6.769e-02]\n",
            " [2.137e+01 1.510e+01 1.413e+02 ... 1.966e-01 2.730e-01 8.666e-02]\n",
            " ...\n",
            " [1.746e+01 3.928e+01 1.134e+02 ... 2.066e-01 2.853e-01 8.496e-02]\n",
            " [1.161e+01 1.602e+01 7.546e+01 ... 1.105e-01 2.787e-01 7.427e-02]\n",
            " [1.286e+01 1.332e+01 8.282e+01 ... 1.155e-01 2.382e-01 8.553e-02]]\n",
            "for 10 the scores are :\n",
            " {'acc': 0.9298245614035088, 'precision': 0.9, 'recall': 1.0, 'f1': 0.9473684210526316}\n",
            "****************************************************************************************************\n",
            "[[1.268e+01 2.384e+01 8.269e+01 ... 1.716e-01 3.383e-01 1.031e-01]\n",
            " [2.109e+01 2.657e+01 1.427e+02 ... 2.903e-01 4.098e-01 1.284e-01]\n",
            " [1.549e+01 1.997e+01 1.024e+02 ... 2.121e-01 3.187e-01 1.019e-01]\n",
            " ...\n",
            " [1.314e+01 2.074e+01 8.598e+01 ... 1.181e-01 2.563e-01 8.174e-02]\n",
            " [1.219e+01 1.329e+01 7.908e+01 ... 8.187e-02 3.469e-01 9.241e-02]\n",
            " [1.234e+01 1.227e+01 7.894e+01 ... 1.070e-01 3.110e-01 7.592e-02]]\n",
            "[[1.285e+01 2.137e+01 8.263e+01 ... 5.601e-02 2.488e-01 8.151e-02]\n",
            " [1.133e+01 1.416e+01 7.179e+01 ... 1.111e-02 2.758e-01 6.386e-02]\n",
            " [1.330e+01 2.157e+01 8.524e+01 ... 5.614e-02 2.637e-01 6.658e-02]\n",
            " ...\n",
            " [1.444e+01 1.518e+01 9.397e+01 ... 1.599e-01 2.691e-01 7.683e-02]\n",
            " [1.218e+01 2.052e+01 7.722e+01 ... 7.431e-02 2.694e-01 6.878e-02]\n",
            " [1.258e+01 1.840e+01 7.983e+01 ... 8.772e-03 2.505e-01 6.431e-02]]\n",
            "for 10 the scores are :\n",
            " {'acc': 0.9122807017543859, 'precision': 0.8780487804878049, 'recall': 1.0, 'f1': 0.9350649350649352}\n",
            "****************************************************************************************************\n",
            "[[1.029e+01 2.761e+01 6.567e+01 ... 9.127e-02 2.226e-01 8.283e-02]\n",
            " [1.267e+01 1.730e+01 8.125e+01 ... 5.602e-02 2.688e-01 6.888e-02]\n",
            " [1.160e+01 1.836e+01 7.388e+01 ... 8.288e-02 3.210e-01 7.863e-02]\n",
            " ...\n",
            " [1.462e+01 2.402e+01 9.457e+01 ... 6.946e-02 2.522e-01 7.246e-02]\n",
            " [1.377e+01 1.327e+01 8.806e+01 ... 5.802e-02 2.823e-01 6.794e-02]\n",
            " [1.026e+01 1.471e+01 6.620e+01 ... 4.074e-02 2.434e-01 8.488e-02]]\n",
            "[[2.116e+01 2.304e+01 1.372e+02 ... 2.009e-01 2.822e-01 7.526e-02]\n",
            " [1.180e+01 1.658e+01 7.899e+01 ... 1.865e-01 5.774e-01 1.030e-01]\n",
            " [1.277e+01 2.141e+01 8.202e+01 ... 4.773e-02 2.179e-01 6.871e-02]\n",
            " ...\n",
            " [1.720e+01 2.452e+01 1.142e+02 ... 1.899e-01 3.313e-01 1.339e-01]\n",
            " [1.113e+01 2.244e+01 7.149e+01 ... 6.413e-02 3.169e-01 8.032e-02]\n",
            " [1.104e+01 1.683e+01 7.092e+01 ... 7.431e-02 2.998e-01 7.881e-02]]\n",
            "for 10 the scores are :\n",
            " {'acc': 0.9122807017543859, 'precision': 0.8974358974358975, 'recall': 0.9722222222222222, 'f1': 0.9333333333333333}\n",
            "****************************************************************************************************\n",
            "[[2.055e+01 2.086e+01 1.378e+02 ... 2.148e-01 3.077e-01 7.569e-02]\n",
            " [1.375e+01 2.377e+01 8.854e+01 ... 6.106e-02 2.663e-01 6.321e-02]\n",
            " [1.458e+01 1.366e+01 9.429e+01 ... 9.186e-02 2.626e-01 7.048e-02]\n",
            " ...\n",
            " [1.344e+01 2.158e+01 8.618e+01 ... 1.112e-01 2.994e-01 7.146e-02]\n",
            " [1.303e+01 1.842e+01 8.261e+01 ... 5.013e-02 1.987e-01 6.169e-02]\n",
            " [1.289e+01 1.312e+01 8.189e+01 ... 5.366e-02 2.309e-01 6.915e-02]]\n",
            "[[1.702e+01 2.398e+01 1.128e+02 ... 1.847e-01 3.530e-01 8.482e-02]\n",
            " [1.234e+01 1.227e+01 7.894e+01 ... 1.070e-01 3.110e-01 7.592e-02]\n",
            " [2.013e+01 2.825e+01 1.312e+02 ... 1.628e-01 2.572e-01 6.637e-02]\n",
            " ...\n",
            " [1.727e+01 2.542e+01 1.124e+02 ... 1.739e-01 2.500e-01 7.944e-02]\n",
            " [1.665e+01 2.138e+01 1.100e+02 ... 2.095e-01 3.613e-01 9.564e-02]\n",
            " [2.171e+01 1.725e+01 1.409e+02 ... 1.820e-01 2.510e-01 6.494e-02]]\n",
            "for 10 the scores are :\n",
            " {'acc': 0.9122807017543859, 'precision': 0.8780487804878049, 'recall': 1.0, 'f1': 0.9350649350649352}\n",
            "****************************************************************************************************\n",
            "[[1.799e+01 1.038e+01 1.228e+02 ... 2.654e-01 4.601e-01 1.189e-01]\n",
            " [1.262e+01 1.715e+01 8.062e+01 ... 9.851e-02 3.270e-01 7.330e-02]\n",
            " [1.218e+01 1.784e+01 7.779e+01 ... 5.882e-02 2.227e-01 7.376e-02]\n",
            " ...\n",
            " [1.426e+01 1.965e+01 9.783e+01 ... 1.505e-01 2.398e-01 1.082e-01]\n",
            " [1.448e+01 2.146e+01 9.425e+01 ... 1.225e-01 3.020e-01 6.846e-02]\n",
            " [1.057e+01 2.022e+01 7.015e+01 ... 1.465e-01 2.597e-01 1.200e-01]]\n",
            "[[1.203e+01 1.793e+01 7.609e+01 ... 2.796e-02 2.171e-01 7.037e-02]\n",
            " [2.201e+01 2.190e+01 1.472e+02 ... 2.432e-01 2.741e-01 8.574e-02]\n",
            " [1.071e+01 2.039e+01 6.950e+01 ... 8.600e-02 2.605e-01 8.701e-02]\n",
            " ...\n",
            " [1.206e+01 1.890e+01 7.666e+01 ... 5.093e-02 2.880e-01 8.083e-02]\n",
            " [1.720e+01 2.452e+01 1.142e+02 ... 1.899e-01 3.313e-01 1.339e-01]\n",
            " [2.018e+01 1.954e+01 1.338e+02 ... 2.173e-01 3.032e-01 8.075e-02]]\n",
            "for 10 the scores are :\n",
            " {'acc': 0.8596491228070176, 'precision': 0.8333333333333334, 'recall': 0.9722222222222222, 'f1': 0.8974358974358975}\n",
            "****************************************************************************************************\n",
            "[[1.126e+01 1.996e+01 7.372e+01 ... 9.314e-02 2.955e-01 7.009e-02]\n",
            " [1.288e+01 1.822e+01 8.445e+01 ... 1.096e-01 2.582e-01 8.893e-02]\n",
            " [2.573e+01 1.746e+01 1.742e+02 ... 2.756e-01 3.690e-01 8.815e-02]\n",
            " ...\n",
            " [1.487e+01 2.021e+01 9.612e+01 ... 1.017e-01 2.369e-01 6.599e-02]\n",
            " [1.314e+01 2.074e+01 8.598e+01 ... 1.181e-01 2.563e-01 8.174e-02]\n",
            " [1.136e+01 1.757e+01 7.249e+01 ... 8.698e-02 2.973e-01 7.745e-02]]\n",
            "[[1.080e+01 9.710e+00 6.877e+01 ... 4.603e-02 2.090e-01 7.699e-02]\n",
            " [1.361e+01 2.498e+01 8.805e+01 ... 1.184e-01 2.651e-01 7.397e-02]\n",
            " [1.918e+01 2.249e+01 1.275e+02 ... 1.708e-01 3.193e-01 9.221e-02]\n",
            " ...\n",
            " [1.221e+01 1.409e+01 7.878e+01 ... 9.140e-02 2.677e-01 8.824e-02]\n",
            " [1.989e+01 2.026e+01 1.305e+02 ... 1.613e-01 2.549e-01 9.136e-02]\n",
            " [1.300e+01 2.078e+01 8.351e+01 ... 6.296e-02 3.196e-01 6.435e-02]]\n",
            "for 10 the scores are :\n",
            " {'acc': 0.9122807017543859, 'precision': 0.8974358974358975, 'recall': 0.9722222222222222, 'f1': 0.9333333333333333}\n",
            "****************************************************************************************************\n",
            "[[2.034e+01 2.151e+01 1.359e+02 ... 2.685e-01 5.558e-01 1.024e-01]\n",
            " [1.831e+01 1.858e+01 1.186e+02 ... 1.571e-01 3.206e-01 6.938e-02]\n",
            " [2.058e+01 2.214e+01 1.347e+02 ... 1.920e-01 2.909e-01 5.865e-02]\n",
            " ...\n",
            " [1.420e+01 2.053e+01 9.241e+01 ... 1.339e-01 2.534e-01 7.858e-02]\n",
            " [1.825e+01 1.998e+01 1.196e+02 ... 1.932e-01 3.063e-01 8.368e-02]\n",
            " [1.404e+01 1.598e+01 8.978e+01 ... 7.453e-02 2.725e-01 7.234e-02]]\n",
            "[[1.701e+01 2.026e+01 1.097e+02 ... 1.096e-01 3.275e-01 6.469e-02]\n",
            " [1.234e+01 2.686e+01 8.115e+01 ... 1.459e-01 3.215e-01 1.205e-01]\n",
            " [1.106e+01 1.496e+01 7.149e+01 ... 1.075e-01 3.301e-01 9.080e-02]\n",
            " ...\n",
            " [1.288e+01 2.892e+01 8.250e+01 ... 6.493e-02 2.372e-01 7.242e-02]\n",
            " [1.189e+01 1.835e+01 7.732e+01 ... 1.138e-01 3.397e-01 8.365e-02]\n",
            " [1.175e+01 2.018e+01 7.610e+01 ... 7.909e-02 3.168e-01 7.987e-02]]\n",
            "for 10 the scores are :\n",
            " {'acc': 0.8947368421052632, 'precision': 0.875, 'recall': 0.9722222222222222, 'f1': 0.9210526315789473}\n",
            "****************************************************************************************************\n",
            "[[1.505e+01 1.907e+01 9.726e+01 ... 1.120e-01 2.282e-01 6.954e-02]\n",
            " [1.145e+01 2.097e+01 7.381e+01 ... 6.127e-02 2.762e-01 8.851e-02]\n",
            " [1.614e+01 1.486e+01 1.043e+02 ... 1.129e-01 2.778e-01 7.012e-02]\n",
            " ...\n",
            " [1.660e+01 2.808e+01 1.083e+02 ... 1.418e-01 2.218e-01 7.820e-02]\n",
            " [1.234e+01 2.222e+01 7.985e+01 ... 8.194e-02 2.268e-01 9.082e-02]\n",
            " [1.206e+01 1.890e+01 7.666e+01 ... 5.093e-02 2.880e-01 8.083e-02]]\n",
            "[[1.495e+01 1.877e+01 9.784e+01 ... 8.405e-02 2.852e-01 9.218e-02]\n",
            " [1.387e+01 2.070e+01 8.977e+01 ... 6.845e-02 2.249e-01 8.492e-02]\n",
            " [1.327e+01 1.476e+01 8.474e+01 ... 1.001e-01 2.027e-01 6.206e-02]\n",
            " ...\n",
            " [2.161e+01 2.228e+01 1.444e+02 ... 2.422e-01 3.828e-01 1.007e-01]\n",
            " [1.458e+01 2.153e+01 9.741e+01 ... 2.701e-01 4.264e-01 1.275e-01]\n",
            " [1.254e+01 1.632e+01 8.125e+01 ... 8.411e-02 3.155e-01 7.538e-02]]\n",
            "for 10 the scores are :\n",
            " {'acc': 0.9122807017543859, 'precision': 0.8974358974358975, 'recall': 0.9722222222222222, 'f1': 0.9333333333333333}\n",
            "****************************************************************************************************\n",
            "        acc  precision    recall        f1\n",
            "0  0.929825   0.921053  0.972222  0.945946\n",
            "1  0.929825   0.921053  0.972222  0.945946\n",
            "2  0.929825   0.900000  1.000000  0.947368\n",
            "3  0.912281   0.878049  1.000000  0.935065\n",
            "4  0.912281   0.897436  0.972222  0.933333\n",
            "5  0.912281   0.878049  1.000000  0.935065\n",
            "6  0.859649   0.833333  0.972222  0.897436\n",
            "7  0.912281   0.897436  0.972222  0.933333\n",
            "8  0.894737   0.875000  0.972222  0.921053\n",
            "9  0.912281   0.897436  0.972222  0.933333\n"
          ]
        }
      ]
    },
    {
      "cell_type": "code",
      "metadata": {
        "colab": {
          "base_uri": "https://localhost:8080/"
        },
        "id": "5DbK9Y1ZkkX5",
        "outputId": "bb6bdee7-0e33-484b-d439-50975ebc5ca4"
      },
      "source": [
        "print(scores_df)"
      ],
      "execution_count": null,
      "outputs": [
        {
          "name": "stdout",
          "output_type": "stream",
          "text": [
            "        acc  precision    recall        f1\n",
            "0  0.929825   0.921053  0.972222  0.945946\n",
            "1  0.929825   0.921053  0.972222  0.945946\n",
            "2  0.929825   0.900000  1.000000  0.947368\n",
            "3  0.912281   0.878049  1.000000  0.935065\n",
            "4  0.912281   0.897436  0.972222  0.933333\n",
            "5  0.912281   0.878049  1.000000  0.935065\n",
            "6  0.859649   0.833333  0.972222  0.897436\n",
            "7  0.912281   0.897436  0.972222  0.933333\n",
            "8  0.894737   0.875000  0.972222  0.921053\n",
            "9  0.912281   0.897436  0.972222  0.933333\n"
          ]
        }
      ]
    },
    {
      "cell_type": "code",
      "metadata": {
        "colab": {
          "base_uri": "https://localhost:8080/",
          "height": 300
        },
        "id": "jum1QEV3lPt3",
        "outputId": "9c7b2454-8dcb-426b-a20b-1fc1c23ccea4"
      },
      "source": [
        "scores_df.describe()"
      ],
      "execution_count": null,
      "outputs": [
        {
          "data": {
            "text/html": [
              "<div>\n",
              "<style scoped>\n",
              "    .dataframe tbody tr th:only-of-type {\n",
              "        vertical-align: middle;\n",
              "    }\n",
              "\n",
              "    .dataframe tbody tr th {\n",
              "        vertical-align: top;\n",
              "    }\n",
              "\n",
              "    .dataframe thead th {\n",
              "        text-align: right;\n",
              "    }\n",
              "</style>\n",
              "<table border=\"1\" class=\"dataframe\">\n",
              "  <thead>\n",
              "    <tr style=\"text-align: right;\">\n",
              "      <th></th>\n",
              "      <th>acc</th>\n",
              "      <th>precision</th>\n",
              "      <th>recall</th>\n",
              "      <th>f1</th>\n",
              "    </tr>\n",
              "  </thead>\n",
              "  <tbody>\n",
              "    <tr>\n",
              "      <th>count</th>\n",
              "      <td>10.000000</td>\n",
              "      <td>10.000000</td>\n",
              "      <td>10.000000</td>\n",
              "      <td>10.000000</td>\n",
              "    </tr>\n",
              "    <tr>\n",
              "      <th>mean</th>\n",
              "      <td>0.910526</td>\n",
              "      <td>0.889884</td>\n",
              "      <td>0.980556</td>\n",
              "      <td>0.932788</td>\n",
              "    </tr>\n",
              "    <tr>\n",
              "      <th>std</th>\n",
              "      <td>0.021004</td>\n",
              "      <td>0.025639</td>\n",
              "      <td>0.013418</td>\n",
              "      <td>0.014748</td>\n",
              "    </tr>\n",
              "    <tr>\n",
              "      <th>min</th>\n",
              "      <td>0.859649</td>\n",
              "      <td>0.833333</td>\n",
              "      <td>0.972222</td>\n",
              "      <td>0.897436</td>\n",
              "    </tr>\n",
              "    <tr>\n",
              "      <th>25%</th>\n",
              "      <td>0.912281</td>\n",
              "      <td>0.878049</td>\n",
              "      <td>0.972222</td>\n",
              "      <td>0.933333</td>\n",
              "    </tr>\n",
              "    <tr>\n",
              "      <th>50%</th>\n",
              "      <td>0.912281</td>\n",
              "      <td>0.897436</td>\n",
              "      <td>0.972222</td>\n",
              "      <td>0.934199</td>\n",
              "    </tr>\n",
              "    <tr>\n",
              "      <th>75%</th>\n",
              "      <td>0.925439</td>\n",
              "      <td>0.899359</td>\n",
              "      <td>0.993056</td>\n",
              "      <td>0.943226</td>\n",
              "    </tr>\n",
              "    <tr>\n",
              "      <th>max</th>\n",
              "      <td>0.929825</td>\n",
              "      <td>0.921053</td>\n",
              "      <td>1.000000</td>\n",
              "      <td>0.947368</td>\n",
              "    </tr>\n",
              "  </tbody>\n",
              "</table>\n",
              "</div>"
            ],
            "text/plain": [
              "             acc  precision     recall         f1\n",
              "count  10.000000  10.000000  10.000000  10.000000\n",
              "mean    0.910526   0.889884   0.980556   0.932788\n",
              "std     0.021004   0.025639   0.013418   0.014748\n",
              "min     0.859649   0.833333   0.972222   0.897436\n",
              "25%     0.912281   0.878049   0.972222   0.933333\n",
              "50%     0.912281   0.897436   0.972222   0.934199\n",
              "75%     0.925439   0.899359   0.993056   0.943226\n",
              "max     0.929825   0.921053   1.000000   0.947368"
            ]
          },
          "execution_count": 33,
          "metadata": {},
          "output_type": "execute_result"
        }
      ]
    },
    {
      "cell_type": "markdown",
      "metadata": {
        "id": "9Ub3CCfXrwLE"
      },
      "source": [
        "##hyper para tuning"
      ]
    },
    {
      "cell_type": "code",
      "metadata": {
        "id": "luYZzmsoru6q"
      },
      "source": [
        "from sklearn import svm,metrics,datasets,model_selection\n",
        "import numpy as np\n",
        "import pandas as pd"
      ],
      "execution_count": null,
      "outputs": []
    },
    {
      "cell_type": "code",
      "metadata": {
        "id": "XvGDUcmQl7cH"
      },
      "source": [
        "#load dataset\n",
        "x,y=datasets.load_breast_cancer(return_X_y=True)"
      ],
      "execution_count": null,
      "outputs": []
    },
    {
      "cell_type": "code",
      "metadata": {
        "id": "qJwBEazwsFKg"
      },
      "source": [
        "#define model\n",
        "svc=svm.SVC(random_state=42)\n"
      ],
      "execution_count": null,
      "outputs": []
    },
    {
      "cell_type": "code",
      "metadata": {
        "id": "0DcJWZGfsPWW"
      },
      "source": [
        "#dic creation\n",
        "params={'kernel':['linear','rbf'],'C':[0.1,0.1,10],'gamma':['scale','auto',0.1,1]}"
      ],
      "execution_count": null,
      "outputs": []
    },
    {
      "cell_type": "code",
      "metadata": {
        "id": "PJ89CZDCtmJH"
      },
      "source": [
        "scoreing={\n",
        "    'accuracy':metrics.make_scorer(metrics.accuracy_score),\n",
        "    'precision':metrics.make_scorer(metrics.precision_score),\n",
        "    'recall':metrics.make_scorer(metrics.recall_score),\n",
        "    'f1':metrics.make_scorer(metrics.f1_score),\n"
      ],
      "execution_count": null,
      "outputs": []
    },
    {
      "cell_type": "code",
      "metadata": {
        "id": "0Z5oM5vKuvde"
      },
      "source": [
        "kfold=model_selection.StratifiedShuffleSplit(n_splits=5,random_state=42)"
      ],
      "execution_count": null,
      "outputs": []
    },
    {
      "cell_type": "code",
      "metadata": {
        "id": "ikzs6fEJu8Rl"
      },
      "source": [
        "#gs=model_selection.GridSearchCV(svc,params,cv=kfold,scoring=scoreing,refit='recall',verbose=2)\n",
        "gs=model_selection.GridSearchCV(svc,params,cv=kfold,scoring=scoreing,refit='precision',verbose=2)"
      ],
      "execution_count": null,
      "outputs": []
    },
    {
      "cell_type": "code",
      "metadata": {
        "id": "aoa3AEpgv4Fa"
      },
      "source": [
        "gs.fit(x,y)"
      ],
      "execution_count": null,
      "outputs": []
    },
    {
      "cell_type": "code",
      "metadata": {
        "colab": {
          "base_uri": "https://localhost:8080/"
        },
        "id": "rFp3AgpOxnks",
        "outputId": "6e369e19-cf2b-4a98-8642-ba74f241eb20"
      },
      "source": [
        "#view the gs output\n",
        "print('best hyperparameter',gs.best_params_)\n",
        "print('best score',gs.best_score_)\n"
      ],
      "execution_count": null,
      "outputs": [
        {
          "name": "stdout",
          "output_type": "stream",
          "text": [
            "best hyperparameter {'C': 10, 'gamma': 'scale', 'kernel': 'linear'}\n",
            "best score 0.9721957251369016\n"
          ]
        }
      ]
    },
    {
      "cell_type": "code",
      "metadata": {
        "colab": {
          "base_uri": "https://localhost:8080/"
        },
        "id": "6HNKHiVryPsv",
        "outputId": "a437c8c6-f1b0-400a-90b8-edc363c979c4"
      },
      "source": [
        "best_svc=gs.best_estimator_\n",
        "best_svc"
      ],
      "execution_count": null,
      "outputs": [
        {
          "data": {
            "text/plain": [
              "SVC(C=10, break_ties=False, cache_size=200, class_weight=None, coef0=0.0,\n",
              "    decision_function_shape='ovr', degree=3, gamma='scale', kernel='linear',\n",
              "    max_iter=-1, probability=False, random_state=42, shrinking=True, tol=0.001,\n",
              "    verbose=False)"
            ]
          },
          "execution_count": 55,
          "metadata": {},
          "output_type": "execute_result"
        }
      ]
    },
    {
      "cell_type": "code",
      "metadata": {
        "colab": {
          "base_uri": "https://localhost:8080/"
        },
        "id": "Nc7h26HpzfJd",
        "outputId": "2e3fa45d-8898-4e10-b91a-d3b3a1d5186d"
      },
      "source": [
        "best_svc.fit\n",
        "scores=[]\n",
        "for train_indices,test_indices in stratified_shuffled_kfold.split(x,y):\n",
        "  x_train,x_test,y_train,y_test=kfold_train_test_split(x,y,train_indices,test_indices)\n",
        "  #train the mode\n",
        "  print(x_train)\n",
        "  print(x_test)\n",
        "  #svc_model=svm.SVC()\n",
        "  #svc_model.fit(x_train,y_train)\n",
        "  best_svc.fit(x_train,y_train)\n",
        "\n",
        "  #predict using the t4est set\n",
        "  y_pred=svc_model.predict(x_test)\n",
        "\n",
        "  #calculate the scores\n",
        "  pre_sco=metrics.precision_score(y_test,y_pred)\n",
        "  acc=metrics.accuracy_score(y_test,y_pred)\n",
        "  recall=metrics.recall_score(y_test,y_pred)\n",
        "  f1=metrics.f1_score(y_test,y_pred)\n",
        "  scores_dict={'acc':acc,'precision': pre_sco,'recall':recall,'f1':f1}\n",
        "  #append the scores dictionary to the socores list\n",
        "  scores.append(scores_dict)\n",
        "  print(f'for {a} the scores are :\\n {scores_dict}')\n",
        "  print('*'*100)\n",
        "  \n",
        "scores_df=pd.DataFrame(scores)\n",
        "print(scores_df)"
      ],
      "execution_count": null,
      "outputs": [
        {
          "name": "stdout",
          "output_type": "stream",
          "text": [
            "[[1.499e+01 2.211e+01 9.753e+01 ... 1.308e-01 3.163e-01 9.251e-02]\n",
            " [1.989e+01 2.026e+01 1.305e+02 ... 1.613e-01 2.549e-01 9.136e-02]\n",
            " [1.048e+01 1.986e+01 6.672e+01 ... 6.736e-02 2.883e-01 7.748e-02]\n",
            " ...\n",
            " [1.114e+01 1.407e+01 7.124e+01 ... 3.922e-02 2.576e-01 7.018e-02]\n",
            " [9.876e+00 1.940e+01 6.395e+01 ... 9.749e-02 2.622e-01 8.490e-02]\n",
            " [1.065e+01 2.522e+01 6.801e+01 ... 6.136e-02 3.409e-01 8.147e-02]]\n",
            "[[1.445e+01 2.022e+01 9.449e+01 ... 1.838e-01 4.753e-01 1.013e-01]\n",
            " [1.126e+01 1.996e+01 7.372e+01 ... 9.314e-02 2.955e-01 7.009e-02]\n",
            " [1.380e+01 1.579e+01 9.043e+01 ... 1.383e-01 2.589e-01 1.030e-01]\n",
            " ...\n",
            " [2.016e+01 1.966e+01 1.311e+02 ... 1.425e-01 3.055e-01 5.933e-02]\n",
            " [9.436e+00 1.832e+01 5.982e+01 ... 5.052e-02 2.454e-01 8.136e-02]\n",
            " [1.346e+01 1.875e+01 8.744e+01 ... 1.427e-01 3.518e-01 8.665e-02]]\n",
            "for 10 the scores are :\n",
            " {'acc': 0.9298245614035088, 'precision': 0.9210526315789473, 'recall': 0.9722222222222222, 'f1': 0.9459459459459458}\n",
            "****************************************************************************************************\n",
            "[[9.755e+00 2.820e+01 6.168e+01 ... 4.866e-02 2.321e-01 7.211e-02]\n",
            " [9.397e+00 2.168e+01 5.975e+01 ... 2.564e-02 2.376e-01 9.206e-02]\n",
            " [1.354e+01 1.436e+01 8.746e+01 ... 1.288e-01 2.977e-01 7.259e-02]\n",
            " ...\n",
            " [1.230e+01 1.590e+01 7.883e+01 ... 4.815e-02 2.482e-01 6.306e-02]\n",
            " [1.131e+01 1.904e+01 7.180e+01 ... 6.961e-02 2.400e-01 6.641e-02]\n",
            " [1.706e+01 2.100e+01 1.118e+02 ... 1.827e-01 2.623e-01 7.599e-02]]\n",
            "[[1.048e+01 1.986e+01 6.672e+01 ... 6.736e-02 2.883e-01 7.748e-02]\n",
            " [1.222e+01 2.004e+01 7.947e+01 ... 8.088e-02 2.709e-01 8.839e-02]\n",
            " [1.894e+01 2.131e+01 1.236e+02 ... 1.789e-01 2.551e-01 6.589e-02]\n",
            " ...\n",
            " [1.200e+01 2.823e+01 7.677e+01 ... 7.116e-02 2.447e-01 8.194e-02]\n",
            " [1.048e+01 1.498e+01 6.749e+01 ... 9.310e-02 3.020e-01 9.646e-02]\n",
            " [1.822e+01 1.887e+01 1.187e+02 ... 1.776e-01 2.812e-01 8.198e-02]]\n",
            "for 10 the scores are :\n",
            " {'acc': 0.9473684210526315, 'precision': 0.9230769230769231, 'recall': 1.0, 'f1': 0.9600000000000001}\n",
            "****************************************************************************************************\n",
            "[[1.953e+01 1.890e+01 1.295e+02 ... 1.980e-01 2.968e-01 9.929e-02]\n",
            " [9.876e+00 1.727e+01 6.292e+01 ... 5.588e-02 2.989e-01 7.380e-02]\n",
            " [1.193e+01 1.091e+01 7.614e+01 ... 6.876e-02 2.460e-01 7.262e-02]\n",
            " ...\n",
            " [1.910e+01 2.629e+01 1.291e+02 ... 1.841e-01 2.311e-01 9.203e-02]\n",
            " [1.334e+01 1.586e+01 8.649e+01 ... 1.708e-01 3.527e-01 1.016e-01]\n",
            " [1.203e+01 1.793e+01 7.609e+01 ... 2.796e-02 2.171e-01 7.037e-02]]\n",
            "[[9.268e+00 1.287e+01 6.149e+01 ... 1.025e-01 3.038e-01 1.252e-01]\n",
            " [1.075e+01 1.497e+01 6.826e+01 ... 3.413e-02 2.300e-01 6.769e-02]\n",
            " [2.137e+01 1.510e+01 1.413e+02 ... 1.966e-01 2.730e-01 8.666e-02]\n",
            " ...\n",
            " [1.746e+01 3.928e+01 1.134e+02 ... 2.066e-01 2.853e-01 8.496e-02]\n",
            " [1.161e+01 1.602e+01 7.546e+01 ... 1.105e-01 2.787e-01 7.427e-02]\n",
            " [1.286e+01 1.332e+01 8.282e+01 ... 1.155e-01 2.382e-01 8.553e-02]]\n",
            "for 10 the scores are :\n",
            " {'acc': 0.9298245614035088, 'precision': 0.9, 'recall': 1.0, 'f1': 0.9473684210526316}\n",
            "****************************************************************************************************\n",
            "[[1.268e+01 2.384e+01 8.269e+01 ... 1.716e-01 3.383e-01 1.031e-01]\n",
            " [2.109e+01 2.657e+01 1.427e+02 ... 2.903e-01 4.098e-01 1.284e-01]\n",
            " [1.549e+01 1.997e+01 1.024e+02 ... 2.121e-01 3.187e-01 1.019e-01]\n",
            " ...\n",
            " [1.314e+01 2.074e+01 8.598e+01 ... 1.181e-01 2.563e-01 8.174e-02]\n",
            " [1.219e+01 1.329e+01 7.908e+01 ... 8.187e-02 3.469e-01 9.241e-02]\n",
            " [1.234e+01 1.227e+01 7.894e+01 ... 1.070e-01 3.110e-01 7.592e-02]]\n",
            "[[1.285e+01 2.137e+01 8.263e+01 ... 5.601e-02 2.488e-01 8.151e-02]\n",
            " [1.133e+01 1.416e+01 7.179e+01 ... 1.111e-02 2.758e-01 6.386e-02]\n",
            " [1.330e+01 2.157e+01 8.524e+01 ... 5.614e-02 2.637e-01 6.658e-02]\n",
            " ...\n",
            " [1.444e+01 1.518e+01 9.397e+01 ... 1.599e-01 2.691e-01 7.683e-02]\n",
            " [1.218e+01 2.052e+01 7.722e+01 ... 7.431e-02 2.694e-01 6.878e-02]\n",
            " [1.258e+01 1.840e+01 7.983e+01 ... 8.772e-03 2.505e-01 6.431e-02]]\n",
            "for 10 the scores are :\n",
            " {'acc': 0.9122807017543859, 'precision': 0.8780487804878049, 'recall': 1.0, 'f1': 0.9350649350649352}\n",
            "****************************************************************************************************\n",
            "[[1.029e+01 2.761e+01 6.567e+01 ... 9.127e-02 2.226e-01 8.283e-02]\n",
            " [1.267e+01 1.730e+01 8.125e+01 ... 5.602e-02 2.688e-01 6.888e-02]\n",
            " [1.160e+01 1.836e+01 7.388e+01 ... 8.288e-02 3.210e-01 7.863e-02]\n",
            " ...\n",
            " [1.462e+01 2.402e+01 9.457e+01 ... 6.946e-02 2.522e-01 7.246e-02]\n",
            " [1.377e+01 1.327e+01 8.806e+01 ... 5.802e-02 2.823e-01 6.794e-02]\n",
            " [1.026e+01 1.471e+01 6.620e+01 ... 4.074e-02 2.434e-01 8.488e-02]]\n",
            "[[2.116e+01 2.304e+01 1.372e+02 ... 2.009e-01 2.822e-01 7.526e-02]\n",
            " [1.180e+01 1.658e+01 7.899e+01 ... 1.865e-01 5.774e-01 1.030e-01]\n",
            " [1.277e+01 2.141e+01 8.202e+01 ... 4.773e-02 2.179e-01 6.871e-02]\n",
            " ...\n",
            " [1.720e+01 2.452e+01 1.142e+02 ... 1.899e-01 3.313e-01 1.339e-01]\n",
            " [1.113e+01 2.244e+01 7.149e+01 ... 6.413e-02 3.169e-01 8.032e-02]\n",
            " [1.104e+01 1.683e+01 7.092e+01 ... 7.431e-02 2.998e-01 7.881e-02]]\n",
            "for 10 the scores are :\n",
            " {'acc': 0.9122807017543859, 'precision': 0.8974358974358975, 'recall': 0.9722222222222222, 'f1': 0.9333333333333333}\n",
            "****************************************************************************************************\n",
            "[[2.055e+01 2.086e+01 1.378e+02 ... 2.148e-01 3.077e-01 7.569e-02]\n",
            " [1.375e+01 2.377e+01 8.854e+01 ... 6.106e-02 2.663e-01 6.321e-02]\n",
            " [1.458e+01 1.366e+01 9.429e+01 ... 9.186e-02 2.626e-01 7.048e-02]\n",
            " ...\n",
            " [1.344e+01 2.158e+01 8.618e+01 ... 1.112e-01 2.994e-01 7.146e-02]\n",
            " [1.303e+01 1.842e+01 8.261e+01 ... 5.013e-02 1.987e-01 6.169e-02]\n",
            " [1.289e+01 1.312e+01 8.189e+01 ... 5.366e-02 2.309e-01 6.915e-02]]\n",
            "[[1.702e+01 2.398e+01 1.128e+02 ... 1.847e-01 3.530e-01 8.482e-02]\n",
            " [1.234e+01 1.227e+01 7.894e+01 ... 1.070e-01 3.110e-01 7.592e-02]\n",
            " [2.013e+01 2.825e+01 1.312e+02 ... 1.628e-01 2.572e-01 6.637e-02]\n",
            " ...\n",
            " [1.727e+01 2.542e+01 1.124e+02 ... 1.739e-01 2.500e-01 7.944e-02]\n",
            " [1.665e+01 2.138e+01 1.100e+02 ... 2.095e-01 3.613e-01 9.564e-02]\n",
            " [2.171e+01 1.725e+01 1.409e+02 ... 1.820e-01 2.510e-01 6.494e-02]]\n",
            "for 10 the scores are :\n",
            " {'acc': 0.9122807017543859, 'precision': 0.8780487804878049, 'recall': 1.0, 'f1': 0.9350649350649352}\n",
            "****************************************************************************************************\n",
            "[[1.799e+01 1.038e+01 1.228e+02 ... 2.654e-01 4.601e-01 1.189e-01]\n",
            " [1.262e+01 1.715e+01 8.062e+01 ... 9.851e-02 3.270e-01 7.330e-02]\n",
            " [1.218e+01 1.784e+01 7.779e+01 ... 5.882e-02 2.227e-01 7.376e-02]\n",
            " ...\n",
            " [1.426e+01 1.965e+01 9.783e+01 ... 1.505e-01 2.398e-01 1.082e-01]\n",
            " [1.448e+01 2.146e+01 9.425e+01 ... 1.225e-01 3.020e-01 6.846e-02]\n",
            " [1.057e+01 2.022e+01 7.015e+01 ... 1.465e-01 2.597e-01 1.200e-01]]\n",
            "[[1.203e+01 1.793e+01 7.609e+01 ... 2.796e-02 2.171e-01 7.037e-02]\n",
            " [2.201e+01 2.190e+01 1.472e+02 ... 2.432e-01 2.741e-01 8.574e-02]\n",
            " [1.071e+01 2.039e+01 6.950e+01 ... 8.600e-02 2.605e-01 8.701e-02]\n",
            " ...\n",
            " [1.206e+01 1.890e+01 7.666e+01 ... 5.093e-02 2.880e-01 8.083e-02]\n",
            " [1.720e+01 2.452e+01 1.142e+02 ... 1.899e-01 3.313e-01 1.339e-01]\n",
            " [2.018e+01 1.954e+01 1.338e+02 ... 2.173e-01 3.032e-01 8.075e-02]]\n",
            "for 10 the scores are :\n",
            " {'acc': 0.8771929824561403, 'precision': 0.8536585365853658, 'recall': 0.9722222222222222, 'f1': 0.9090909090909091}\n",
            "****************************************************************************************************\n",
            "[[1.126e+01 1.996e+01 7.372e+01 ... 9.314e-02 2.955e-01 7.009e-02]\n",
            " [1.288e+01 1.822e+01 8.445e+01 ... 1.096e-01 2.582e-01 8.893e-02]\n",
            " [2.573e+01 1.746e+01 1.742e+02 ... 2.756e-01 3.690e-01 8.815e-02]\n",
            " ...\n",
            " [1.487e+01 2.021e+01 9.612e+01 ... 1.017e-01 2.369e-01 6.599e-02]\n",
            " [1.314e+01 2.074e+01 8.598e+01 ... 1.181e-01 2.563e-01 8.174e-02]\n",
            " [1.136e+01 1.757e+01 7.249e+01 ... 8.698e-02 2.973e-01 7.745e-02]]\n",
            "[[1.080e+01 9.710e+00 6.877e+01 ... 4.603e-02 2.090e-01 7.699e-02]\n",
            " [1.361e+01 2.498e+01 8.805e+01 ... 1.184e-01 2.651e-01 7.397e-02]\n",
            " [1.918e+01 2.249e+01 1.275e+02 ... 1.708e-01 3.193e-01 9.221e-02]\n",
            " ...\n",
            " [1.221e+01 1.409e+01 7.878e+01 ... 9.140e-02 2.677e-01 8.824e-02]\n",
            " [1.989e+01 2.026e+01 1.305e+02 ... 1.613e-01 2.549e-01 9.136e-02]\n",
            " [1.300e+01 2.078e+01 8.351e+01 ... 6.296e-02 3.196e-01 6.435e-02]]\n",
            "for 10 the scores are :\n",
            " {'acc': 0.8947368421052632, 'precision': 0.875, 'recall': 0.9722222222222222, 'f1': 0.9210526315789473}\n",
            "****************************************************************************************************\n",
            "[[2.034e+01 2.151e+01 1.359e+02 ... 2.685e-01 5.558e-01 1.024e-01]\n",
            " [1.831e+01 1.858e+01 1.186e+02 ... 1.571e-01 3.206e-01 6.938e-02]\n",
            " [2.058e+01 2.214e+01 1.347e+02 ... 1.920e-01 2.909e-01 5.865e-02]\n",
            " ...\n",
            " [1.420e+01 2.053e+01 9.241e+01 ... 1.339e-01 2.534e-01 7.858e-02]\n",
            " [1.825e+01 1.998e+01 1.196e+02 ... 1.932e-01 3.063e-01 8.368e-02]\n",
            " [1.404e+01 1.598e+01 8.978e+01 ... 7.453e-02 2.725e-01 7.234e-02]]\n",
            "[[1.701e+01 2.026e+01 1.097e+02 ... 1.096e-01 3.275e-01 6.469e-02]\n",
            " [1.234e+01 2.686e+01 8.115e+01 ... 1.459e-01 3.215e-01 1.205e-01]\n",
            " [1.106e+01 1.496e+01 7.149e+01 ... 1.075e-01 3.301e-01 9.080e-02]\n",
            " ...\n",
            " [1.288e+01 2.892e+01 8.250e+01 ... 6.493e-02 2.372e-01 7.242e-02]\n",
            " [1.189e+01 1.835e+01 7.732e+01 ... 1.138e-01 3.397e-01 8.365e-02]\n",
            " [1.175e+01 2.018e+01 7.610e+01 ... 7.909e-02 3.168e-01 7.987e-02]]\n",
            "for 10 the scores are :\n",
            " {'acc': 0.8947368421052632, 'precision': 0.875, 'recall': 0.9722222222222222, 'f1': 0.9210526315789473}\n",
            "****************************************************************************************************\n",
            "[[1.505e+01 1.907e+01 9.726e+01 ... 1.120e-01 2.282e-01 6.954e-02]\n",
            " [1.145e+01 2.097e+01 7.381e+01 ... 6.127e-02 2.762e-01 8.851e-02]\n",
            " [1.614e+01 1.486e+01 1.043e+02 ... 1.129e-01 2.778e-01 7.012e-02]\n",
            " ...\n",
            " [1.660e+01 2.808e+01 1.083e+02 ... 1.418e-01 2.218e-01 7.820e-02]\n",
            " [1.234e+01 2.222e+01 7.985e+01 ... 8.194e-02 2.268e-01 9.082e-02]\n",
            " [1.206e+01 1.890e+01 7.666e+01 ... 5.093e-02 2.880e-01 8.083e-02]]\n",
            "[[1.495e+01 1.877e+01 9.784e+01 ... 8.405e-02 2.852e-01 9.218e-02]\n",
            " [1.387e+01 2.070e+01 8.977e+01 ... 6.845e-02 2.249e-01 8.492e-02]\n",
            " [1.327e+01 1.476e+01 8.474e+01 ... 1.001e-01 2.027e-01 6.206e-02]\n",
            " ...\n",
            " [2.161e+01 2.228e+01 1.444e+02 ... 2.422e-01 3.828e-01 1.007e-01]\n",
            " [1.458e+01 2.153e+01 9.741e+01 ... 2.701e-01 4.264e-01 1.275e-01]\n",
            " [1.254e+01 1.632e+01 8.125e+01 ... 8.411e-02 3.155e-01 7.538e-02]]\n",
            "for 10 the scores are :\n",
            " {'acc': 0.9122807017543859, 'precision': 0.8974358974358975, 'recall': 0.9722222222222222, 'f1': 0.9333333333333333}\n",
            "****************************************************************************************************\n",
            "        acc  precision    recall        f1\n",
            "0  0.929825   0.921053  0.972222  0.945946\n",
            "1  0.947368   0.923077  1.000000  0.960000\n",
            "2  0.929825   0.900000  1.000000  0.947368\n",
            "3  0.912281   0.878049  1.000000  0.935065\n",
            "4  0.912281   0.897436  0.972222  0.933333\n",
            "5  0.912281   0.878049  1.000000  0.935065\n",
            "6  0.877193   0.853659  0.972222  0.909091\n",
            "7  0.894737   0.875000  0.972222  0.921053\n",
            "8  0.894737   0.875000  0.972222  0.921053\n",
            "9  0.912281   0.897436  0.972222  0.933333\n"
          ]
        }
      ]
    },
    {
      "cell_type": "code",
      "metadata": {
        "id": "PG42Aotzz9os"
      },
      "source": [
        "data_frame=pd.read_csv('/content/sample_data/mnist_test.csv')"
      ],
      "execution_count": null,
      "outputs": []
    },
    {
      "cell_type": "code",
      "metadata": {
        "id": "yNN1qEnw2sCY"
      },
      "source": [
        "x=data_frame.iloc[:,1:]\n",
        "y=data_frame.iloc[:,0]"
      ],
      "execution_count": null,
      "outputs": []
    },
    {
      "cell_type": "code",
      "metadata": {
        "colab": {
          "base_uri": "https://localhost:8080/"
        },
        "id": "KvV-NbtR4Qjp",
        "outputId": "7afd7d53-6621-4fa1-ee54-831048088fd7"
      },
      "source": [
        "x.head()"
      ],
      "execution_count": null,
      "outputs": [
        {
          "data": {
            "text/html": [
              "<div>\n",
              "<style scoped>\n",
              "    .dataframe tbody tr th:only-of-type {\n",
              "        vertical-align: middle;\n",
              "    }\n",
              "\n",
              "    .dataframe tbody tr th {\n",
              "        vertical-align: top;\n",
              "    }\n",
              "\n",
              "    .dataframe thead th {\n",
              "        text-align: right;\n",
              "    }\n",
              "</style>\n",
              "<table border=\"1\" class=\"dataframe\">\n",
              "  <thead>\n",
              "    <tr style=\"text-align: right;\">\n",
              "      <th></th>\n",
              "      <th>0</th>\n",
              "      <th>0.1</th>\n",
              "      <th>0.2</th>\n",
              "      <th>0.3</th>\n",
              "      <th>0.4</th>\n",
              "      <th>0.5</th>\n",
              "      <th>0.6</th>\n",
              "      <th>0.7</th>\n",
              "      <th>0.8</th>\n",
              "      <th>0.9</th>\n",
              "      <th>0.10</th>\n",
              "      <th>0.11</th>\n",
              "      <th>0.12</th>\n",
              "      <th>0.13</th>\n",
              "      <th>0.14</th>\n",
              "      <th>0.15</th>\n",
              "      <th>0.16</th>\n",
              "      <th>0.17</th>\n",
              "      <th>0.18</th>\n",
              "      <th>0.19</th>\n",
              "      <th>0.20</th>\n",
              "      <th>0.21</th>\n",
              "      <th>0.22</th>\n",
              "      <th>0.23</th>\n",
              "      <th>0.24</th>\n",
              "      <th>0.25</th>\n",
              "      <th>0.26</th>\n",
              "      <th>0.27</th>\n",
              "      <th>0.28</th>\n",
              "      <th>0.29</th>\n",
              "      <th>0.30</th>\n",
              "      <th>0.31</th>\n",
              "      <th>0.32</th>\n",
              "      <th>0.33</th>\n",
              "      <th>0.34</th>\n",
              "      <th>0.35</th>\n",
              "      <th>0.36</th>\n",
              "      <th>0.37</th>\n",
              "      <th>0.38</th>\n",
              "      <th>0.39</th>\n",
              "      <th>...</th>\n",
              "      <th>0.628</th>\n",
              "      <th>0.629</th>\n",
              "      <th>0.630</th>\n",
              "      <th>0.631</th>\n",
              "      <th>0.632</th>\n",
              "      <th>0.633</th>\n",
              "      <th>0.634</th>\n",
              "      <th>0.635</th>\n",
              "      <th>0.636</th>\n",
              "      <th>0.637</th>\n",
              "      <th>0.638</th>\n",
              "      <th>0.639</th>\n",
              "      <th>0.640</th>\n",
              "      <th>0.641</th>\n",
              "      <th>0.642</th>\n",
              "      <th>0.643</th>\n",
              "      <th>0.644</th>\n",
              "      <th>0.645</th>\n",
              "      <th>0.646</th>\n",
              "      <th>0.647</th>\n",
              "      <th>0.648</th>\n",
              "      <th>0.649</th>\n",
              "      <th>0.650</th>\n",
              "      <th>0.651</th>\n",
              "      <th>0.652</th>\n",
              "      <th>0.653</th>\n",
              "      <th>0.654</th>\n",
              "      <th>0.655</th>\n",
              "      <th>0.656</th>\n",
              "      <th>0.657</th>\n",
              "      <th>0.658</th>\n",
              "      <th>0.659</th>\n",
              "      <th>0.660</th>\n",
              "      <th>0.661</th>\n",
              "      <th>0.662</th>\n",
              "      <th>0.663</th>\n",
              "      <th>0.664</th>\n",
              "      <th>0.665</th>\n",
              "      <th>0.666</th>\n",
              "      <th>0.667</th>\n",
              "    </tr>\n",
              "  </thead>\n",
              "  <tbody>\n",
              "    <tr>\n",
              "      <th>0</th>\n",
              "      <td>0</td>\n",
              "      <td>0</td>\n",
              "      <td>0</td>\n",
              "      <td>0</td>\n",
              "      <td>0</td>\n",
              "      <td>0</td>\n",
              "      <td>0</td>\n",
              "      <td>0</td>\n",
              "      <td>0</td>\n",
              "      <td>0</td>\n",
              "      <td>0</td>\n",
              "      <td>0</td>\n",
              "      <td>0</td>\n",
              "      <td>0</td>\n",
              "      <td>0</td>\n",
              "      <td>0</td>\n",
              "      <td>0</td>\n",
              "      <td>0</td>\n",
              "      <td>0</td>\n",
              "      <td>0</td>\n",
              "      <td>0</td>\n",
              "      <td>0</td>\n",
              "      <td>0</td>\n",
              "      <td>0</td>\n",
              "      <td>0</td>\n",
              "      <td>0</td>\n",
              "      <td>0</td>\n",
              "      <td>0</td>\n",
              "      <td>0</td>\n",
              "      <td>0</td>\n",
              "      <td>0</td>\n",
              "      <td>0</td>\n",
              "      <td>0</td>\n",
              "      <td>0</td>\n",
              "      <td>0</td>\n",
              "      <td>0</td>\n",
              "      <td>0</td>\n",
              "      <td>0</td>\n",
              "      <td>0</td>\n",
              "      <td>0</td>\n",
              "      <td>...</td>\n",
              "      <td>0</td>\n",
              "      <td>0</td>\n",
              "      <td>0</td>\n",
              "      <td>0</td>\n",
              "      <td>0</td>\n",
              "      <td>0</td>\n",
              "      <td>0</td>\n",
              "      <td>0</td>\n",
              "      <td>0</td>\n",
              "      <td>0</td>\n",
              "      <td>0</td>\n",
              "      <td>0</td>\n",
              "      <td>0</td>\n",
              "      <td>0</td>\n",
              "      <td>0</td>\n",
              "      <td>0</td>\n",
              "      <td>0</td>\n",
              "      <td>0</td>\n",
              "      <td>0</td>\n",
              "      <td>0</td>\n",
              "      <td>0</td>\n",
              "      <td>0</td>\n",
              "      <td>0</td>\n",
              "      <td>0</td>\n",
              "      <td>0</td>\n",
              "      <td>0</td>\n",
              "      <td>0</td>\n",
              "      <td>0</td>\n",
              "      <td>0</td>\n",
              "      <td>0</td>\n",
              "      <td>0</td>\n",
              "      <td>0</td>\n",
              "      <td>0</td>\n",
              "      <td>0</td>\n",
              "      <td>0</td>\n",
              "      <td>0</td>\n",
              "      <td>0</td>\n",
              "      <td>0</td>\n",
              "      <td>0</td>\n",
              "      <td>0</td>\n",
              "    </tr>\n",
              "    <tr>\n",
              "      <th>1</th>\n",
              "      <td>0</td>\n",
              "      <td>0</td>\n",
              "      <td>0</td>\n",
              "      <td>0</td>\n",
              "      <td>0</td>\n",
              "      <td>0</td>\n",
              "      <td>0</td>\n",
              "      <td>0</td>\n",
              "      <td>0</td>\n",
              "      <td>0</td>\n",
              "      <td>0</td>\n",
              "      <td>0</td>\n",
              "      <td>0</td>\n",
              "      <td>0</td>\n",
              "      <td>0</td>\n",
              "      <td>0</td>\n",
              "      <td>0</td>\n",
              "      <td>0</td>\n",
              "      <td>0</td>\n",
              "      <td>0</td>\n",
              "      <td>0</td>\n",
              "      <td>0</td>\n",
              "      <td>0</td>\n",
              "      <td>0</td>\n",
              "      <td>0</td>\n",
              "      <td>0</td>\n",
              "      <td>0</td>\n",
              "      <td>0</td>\n",
              "      <td>0</td>\n",
              "      <td>0</td>\n",
              "      <td>0</td>\n",
              "      <td>0</td>\n",
              "      <td>0</td>\n",
              "      <td>0</td>\n",
              "      <td>0</td>\n",
              "      <td>0</td>\n",
              "      <td>0</td>\n",
              "      <td>0</td>\n",
              "      <td>0</td>\n",
              "      <td>0</td>\n",
              "      <td>...</td>\n",
              "      <td>0</td>\n",
              "      <td>0</td>\n",
              "      <td>0</td>\n",
              "      <td>0</td>\n",
              "      <td>0</td>\n",
              "      <td>0</td>\n",
              "      <td>0</td>\n",
              "      <td>0</td>\n",
              "      <td>0</td>\n",
              "      <td>0</td>\n",
              "      <td>0</td>\n",
              "      <td>0</td>\n",
              "      <td>0</td>\n",
              "      <td>0</td>\n",
              "      <td>0</td>\n",
              "      <td>0</td>\n",
              "      <td>0</td>\n",
              "      <td>0</td>\n",
              "      <td>0</td>\n",
              "      <td>0</td>\n",
              "      <td>0</td>\n",
              "      <td>0</td>\n",
              "      <td>0</td>\n",
              "      <td>0</td>\n",
              "      <td>0</td>\n",
              "      <td>0</td>\n",
              "      <td>0</td>\n",
              "      <td>0</td>\n",
              "      <td>0</td>\n",
              "      <td>0</td>\n",
              "      <td>0</td>\n",
              "      <td>0</td>\n",
              "      <td>0</td>\n",
              "      <td>0</td>\n",
              "      <td>0</td>\n",
              "      <td>0</td>\n",
              "      <td>0</td>\n",
              "      <td>0</td>\n",
              "      <td>0</td>\n",
              "      <td>0</td>\n",
              "    </tr>\n",
              "    <tr>\n",
              "      <th>2</th>\n",
              "      <td>0</td>\n",
              "      <td>0</td>\n",
              "      <td>0</td>\n",
              "      <td>0</td>\n",
              "      <td>0</td>\n",
              "      <td>0</td>\n",
              "      <td>0</td>\n",
              "      <td>0</td>\n",
              "      <td>0</td>\n",
              "      <td>0</td>\n",
              "      <td>0</td>\n",
              "      <td>0</td>\n",
              "      <td>0</td>\n",
              "      <td>0</td>\n",
              "      <td>0</td>\n",
              "      <td>0</td>\n",
              "      <td>0</td>\n",
              "      <td>0</td>\n",
              "      <td>0</td>\n",
              "      <td>0</td>\n",
              "      <td>0</td>\n",
              "      <td>0</td>\n",
              "      <td>0</td>\n",
              "      <td>0</td>\n",
              "      <td>0</td>\n",
              "      <td>0</td>\n",
              "      <td>0</td>\n",
              "      <td>0</td>\n",
              "      <td>0</td>\n",
              "      <td>0</td>\n",
              "      <td>0</td>\n",
              "      <td>0</td>\n",
              "      <td>0</td>\n",
              "      <td>0</td>\n",
              "      <td>0</td>\n",
              "      <td>0</td>\n",
              "      <td>0</td>\n",
              "      <td>0</td>\n",
              "      <td>0</td>\n",
              "      <td>0</td>\n",
              "      <td>...</td>\n",
              "      <td>0</td>\n",
              "      <td>0</td>\n",
              "      <td>0</td>\n",
              "      <td>0</td>\n",
              "      <td>0</td>\n",
              "      <td>0</td>\n",
              "      <td>0</td>\n",
              "      <td>0</td>\n",
              "      <td>0</td>\n",
              "      <td>0</td>\n",
              "      <td>0</td>\n",
              "      <td>0</td>\n",
              "      <td>0</td>\n",
              "      <td>0</td>\n",
              "      <td>0</td>\n",
              "      <td>0</td>\n",
              "      <td>0</td>\n",
              "      <td>0</td>\n",
              "      <td>0</td>\n",
              "      <td>0</td>\n",
              "      <td>0</td>\n",
              "      <td>0</td>\n",
              "      <td>0</td>\n",
              "      <td>0</td>\n",
              "      <td>0</td>\n",
              "      <td>0</td>\n",
              "      <td>0</td>\n",
              "      <td>0</td>\n",
              "      <td>0</td>\n",
              "      <td>0</td>\n",
              "      <td>0</td>\n",
              "      <td>0</td>\n",
              "      <td>0</td>\n",
              "      <td>0</td>\n",
              "      <td>0</td>\n",
              "      <td>0</td>\n",
              "      <td>0</td>\n",
              "      <td>0</td>\n",
              "      <td>0</td>\n",
              "      <td>0</td>\n",
              "    </tr>\n",
              "    <tr>\n",
              "      <th>3</th>\n",
              "      <td>0</td>\n",
              "      <td>0</td>\n",
              "      <td>0</td>\n",
              "      <td>0</td>\n",
              "      <td>0</td>\n",
              "      <td>0</td>\n",
              "      <td>0</td>\n",
              "      <td>0</td>\n",
              "      <td>0</td>\n",
              "      <td>0</td>\n",
              "      <td>0</td>\n",
              "      <td>0</td>\n",
              "      <td>0</td>\n",
              "      <td>0</td>\n",
              "      <td>0</td>\n",
              "      <td>0</td>\n",
              "      <td>0</td>\n",
              "      <td>0</td>\n",
              "      <td>0</td>\n",
              "      <td>0</td>\n",
              "      <td>0</td>\n",
              "      <td>0</td>\n",
              "      <td>0</td>\n",
              "      <td>0</td>\n",
              "      <td>0</td>\n",
              "      <td>0</td>\n",
              "      <td>0</td>\n",
              "      <td>0</td>\n",
              "      <td>0</td>\n",
              "      <td>0</td>\n",
              "      <td>0</td>\n",
              "      <td>0</td>\n",
              "      <td>0</td>\n",
              "      <td>0</td>\n",
              "      <td>0</td>\n",
              "      <td>0</td>\n",
              "      <td>0</td>\n",
              "      <td>0</td>\n",
              "      <td>0</td>\n",
              "      <td>0</td>\n",
              "      <td>...</td>\n",
              "      <td>0</td>\n",
              "      <td>0</td>\n",
              "      <td>0</td>\n",
              "      <td>0</td>\n",
              "      <td>0</td>\n",
              "      <td>0</td>\n",
              "      <td>0</td>\n",
              "      <td>0</td>\n",
              "      <td>0</td>\n",
              "      <td>0</td>\n",
              "      <td>0</td>\n",
              "      <td>0</td>\n",
              "      <td>0</td>\n",
              "      <td>0</td>\n",
              "      <td>0</td>\n",
              "      <td>0</td>\n",
              "      <td>0</td>\n",
              "      <td>0</td>\n",
              "      <td>0</td>\n",
              "      <td>0</td>\n",
              "      <td>0</td>\n",
              "      <td>0</td>\n",
              "      <td>0</td>\n",
              "      <td>0</td>\n",
              "      <td>0</td>\n",
              "      <td>0</td>\n",
              "      <td>0</td>\n",
              "      <td>0</td>\n",
              "      <td>0</td>\n",
              "      <td>0</td>\n",
              "      <td>0</td>\n",
              "      <td>0</td>\n",
              "      <td>0</td>\n",
              "      <td>0</td>\n",
              "      <td>0</td>\n",
              "      <td>0</td>\n",
              "      <td>0</td>\n",
              "      <td>0</td>\n",
              "      <td>0</td>\n",
              "      <td>0</td>\n",
              "    </tr>\n",
              "    <tr>\n",
              "      <th>4</th>\n",
              "      <td>0</td>\n",
              "      <td>0</td>\n",
              "      <td>0</td>\n",
              "      <td>0</td>\n",
              "      <td>0</td>\n",
              "      <td>0</td>\n",
              "      <td>0</td>\n",
              "      <td>0</td>\n",
              "      <td>0</td>\n",
              "      <td>0</td>\n",
              "      <td>0</td>\n",
              "      <td>0</td>\n",
              "      <td>0</td>\n",
              "      <td>0</td>\n",
              "      <td>0</td>\n",
              "      <td>0</td>\n",
              "      <td>0</td>\n",
              "      <td>0</td>\n",
              "      <td>0</td>\n",
              "      <td>0</td>\n",
              "      <td>0</td>\n",
              "      <td>0</td>\n",
              "      <td>0</td>\n",
              "      <td>0</td>\n",
              "      <td>0</td>\n",
              "      <td>0</td>\n",
              "      <td>0</td>\n",
              "      <td>0</td>\n",
              "      <td>0</td>\n",
              "      <td>0</td>\n",
              "      <td>0</td>\n",
              "      <td>0</td>\n",
              "      <td>0</td>\n",
              "      <td>0</td>\n",
              "      <td>0</td>\n",
              "      <td>0</td>\n",
              "      <td>0</td>\n",
              "      <td>0</td>\n",
              "      <td>0</td>\n",
              "      <td>0</td>\n",
              "      <td>...</td>\n",
              "      <td>0</td>\n",
              "      <td>0</td>\n",
              "      <td>0</td>\n",
              "      <td>0</td>\n",
              "      <td>0</td>\n",
              "      <td>0</td>\n",
              "      <td>0</td>\n",
              "      <td>0</td>\n",
              "      <td>0</td>\n",
              "      <td>0</td>\n",
              "      <td>0</td>\n",
              "      <td>0</td>\n",
              "      <td>0</td>\n",
              "      <td>0</td>\n",
              "      <td>0</td>\n",
              "      <td>0</td>\n",
              "      <td>0</td>\n",
              "      <td>0</td>\n",
              "      <td>0</td>\n",
              "      <td>0</td>\n",
              "      <td>0</td>\n",
              "      <td>0</td>\n",
              "      <td>0</td>\n",
              "      <td>0</td>\n",
              "      <td>0</td>\n",
              "      <td>0</td>\n",
              "      <td>0</td>\n",
              "      <td>0</td>\n",
              "      <td>0</td>\n",
              "      <td>0</td>\n",
              "      <td>0</td>\n",
              "      <td>0</td>\n",
              "      <td>0</td>\n",
              "      <td>0</td>\n",
              "      <td>0</td>\n",
              "      <td>0</td>\n",
              "      <td>0</td>\n",
              "      <td>0</td>\n",
              "      <td>0</td>\n",
              "      <td>0</td>\n",
              "    </tr>\n",
              "  </tbody>\n",
              "</table>\n",
              "<p>5 rows × 784 columns</p>\n",
              "</div>"
            ],
            "text/plain": [
              "   0  0.1  0.2  0.3  0.4  0.5  ...  0.662  0.663  0.664  0.665  0.666  0.667\n",
              "0  0    0    0    0    0    0  ...      0      0      0      0      0      0\n",
              "1  0    0    0    0    0    0  ...      0      0      0      0      0      0\n",
              "2  0    0    0    0    0    0  ...      0      0      0      0      0      0\n",
              "3  0    0    0    0    0    0  ...      0      0      0      0      0      0\n",
              "4  0    0    0    0    0    0  ...      0      0      0      0      0      0\n",
              "\n",
              "[5 rows x 784 columns]"
            ]
          },
          "execution_count": 62,
          "metadata": {},
          "output_type": "execute_result"
        }
      ]
    },
    {
      "cell_type": "code",
      "metadata": {
        "id": "3rhxBHtH4YSc"
      },
      "source": [
        "import matplotlib.pyplot as plt\n"
      ],
      "execution_count": null,
      "outputs": []
    },
    {
      "cell_type": "code",
      "metadata": {
        "colab": {
          "base_uri": "https://localhost:8080/",
          "height": 283
        },
        "id": "l78DnhMv4us8",
        "outputId": "0e328035-4086-4e98-e64a-03c4faf1a5ca"
      },
      "source": [
        "plt.imshow(np.array(x.iloc[0,:]).reshape(28,28))"
      ],
      "execution_count": null,
      "outputs": [
        {
          "data": {
            "text/plain": [
              "<matplotlib.image.AxesImage at 0x7f58fc3c0390>"
            ]
          },
          "execution_count": 64,
          "metadata": {},
          "output_type": "execute_result"
        },
        {
          "data": {
            "image/png": "[encoded data removed]",
            "text/plain": [
              "<Figure size 432x288 with 1 Axes>"
            ]
          },
          "metadata": {},
          "output_type": "display_data"
        }
      ]
    },
    {
      "cell_type": "code",
      "metadata": {
        "colab": {
          "base_uri": "https://localhost:8080/"
        },
        "id": "51cKOGcy5Gls",
        "outputId": "00a8fb87-f545-4a20-c551-1be1c551f8aa"
      },
      "source": [
        "y[0]"
      ],
      "execution_count": null,
      "outputs": [
        {
          "data": {
            "text/plain": [
              "2"
            ]
          },
          "execution_count": 65,
          "metadata": {},
          "output_type": "execute_result"
        }
      ]
    },
    {
      "cell_type": "code",
      "metadata": {
        "id": "I0jn_Lf45UPn"
      },
      "source": [
        "svm_model=svm.SVC(random_state=42)"
      ],
      "execution_count": null,
      "outputs": []
    },
    {
      "cell_type": "code",
      "metadata": {
        "id": "SOs-jW9i5zAg"
      },
      "source": [
        "#params={'kernel':['linear','rbf'],'C':[0.01,0.1,1,10],'gamma':['scale','auto',0.01,0.1,1.10]}\n",
        "params={'kernel':['linear','rbf'],'C':[0.01,0.1,1,10]}"
      ],
      "execution_count": null,
      "outputs": []
    },
    {
      "cell_type": "code",
      "metadata": {
        "id": "bj10BC6069V4"
      },
      "source": [
        "scoreing={\n",
        "    'accuracy':metrics.make_scorer(metrics.accuracy_score),\n",
        "    # 'precision':metrics.make_scorer(metrics.precision_score),\n",
        "    # 'recall':metrics.make_scorer(metrics.recall_score),\n",
        "    # 'f1':metrics.make_scorer(metrics.f1_score),\n",
        "}\n"
      ],
      "execution_count": null,
      "outputs": []
    },
    {
      "cell_type": "code",
      "metadata": {
        "id": "dQ2nogcg74Ug"
      },
      "source": [
        "kfold=model_selection.StratifiedShuffleSplit()"
      ],
      "execution_count": null,
      "outputs": []
    },
    {
      "cell_type": "code",
      "metadata": {
        "id": "hj_xGVM65jgL"
      },
      "source": [
        "gs=model_selection.GridSearchCV(svm_model,param_grid=params,scoring=scoreing,refit='accuracy',verbose=2,cv=kfold)"
      ],
      "execution_count": null,
      "outputs": []
    },
    {
      "cell_type": "code",
      "metadata": {
        "colab": {
          "background_save": true,
          "base_uri": "https://localhost:8080/"
        },
        "id": "91rRLelv71iS",
        "outputId": "ca97251d-108d-4012-e1f1-55e6d7975227"
      },
      "source": [
        "gs.fit(x,y)"
      ],
      "execution_count": null,
      "outputs": [
        {
          "name": "stdout",
          "output_type": "stream",
          "text": [
            "Fitting 10 folds for each of 8 candidates, totalling 80 fits\n",
            "[CV] C=0.01, kernel=linear ...........................................\n"
          ]
        },
        {
          "name": "stderr",
          "output_type": "stream",
          "text": [
            "[Parallel(n_jobs=1)]: Using backend SequentialBackend with 1 concurrent workers.\n"
          ]
        },
        {
          "name": "stdout",
          "output_type": "stream",
          "text": [
            "[CV] ............................ C=0.01, kernel=linear, total=  18.2s\n",
            "[CV] C=0.01, kernel=linear ...........................................\n"
          ]
        },
        {
          "name": "stderr",
          "output_type": "stream",
          "text": [
            "[Parallel(n_jobs=1)]: Done   1 out of   1 | elapsed:   18.2s remaining:    0.0s\n"
          ]
        },
        {
          "name": "stdout",
          "output_type": "stream",
          "text": [
            "[CV] ............................ C=0.01, kernel=linear, total=  17.9s\n",
            "[CV] C=0.01, kernel=linear ...........................................\n",
            "[CV] ............................ C=0.01, kernel=linear, total=  18.0s\n",
            "[CV] C=0.01, kernel=linear ...........................................\n",
            "[CV] ............................ C=0.01, kernel=linear, total=  17.9s\n",
            "[CV] C=0.01, kernel=linear ...........................................\n",
            "[CV] ............................ C=0.01, kernel=linear, total=  18.0s\n",
            "[CV] C=0.01, kernel=linear ...........................................\n",
            "[CV] ............................ C=0.01, kernel=linear, total=  18.2s\n",
            "[CV] C=0.01, kernel=linear ...........................................\n",
            "[CV] ............................ C=0.01, kernel=linear, total=  17.8s\n",
            "[CV] C=0.01, kernel=linear ...........................................\n",
            "[CV] ............................ C=0.01, kernel=linear, total=  17.6s\n",
            "[CV] C=0.01, kernel=linear ...........................................\n",
            "[CV] ............................ C=0.01, kernel=linear, total=  17.8s\n",
            "[CV] C=0.01, kernel=linear ...........................................\n",
            "[CV] ............................ C=0.01, kernel=linear, total=  18.0s\n",
            "[CV] C=0.01, kernel=rbf ..............................................\n",
            "[CV] ............................... C=0.01, kernel=rbf, total= 3.0min\n",
            "[CV] C=0.01, kernel=rbf ..............................................\n",
            "[CV] ............................... C=0.01, kernel=rbf, total= 2.9min\n",
            "[CV] C=0.01, kernel=rbf ..............................................\n",
            "[CV] ............................... C=0.01, kernel=rbf, total= 3.1min\n",
            "[CV] C=0.01, kernel=rbf ..............................................\n",
            "[CV] ............................... C=0.01, kernel=rbf, total= 3.0min\n",
            "[CV] C=0.01, kernel=rbf ..............................................\n",
            "[CV] ............................... C=0.01, kernel=rbf, total= 3.0min\n",
            "[CV] C=0.01, kernel=rbf ..............................................\n",
            "[CV] ............................... C=0.01, kernel=rbf, total= 2.9min\n",
            "[CV] C=0.01, kernel=rbf ..............................................\n",
            "[CV] ............................... C=0.01, kernel=rbf, total= 2.9min\n",
            "[CV] C=0.01, kernel=rbf ..............................................\n",
            "[CV] ............................... C=0.01, kernel=rbf, total= 3.1min\n",
            "[CV] C=0.01, kernel=rbf ..............................................\n",
            "[CV] ............................... C=0.01, kernel=rbf, total= 3.1min\n",
            "[CV] C=0.01, kernel=rbf ..............................................\n",
            "[CV] ............................... C=0.01, kernel=rbf, total= 3.0min\n",
            "[CV] C=0.1, kernel=linear ............................................\n",
            "[CV] ............................. C=0.1, kernel=linear, total=  18.9s\n",
            "[CV] C=0.1, kernel=linear ............................................\n",
            "[CV] ............................. C=0.1, kernel=linear, total=  18.2s\n",
            "[CV] C=0.1, kernel=linear ............................................\n",
            "[CV] ............................. C=0.1, kernel=linear, total=  19.6s\n",
            "[CV] C=0.1, kernel=linear ............................................\n",
            "[CV] ............................. C=0.1, kernel=linear, total=  18.4s\n",
            "[CV] C=0.1, kernel=linear ............................................\n",
            "[CV] ............................. C=0.1, kernel=linear, total=  18.4s\n",
            "[CV] C=0.1, kernel=linear ............................................\n",
            "[CV] ............................. C=0.1, kernel=linear, total=  19.8s\n",
            "[CV] C=0.1, kernel=linear ............................................\n",
            "[CV] ............................. C=0.1, kernel=linear, total=  19.2s\n",
            "[CV] C=0.1, kernel=linear ............................................\n",
            "[CV] ............................. C=0.1, kernel=linear, total=  18.1s\n",
            "[CV] C=0.1, kernel=linear ............................................\n",
            "[CV] ............................. C=0.1, kernel=linear, total=  18.2s\n",
            "[CV] C=0.1, kernel=linear ............................................\n",
            "[CV] ............................. C=0.1, kernel=linear, total=  18.6s\n",
            "[CV] C=0.1, kernel=rbf ...............................................\n",
            "[CV] ................................ C=0.1, kernel=rbf, total= 1.2min\n",
            "[CV] C=0.1, kernel=rbf ...............................................\n",
            "[CV] ................................ C=0.1, kernel=rbf, total= 1.2min\n",
            "[CV] C=0.1, kernel=rbf ...............................................\n",
            "[CV] ................................ C=0.1, kernel=rbf, total= 1.2min\n",
            "[CV] C=0.1, kernel=rbf ...............................................\n",
            "[CV] ................................ C=0.1, kernel=rbf, total= 1.2min\n",
            "[CV] C=0.1, kernel=rbf ...............................................\n",
            "[CV] ................................ C=0.1, kernel=rbf, total= 1.2min\n",
            "[CV] C=0.1, kernel=rbf ...............................................\n",
            "[CV] ................................ C=0.1, kernel=rbf, total= 1.2min\n",
            "[CV] C=0.1, kernel=rbf ...............................................\n",
            "[CV] ................................ C=0.1, kernel=rbf, total= 1.2min\n",
            "[CV] C=0.1, kernel=rbf ...............................................\n",
            "[CV] ................................ C=0.1, kernel=rbf, total= 1.2min\n",
            "[CV] C=0.1, kernel=rbf ...............................................\n",
            "[CV] ................................ C=0.1, kernel=rbf, total= 1.2min\n",
            "[CV] C=0.1, kernel=rbf ...............................................\n",
            "[CV] ................................ C=0.1, kernel=rbf, total= 1.2min\n",
            "[CV] C=1, kernel=linear ..............................................\n",
            "[CV] ............................... C=1, kernel=linear, total=  18.6s\n",
            "[CV] C=1, kernel=linear ..............................................\n",
            "[CV] ............................... C=1, kernel=linear, total=  18.4s\n",
            "[CV] C=1, kernel=linear ..............................................\n",
            "[CV] ............................... C=1, kernel=linear, total=  18.7s\n",
            "[CV] C=1, kernel=linear ..............................................\n",
            "[CV] ............................... C=1, kernel=linear, total=  18.2s\n",
            "[CV] C=1, kernel=linear ..............................................\n",
            "[CV] ............................... C=1, kernel=linear, total=  18.4s\n",
            "[CV] C=1, kernel=linear ..............................................\n",
            "[CV] ............................... C=1, kernel=linear, total=  18.2s\n",
            "[CV] C=1, kernel=linear ..............................................\n",
            "[CV] ............................... C=1, kernel=linear, total=  18.5s\n",
            "[CV] C=1, kernel=linear ..............................................\n",
            "[CV] ............................... C=1, kernel=linear, total=  18.0s\n",
            "[CV] C=1, kernel=linear ..............................................\n",
            "[CV] ............................... C=1, kernel=linear, total=  18.1s\n",
            "[CV] C=1, kernel=linear ..............................................\n",
            "[CV] ............................... C=1, kernel=linear, total=  18.7s\n",
            "[CV] C=1, kernel=rbf .................................................\n",
            "[CV] .................................. C=1, kernel=rbf, total=  33.5s\n",
            "[CV] C=1, kernel=rbf .................................................\n",
            "[CV] .................................. C=1, kernel=rbf, total=  33.3s\n",
            "[CV] C=1, kernel=rbf .................................................\n",
            "[CV] .................................. C=1, kernel=rbf, total=  33.0s\n",
            "[CV] C=1, kernel=rbf .................................................\n",
            "[CV] .................................. C=1, kernel=rbf, total=  33.2s\n",
            "[CV] C=1, kernel=rbf .................................................\n",
            "[CV] .................................. C=1, kernel=rbf, total=  33.1s\n",
            "[CV] C=1, kernel=rbf .................................................\n",
            "[CV] .................................. C=1, kernel=rbf, total=  33.6s\n",
            "[CV] C=1, kernel=rbf .................................................\n",
            "[CV] .................................. C=1, kernel=rbf, total=  33.1s\n",
            "[CV] C=1, kernel=rbf .................................................\n",
            "[CV] .................................. C=1, kernel=rbf, total=  33.6s\n",
            "[CV] C=1, kernel=rbf .................................................\n",
            "[CV] .................................. C=1, kernel=rbf, total=  33.7s\n",
            "[CV] C=1, kernel=rbf .................................................\n",
            "[CV] .................................. C=1, kernel=rbf, total=  33.1s\n",
            "[CV] C=10, kernel=linear .............................................\n",
            "[CV] .............................. C=10, kernel=linear, total=  18.8s\n",
            "[CV] C=10, kernel=linear .............................................\n",
            "[CV] .............................. C=10, kernel=linear, total=  18.4s\n",
            "[CV] C=10, kernel=linear .............................................\n",
            "[CV] .............................. C=10, kernel=linear, total=  18.3s\n",
            "[CV] C=10, kernel=linear .............................................\n",
            "[CV] .............................. C=10, kernel=linear, total=  18.1s\n",
            "[CV] C=10, kernel=linear .............................................\n",
            "[CV] .............................. C=10, kernel=linear, total=  18.5s\n",
            "[CV] C=10, kernel=linear .............................................\n",
            "[CV] .............................. C=10, kernel=linear, total=  18.2s\n",
            "[CV] C=10, kernel=linear .............................................\n",
            "[CV] .............................. C=10, kernel=linear, total=  17.9s\n",
            "[CV] C=10, kernel=linear .............................................\n",
            "[CV] .............................. C=10, kernel=linear, total=  18.4s\n",
            "[CV] C=10, kernel=linear .............................................\n",
            "[CV] .............................. C=10, kernel=linear, total=  18.4s\n",
            "[CV] C=10, kernel=linear .............................................\n",
            "[CV] .............................. C=10, kernel=linear, total=  18.1s\n",
            "[CV] C=10, kernel=rbf ................................................\n",
            "[CV] ................................. C=10, kernel=rbf, total=  32.1s\n",
            "[CV] C=10, kernel=rbf ................................................\n",
            "[CV] ................................. C=10, kernel=rbf, total=  30.9s\n",
            "[CV] C=10, kernel=rbf ................................................\n",
            "[CV] ................................. C=10, kernel=rbf, total=  31.4s\n",
            "[CV] C=10, kernel=rbf ................................................\n",
            "[CV] ................................. C=10, kernel=rbf, total=  32.0s\n",
            "[CV] C=10, kernel=rbf ................................................\n",
            "[CV] ................................. C=10, kernel=rbf, total=  32.1s\n",
            "[CV] C=10, kernel=rbf ................................................\n",
            "[CV] ................................. C=10, kernel=rbf, total=  31.8s\n",
            "[CV] C=10, kernel=rbf ................................................\n",
            "[CV] ................................. C=10, kernel=rbf, total=  32.7s\n",
            "[CV] C=10, kernel=rbf ................................................\n",
            "[CV] ................................. C=10, kernel=rbf, total=  32.0s\n",
            "[CV] C=10, kernel=rbf ................................................\n",
            "[CV] ................................. C=10, kernel=rbf, total=  32.7s\n",
            "[CV] C=10, kernel=rbf ................................................\n",
            "[CV] ................................. C=10, kernel=rbf, total=  31.9s\n"
          ]
        },
        {
          "name": "stderr",
          "output_type": "stream",
          "text": [
            "[Parallel(n_jobs=1)]: Done  80 out of  80 | elapsed: 64.8min finished\n"
          ]
        },
        {
          "data": {
            "text/plain": [
              "GridSearchCV(cv=StratifiedShuffleSplit(n_splits=10, random_state=None, test_size=None,\n",
              "            train_size=None),\n",
              "             error_score=nan,\n",
              "             estimator=SVC(C=1.0, break_ties=False, cache_size=200,\n",
              "                           class_weight=None, coef0=0.0,\n",
              "                           decision_function_shape='ovr', degree=3,\n",
              "                           gamma='scale', kernel='rbf', max_iter=-1,\n",
              "                           probability=False, random_state=42, shrinking=True,\n",
              "                           tol=0.001, verbose=False),\n",
              "             iid='deprecated', n_jobs=None,\n",
              "             param_grid={'C': [0.01, 0.1, 1, 10], 'kernel': ['linear', 'rbf']},\n",
              "             pre_dispatch='2*n_jobs', refit='accuracy',\n",
              "             return_train_score=False,\n",
              "             scoring={'accuracy': make_scorer(accuracy_score)}, verbose=2)"
            ]
          },
          "execution_count": null,
          "metadata": {},
          "output_type": "execute_result"
        }
      ]
    },
    {
      "cell_type": "code",
      "metadata": {
        "id": "okQw9-tY8T29"
      },
      "source": [
        "print('best_params_ ',gs.best_params_)\n",
        "print('best_score_ ',gs.best_score_)"
      ],
      "execution_count": null,
      "outputs": []
    },
    {
      "cell_type": "markdown",
      "metadata": {
        "id": "PMvYhxGy0erL"
      },
      "source": [
        "#tensorFlow"
      ]
    },
    {
      "cell_type": "code",
      "metadata": {
        "id": "EnGf_jHk_keG"
      },
      "source": [
        "import tensorflow as tf\n",
        "import numpy as np\n",
        "import matplotlib.pyplot as plt\n"
      ],
      "execution_count": null,
      "outputs": []
    },
    {
      "cell_type": "code",
      "metadata": {
        "id": "h4SFqoJE00NV"
      },
      "source": [
        "t_of_1=tf.ones(shape=(3,4),name='ones')"
      ],
      "execution_count": null,
      "outputs": []
    },
    {
      "cell_type": "code",
      "metadata": {
        "colab": {
          "base_uri": "https://localhost:8080/"
        },
        "id": "Rpa5tnha1Qt_",
        "outputId": "c3908bd0-91ca-41c6-9016-872fd5e2d2cb"
      },
      "source": [
        "t_of_1"
      ],
      "execution_count": null,
      "outputs": [
        {
          "data": {
            "text/plain": [
              "<tf.Tensor: shape=(3, 4), dtype=float32, numpy=\n",
              "array([[1., 1., 1., 1.],\n",
              "       [1., 1., 1., 1.],\n",
              "       [1., 1., 1., 1.]], dtype=float32)>"
            ]
          },
          "execution_count": 5,
          "metadata": {},
          "output_type": "execute_result"
        }
      ]
    },
    {
      "cell_type": "code",
      "metadata": {
        "colab": {
          "base_uri": "https://localhost:8080/"
        },
        "id": "b6T1gEfJ1Zbu",
        "outputId": "73ae7946-1b3a-4eb7-d4e8-2c35b24a694d"
      },
      "source": [
        "t_of_0=tf.zeros(shape=(3,4),name='zeros')\n",
        "print(t_of_1)"
      ],
      "execution_count": null,
      "outputs": [
        {
          "name": "stdout",
          "output_type": "stream",
          "text": [
            "tf.Tensor(\n",
            "[[1. 1. 1. 1.]\n",
            " [1. 1. 1. 1.]\n",
            " [1. 1. 1. 1.]], shape=(3, 4), dtype=float32)\n"
          ]
        }
      ]
    },
    {
      "cell_type": "code",
      "metadata": {
        "id": "a6C0tzWK1sd9"
      },
      "source": [
        "random_norm=tf.random.normal([1028],seed=42,name='normal')\n",
        "random_uni=tf.random.uniform([512],seed=42,name='uniform')"
      ],
      "execution_count": null,
      "outputs": []
    },
    {
      "cell_type": "code",
      "metadata": {
        "id": "puzIe05S2QJf"
      },
      "source": [
        "constant_1=tf.constant(t_of_1,shape=(6,2),name='c1')"
      ],
      "execution_count": null,
      "outputs": []
    },
    {
      "cell_type": "code",
      "metadata": {
        "colab": {
          "base_uri": "https://localhost:8080/"
        },
        "id": "DeVQ_XWp4jWO",
        "outputId": "cb616e23-e3e3-410f-8f19-03ba15d12efe"
      },
      "source": [
        "constant_1"
      ],
      "execution_count": null,
      "outputs": [
        {
          "data": {
            "text/plain": [
              "<tf.Tensor: shape=(6, 2), dtype=float32, numpy=\n",
              "array([[1., 1.],\n",
              "       [1., 1.],\n",
              "       [1., 1.],\n",
              "       [1., 1.],\n",
              "       [1., 1.],\n",
              "       [1., 1.]], dtype=float32)>"
            ]
          },
          "execution_count": 12,
          "metadata": {},
          "output_type": "execute_result"
        }
      ]
    },
    {
      "cell_type": "code",
      "metadata": {
        "id": "8rbsflNl4k-N"
      },
      "source": [
        "w_init=tf.random.normal([4,2],dtype=tf.float32,name='w_1_init')\n",
        "w=tf.Variable(w_init,trainable=True,name='W_1')"
      ],
      "execution_count": null,
      "outputs": []
    },
    {
      "cell_type": "code",
      "metadata": {
        "colab": {
          "base_uri": "https://localhost:8080/"
        },
        "id": "rGORYZE_6sLX",
        "outputId": "65ae7034-2527-494e-80e0-183d134c4732"
      },
      "source": [
        "w"
      ],
      "execution_count": null,
      "outputs": [
        {
          "data": {
            "text/plain": [
              "<tf.Variable 'W_1:0' shape=(4, 2) dtype=float32, numpy=\n",
              "array([[ 1.1821561 ,  1.1536336 ],\n",
              "       [-1.2511997 , -0.8236694 ],\n",
              "       [ 1.3129734 , -0.23551111],\n",
              "       [-0.59340906, -1.394416  ]], dtype=float32)>"
            ]
          },
          "execution_count": 15,
          "metadata": {},
          "output_type": "execute_result"
        }
      ]
    },
    {
      "cell_type": "code",
      "metadata": {
        "id": "UNVKtz2L6zaC"
      },
      "source": [
        "#basic math on tensors\n",
        "a=tf.constant([1,2,3,4],shape=(2,2))\n",
        "b=tf.constant([5,6,7,8],shape=(2,2))"
      ],
      "execution_count": null,
      "outputs": []
    },
    {
      "cell_type": "code",
      "metadata": {
        "colab": {
          "base_uri": "https://localhost:8080/"
        },
        "id": "1DrP2QR07yPq",
        "outputId": "3bb44590-8450-4b61-b513-f18d9ae32b17"
      },
      "source": [
        "tf.add(a,b,name='add a and b')"
      ],
      "execution_count": null,
      "outputs": [
        {
          "data": {
            "text/plain": [
              "<tf.Tensor: shape=(2, 2), dtype=int32, numpy=\n",
              "array([[ 6,  8],\n",
              "       [10, 12]], dtype=int32)>"
            ]
          },
          "execution_count": 17,
          "metadata": {},
          "output_type": "execute_result"
        }
      ]
    },
    {
      "cell_type": "code",
      "metadata": {
        "colab": {
          "base_uri": "https://localhost:8080/"
        },
        "id": "dWhopYLv719J",
        "outputId": "f18107b6-7e65-40e0-ba83-911a52747013"
      },
      "source": [
        "tf.matmul(a,b,name='dot a and b')"
      ],
      "execution_count": null,
      "outputs": [
        {
          "data": {
            "text/plain": [
              "<tf.Tensor: shape=(2, 2), dtype=int32, numpy=\n",
              "array([[19, 22],\n",
              "       [43, 50]], dtype=int32)>"
            ]
          },
          "execution_count": 18,
          "metadata": {},
          "output_type": "execute_result"
        }
      ]
    },
    {
      "cell_type": "code",
      "metadata": {
        "colab": {
          "base_uri": "https://localhost:8080/"
        },
        "id": "erYtplzP8CO8",
        "outputId": "6811fa9f-88f2-469a-f701-cf78dda4e76f"
      },
      "source": [
        "tf.math.sigmoid(w_init)"
      ],
      "execution_count": null,
      "outputs": [
        {
          "data": {
            "text/plain": [
              "<tf.Tensor: shape=(4, 2), dtype=float32, numpy=\n",
              "array([[0.76533526, 0.7601739 ],\n",
              "       [0.22249252, 0.3049853 ],\n",
              "       [0.7880103 , 0.44139287],\n",
              "       [0.35585305, 0.19870368]], dtype=float32)>"
            ]
          },
          "execution_count": 19,
          "metadata": {},
          "output_type": "execute_result"
        }
      ]
    },
    {
      "cell_type": "code",
      "metadata": {
        "colab": {
          "base_uri": "https://localhost:8080/"
        },
        "id": "7bGmH3pa8rap",
        "outputId": "34f62dd0-73a9-4188-bc5a-1bfae7f0d73b"
      },
      "source": [
        "tf.math.reduce_mean(w_init)"
      ],
      "execution_count": null,
      "outputs": [
        {
          "data": {
            "text/plain": [
              "<tf.Tensor: shape=(), dtype=float32, numpy=-0.081180245>"
            ]
          },
          "execution_count": 21,
          "metadata": {},
          "output_type": "execute_result"
        }
      ]
    },
    {
      "cell_type": "code",
      "metadata": {
        "colab": {
          "base_uri": "https://localhost:8080/"
        },
        "id": "7pCghRki9FZo",
        "outputId": "aabb1ecb-66a1-4547-8f2e-99720f747c9f"
      },
      "source": [
        "tf.math.reduce_max(w_init,axis=0)"
      ],
      "execution_count": null,
      "outputs": [
        {
          "data": {
            "text/plain": [
              "<tf.Tensor: shape=(2,), dtype=float32, numpy=array([1.3129734, 1.1536336], dtype=float32)>"
            ]
          },
          "execution_count": 22,
          "metadata": {},
          "output_type": "execute_result"
        }
      ]
    },
    {
      "cell_type": "code",
      "metadata": {
        "colab": {
          "base_uri": "https://localhost:8080/"
        },
        "id": "VFnCDtme9jxS",
        "outputId": "d26efcb1-833b-4194-db19-9eac74f3bca5"
      },
      "source": [
        "tf.nn.softmax(w_init)"
      ],
      "execution_count": null,
      "outputs": [
        {
          "data": {
            "text/plain": [
              "<tf.Tensor: shape=(4, 2), dtype=float32, numpy=\n",
              "array([[0.50713015, 0.49286985],\n",
              "       [0.39471623, 0.60528374],\n",
              "       [0.8246947 , 0.17530526],\n",
              "       [0.69018984, 0.3098102 ]], dtype=float32)>"
            ]
          },
          "execution_count": 23,
          "metadata": {},
          "output_type": "execute_result"
        }
      ]
    },
    {
      "cell_type": "code",
      "metadata": {
        "colab": {
          "base_uri": "https://localhost:8080/"
        },
        "id": "cBLXVnaU-UpB",
        "outputId": "26378c2a-fe31-45dd-b2f6-1db6c2268ed0"
      },
      "source": [
        "tf.math.argmax([1,2,3,4,10,2])#index of max number"
      ],
      "execution_count": null,
      "outputs": [
        {
          "data": {
            "text/plain": [
              "<tf.Tensor: shape=(), dtype=int64, numpy=4>"
            ]
          },
          "execution_count": 25,
          "metadata": {},
          "output_type": "execute_result"
        }
      ]
    },
    {
      "cell_type": "code",
      "metadata": {
        "id": "hMFOx1HH-rMn"
      },
      "source": [
        "y=[1,2,12,0,0,0,1,2,0,0]\n",
        "one_hat_y=tf.one_hot(y,depth=len(set(y)))"
      ],
      "execution_count": null,
      "outputs": []
    },
    {
      "cell_type": "code",
      "metadata": {
        "colab": {
          "base_uri": "https://localhost:8080/"
        },
        "id": "pdejw_qI_XUK",
        "outputId": "bf640d26-1dbe-4d02-dad8-dd202e58b622"
      },
      "source": [
        "one_hat_y"
      ],
      "execution_count": null,
      "outputs": [
        {
          "data": {
            "text/plain": [
              "<tf.Tensor: shape=(10, 4), dtype=float32, numpy=\n",
              "array([[0., 1., 0., 0.],\n",
              "       [0., 0., 1., 0.],\n",
              "       [0., 0., 0., 0.],\n",
              "       [1., 0., 0., 0.],\n",
              "       [1., 0., 0., 0.],\n",
              "       [1., 0., 0., 0.],\n",
              "       [0., 1., 0., 0.],\n",
              "       [0., 0., 1., 0.],\n",
              "       [1., 0., 0., 0.],\n",
              "       [1., 0., 0., 0.]], dtype=float32)>"
            ]
          },
          "execution_count": 28,
          "metadata": {},
          "output_type": "execute_result"
        }
      ]
    },
    {
      "cell_type": "code",
      "metadata": {
        "id": "uavZK6_N_fMb"
      },
      "source": [
        "d1=tf.keras.layers.Dense(6,activation=tf.nn.sigmoid,\n",
        "                         kernel_initializer=tf.initializers.glorot_uniform(seed=42),name='layer 1')"
      ],
      "execution_count": null,
      "outputs": []
    },
    {
      "cell_type": "code",
      "metadata": {
        "colab": {
          "base_uri": "https://localhost:8080/"
        },
        "id": "fho4d3EAGQTX",
        "outputId": "91d8b151-edec-4697-c4db-8530fdd88279"
      },
      "source": [
        "test=np.random.randn(1,4)\n",
        "d1(test)"
      ],
      "execution_count": null,
      "outputs": [
        {
          "data": {
            "text/plain": [
              "<tf.Tensor: shape=(1, 6), dtype=float32, numpy=\n",
              "array([[0.4550607 , 0.63673127, 0.6566781 , 0.34864202, 0.4053675 ,\n",
              "        0.567466  ]], dtype=float32)>"
            ]
          },
          "execution_count": 35,
          "metadata": {},
          "output_type": "execute_result"
        }
      ]
    },
    {
      "cell_type": "code",
      "metadata": {
        "colab": {
          "base_uri": "https://localhost:8080/"
        },
        "id": "6NitH2QBGhJu",
        "outputId": "0474fbab-d7e2-445b-97df-66b4468a9b83"
      },
      "source": [
        "d1.trainable_variables"
      ],
      "execution_count": null,
      "outputs": [
        {
          "data": {
            "text/plain": [
              "[<tf.Variable 'dense_1/kernel:0' shape=(4, 6) dtype=float32, numpy=\n",
              " array([[-0.33705312, -0.00245255,  0.33378685, -0.74329984, -0.652833  ,\n",
              "          0.19606495],\n",
              "        [ 0.3950417 , -0.5062673 , -0.5751959 , -0.69299996,  0.6855633 ,\n",
              "         -0.41758206],\n",
              "        [-0.03479248, -0.39263517,  0.3479116 ,  0.41683507,  0.05718213,\n",
              "         -0.51323986],\n",
              "        [ 0.00435084, -0.46484697, -0.7199149 , -0.2900394 , -0.03966814,\n",
              "          0.09264088]], dtype=float32)>,\n",
              " <tf.Variable 'dense_1/bias:0' shape=(6,) dtype=float32, numpy=array([0., 0., 0., 0., 0., 0.], dtype=float32)>]"
            ]
          },
          "execution_count": 33,
          "metadata": {},
          "output_type": "execute_result"
        }
      ]
    },
    {
      "cell_type": "code",
      "metadata": {
        "id": "Q9dzJz_AG95C"
      },
      "source": [
        "d1=tf.keras.layers.Dense(4,activation=tf.nn.leaky_relu,\n",
        "                         kernel_initializer=tf.initializers.he_uniform(seed=42),name='layer 1')"
      ],
      "execution_count": null,
      "outputs": []
    },
    {
      "cell_type": "code",
      "metadata": {
        "id": "evIX1YhGJN_1"
      },
      "source": [
        "d2=tf.keras.layers.Dense(2,activation=tf.nn.softmax,\n",
        "                         kernel_initializer=tf.initializers.glorot_uniform(seed=42),name='layer 2')"
      ],
      "execution_count": null,
      "outputs": []
    },
    {
      "cell_type": "code",
      "metadata": {
        "colab": {
          "base_uri": "https://localhost:8080/"
        },
        "id": "qBsgLAGYJg8K",
        "outputId": "9bcde417-2726-4e7f-ac0d-ad1bfd2497fb"
      },
      "source": [
        "z1=d1(test)\n",
        "z1"
      ],
      "execution_count": null,
      "outputs": [
        {
          "data": {
            "text/plain": [
              "<tf.Tensor: shape=(1, 4), dtype=float32, numpy=array([[0.4926372 , 0.76975584, 0.35630295, 0.21776032]], dtype=float32)>"
            ]
          },
          "execution_count": 45,
          "metadata": {},
          "output_type": "execute_result"
        }
      ]
    },
    {
      "cell_type": "code",
      "metadata": {
        "id": "nNWvjqE4JrMt"
      },
      "source": [
        "z2=d2(z1)"
      ],
      "execution_count": null,
      "outputs": []
    },
    {
      "cell_type": "code",
      "metadata": {
        "colab": {
          "base_uri": "https://localhost:8080/"
        },
        "id": "cwzH3d2vJyMU",
        "outputId": "3810224a-9c2f-42fb-81d2-d15bd13db6d4"
      },
      "source": [
        "z2"
      ],
      "execution_count": null,
      "outputs": [
        {
          "data": {
            "text/plain": [
              "<tf.Tensor: shape=(1, 2), dtype=float32, numpy=array([[0.6727071 , 0.32729295]], dtype=float32)>"
            ]
          },
          "execution_count": 47,
          "metadata": {},
          "output_type": "execute_result"
        }
      ]
    },
    {
      "cell_type": "code",
      "metadata": {
        "id": "Ta53hcpVJysw"
      },
      "source": [
        "model=tf.keras.models.Sequential([tf.keras.Input(shape=(4),)\n",
        "                                ,tf.keras.layers.Dense(4,activation=tf.nn.leaky_relu,kernel_initializer=tf.initializers.he_uniform(seed=42),name='layer 1'),\n",
        "                                 ])\n"
      ],
      "execution_count": null,
      "outputs": []
    },
    {
      "cell_type": "markdown",
      "metadata": {
        "id": "HwEFrXJBH6qw"
      },
      "source": [
        "##final"
      ]
    },
    {
      "cell_type": "code",
      "metadata": {
        "id": "19Rn4LveH11p"
      },
      "source": [
        "import tensorflow as tf\n",
        "import numpy as np\n",
        "import matplotlib.pyplot as plt\n",
        "from sklearn import metrics,model_selection,preprocessing"
      ],
      "execution_count": null,
      "outputs": []
    },
    {
      "cell_type": "code",
      "metadata": {
        "colab": {
          "background_save": true
        },
        "id": "abB7e-sWIq28",
        "outputId": "09ffef91-6363-4a6b-b7d7-e0734daef807"
      },
      "source": [
        "data=tf.keras.datasets.fashion_mnist.load_data()"
      ],
      "execution_count": null,
      "outputs": [
        {
          "name": "stdout",
          "output_type": "stream",
          "text": [
            "Downloading data from https://storage.googleapis.com/tensorflow/tf-keras-datasets/train-labels-idx1-ubyte.gz\n",
            "32768/29515 [=================================] - 0s 0us/step\n",
            "40960/29515 [=========================================] - 0s 0us/step\n",
            "Downloading data from https://storage.googleapis.com/tensorflow/tf-keras-datasets/train-images-idx3-ubyte.gz\n",
            "26427392/26421880 [==============================] - 0s 0us/step\n",
            "26435584/26421880 [==============================] - 0s 0us/step\n",
            "Downloading data from https://storage.googleapis.com/tensorflow/tf-keras-datasets/t10k-labels-idx1-ubyte.gz\n",
            "16384/5148 [===============================================================================================] - 0s 0us/step\n",
            "Downloading data from https://storage.googleapis.com/tensorflow/tf-keras-datasets/t10k-images-idx3-ubyte.gz\n",
            "4423680/4422102 [==============================] - 0s 0us/step\n",
            "4431872/4422102 [==============================] - 0s 0us/step\n"
          ]
        }
      ]
    },
    {
      "cell_type": "markdown",
      "metadata": {
        "id": "dwXctJzwyYsJ"
      },
      "source": [
        "#kaggle"
      ]
    },
    {
      "cell_type": "code",
      "metadata": {
        "id": "JaQZlvvYyf9l"
      },
      "source": [
        "!mkdir ~/.kaggle"
      ],
      "execution_count": null,
      "outputs": []
    },
    {
      "cell_type": "code",
      "metadata": {
        "id": "RsRBBf5oym3_"
      },
      "source": [
        "!cp kaggle.json ~/.kaggle"
      ],
      "execution_count": null,
      "outputs": []
    },
    {
      "cell_type": "code",
      "metadata": {
        "id": "nHcbjaxJ0P1a"
      },
      "source": [
        "! chmod 600 ~/.kaggle/kaggle.json"
      ],
      "execution_count": null,
      "outputs": []
    },
    {
      "cell_type": "code",
      "metadata": {
        "colab": {
          "base_uri": "https://localhost:8080/"
        },
        "id": "V7THspxizDmz",
        "outputId": "996e7656-ba89-4c34-86a0-d2932904db71"
      },
      "source": [
        "!kaggle datasets download andrewmvd/heart-failure-clinical-data"
      ],
      "execution_count": null,
      "outputs": [
        {
          "output_type": "stream",
          "name": "stdout",
          "text": [
            "Downloading heart-failure-clinical-data.zip to /content\n",
            "\r  0% 0.00/3.97k [00:00<?, ?B/s]\n",
            "\r100% 3.97k/3.97k [00:00<00:00, 6.40MB/s]\n"
          ]
        }
      ]
    },
    {
      "cell_type": "code",
      "metadata": {
        "colab": {
          "base_uri": "https://localhost:8080/"
        },
        "id": "S030_y-uzsXU",
        "outputId": "d57f46ef-13c5-4275-db70-ebed915c39d0"
      },
      "source": [
        "!unzip '/content/heart-failure-clinical-data.zip'"
      ],
      "execution_count": null,
      "outputs": [
        {
          "output_type": "stream",
          "name": "stdout",
          "text": [
            "Archive:  /content/heart-failure-clinical-data.zip\n",
            "  inflating: heart_failure_clinical_records_dataset.csv  \n"
          ]
        }
      ]
    },
    {
      "cell_type": "code",
      "metadata": {
        "colab": {
          "base_uri": "https://localhost:8080/",
          "height": 226
        },
        "id": "x_iP6xUH05u3",
        "outputId": "3653d54d-db09-451e-e6ef-baac275f6afc"
      },
      "source": [
        "import pandas as pd\n",
        "data=pd.read_csv('/content/heart_failure_clinical_records_dataset.csv')\n",
        "data.head()"
      ],
      "execution_count": null,
      "outputs": [
        {
          "output_type": "execute_result",
          "data": {
            "text/html": [
              "<div>\n",
              "<style scoped>\n",
              "    .dataframe tbody tr th:only-of-type {\n",
              "        vertical-align: middle;\n",
              "    }\n",
              "\n",
              "    .dataframe tbody tr th {\n",
              "        vertical-align: top;\n",
              "    }\n",
              "\n",
              "    .dataframe thead th {\n",
              "        text-align: right;\n",
              "    }\n",
              "</style>\n",
              "<table border=\"1\" class=\"dataframe\">\n",
              "  <thead>\n",
              "    <tr style=\"text-align: right;\">\n",
              "      <th></th>\n",
              "      <th>age</th>\n",
              "      <th>anaemia</th>\n",
              "      <th>creatinine_phosphokinase</th>\n",
              "      <th>diabetes</th>\n",
              "      <th>ejection_fraction</th>\n",
              "      <th>high_blood_pressure</th>\n",
              "      <th>platelets</th>\n",
              "      <th>serum_creatinine</th>\n",
              "      <th>serum_sodium</th>\n",
              "      <th>sex</th>\n",
              "      <th>smoking</th>\n",
              "      <th>time</th>\n",
              "      <th>DEATH_EVENT</th>\n",
              "    </tr>\n",
              "  </thead>\n",
              "  <tbody>\n",
              "    <tr>\n",
              "      <th>0</th>\n",
              "      <td>75.0</td>\n",
              "      <td>0</td>\n",
              "      <td>582</td>\n",
              "      <td>0</td>\n",
              "      <td>20</td>\n",
              "      <td>1</td>\n",
              "      <td>265000.00</td>\n",
              "      <td>1.9</td>\n",
              "      <td>130</td>\n",
              "      <td>1</td>\n",
              "      <td>0</td>\n",
              "      <td>4</td>\n",
              "      <td>1</td>\n",
              "    </tr>\n",
              "    <tr>\n",
              "      <th>1</th>\n",
              "      <td>55.0</td>\n",
              "      <td>0</td>\n",
              "      <td>7861</td>\n",
              "      <td>0</td>\n",
              "      <td>38</td>\n",
              "      <td>0</td>\n",
              "      <td>263358.03</td>\n",
              "      <td>1.1</td>\n",
              "      <td>136</td>\n",
              "      <td>1</td>\n",
              "      <td>0</td>\n",
              "      <td>6</td>\n",
              "      <td>1</td>\n",
              "    </tr>\n",
              "    <tr>\n",
              "      <th>2</th>\n",
              "      <td>65.0</td>\n",
              "      <td>0</td>\n",
              "      <td>146</td>\n",
              "      <td>0</td>\n",
              "      <td>20</td>\n",
              "      <td>0</td>\n",
              "      <td>162000.00</td>\n",
              "      <td>1.3</td>\n",
              "      <td>129</td>\n",
              "      <td>1</td>\n",
              "      <td>1</td>\n",
              "      <td>7</td>\n",
              "      <td>1</td>\n",
              "    </tr>\n",
              "    <tr>\n",
              "      <th>3</th>\n",
              "      <td>50.0</td>\n",
              "      <td>1</td>\n",
              "      <td>111</td>\n",
              "      <td>0</td>\n",
              "      <td>20</td>\n",
              "      <td>0</td>\n",
              "      <td>210000.00</td>\n",
              "      <td>1.9</td>\n",
              "      <td>137</td>\n",
              "      <td>1</td>\n",
              "      <td>0</td>\n",
              "      <td>7</td>\n",
              "      <td>1</td>\n",
              "    </tr>\n",
              "    <tr>\n",
              "      <th>4</th>\n",
              "      <td>65.0</td>\n",
              "      <td>1</td>\n",
              "      <td>160</td>\n",
              "      <td>1</td>\n",
              "      <td>20</td>\n",
              "      <td>0</td>\n",
              "      <td>327000.00</td>\n",
              "      <td>2.7</td>\n",
              "      <td>116</td>\n",
              "      <td>0</td>\n",
              "      <td>0</td>\n",
              "      <td>8</td>\n",
              "      <td>1</td>\n",
              "    </tr>\n",
              "  </tbody>\n",
              "</table>\n",
              "</div>"
            ],
            "text/plain": [
              "    age  anaemia  creatinine_phosphokinase  ...  smoking  time  DEATH_EVENT\n",
              "0  75.0        0                       582  ...        0     4            1\n",
              "1  55.0        0                      7861  ...        0     6            1\n",
              "2  65.0        0                       146  ...        1     7            1\n",
              "3  50.0        1                       111  ...        0     7            1\n",
              "4  65.0        1                       160  ...        0     8            1\n",
              "\n",
              "[5 rows x 13 columns]"
            ]
          },
          "metadata": {},
          "execution_count": 9
        }
      ]
    },
    {
      "cell_type": "code",
      "metadata": {
        "id": "rZuYTmsH1Hgl"
      },
      "source": [
        ""
      ],
      "execution_count": null,
      "outputs": []
    }
  ]
}